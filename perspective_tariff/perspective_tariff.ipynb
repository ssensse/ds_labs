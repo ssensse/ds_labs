{
 "cells": [
  {
   "cell_type": "markdown",
   "metadata": {},
   "source": [
    "# Определение перспективного тарифа для телеком-компании\n",
    "Вы аналитик компании «Мегалайн» — федерального оператора сотовой связи. Клиентам предлагают два тарифных плана: «Смарт» и «Ультра». Чтобы скорректировать рекламный бюджет, коммерческий департамент хочет понять, какой тариф приносит больше денег.\n",
    "Вам предстоит сделать предварительный анализ тарифов на небольшой выборке клиентов. В вашем распоряжении данные 500 пользователей «Мегалайна»: кто они, откуда, каким тарифом пользуются, сколько звонков и сообщений каждый отправил за 2018 год. Нужно проанализировать поведение клиентов и сделать вывод — какой тариф лучше."
   ]
  },
  {
   "cell_type": "markdown",
   "metadata": {},
   "source": [
    "## Изучение данных из файла"
   ]
  },
  {
   "cell_type": "markdown",
   "metadata": {},
   "source": [
    "У нас в наличии 5 таблиц с данными. Посмотрим за что отвечает каждая."
   ]
  },
  {
   "cell_type": "markdown",
   "metadata": {},
   "source": [
    "### Таблица <b>calls</b>:"
   ]
  },
  {
   "cell_type": "code",
   "execution_count": 1,
   "metadata": {},
   "outputs": [
    {
     "data": {
      "text/html": [
       "<div>\n",
       "<style scoped>\n",
       "    .dataframe tbody tr th:only-of-type {\n",
       "        vertical-align: middle;\n",
       "    }\n",
       "\n",
       "    .dataframe tbody tr th {\n",
       "        vertical-align: top;\n",
       "    }\n",
       "\n",
       "    .dataframe thead th {\n",
       "        text-align: right;\n",
       "    }\n",
       "</style>\n",
       "<table border=\"1\" class=\"dataframe\">\n",
       "  <thead>\n",
       "    <tr style=\"text-align: right;\">\n",
       "      <th></th>\n",
       "      <th>id</th>\n",
       "      <th>call_date</th>\n",
       "      <th>duration</th>\n",
       "      <th>user_id</th>\n",
       "    </tr>\n",
       "  </thead>\n",
       "  <tbody>\n",
       "    <tr>\n",
       "      <td>0</td>\n",
       "      <td>1000_0</td>\n",
       "      <td>2018-07-25</td>\n",
       "      <td>0.00</td>\n",
       "      <td>1000</td>\n",
       "    </tr>\n",
       "    <tr>\n",
       "      <td>1</td>\n",
       "      <td>1000_1</td>\n",
       "      <td>2018-08-17</td>\n",
       "      <td>0.00</td>\n",
       "      <td>1000</td>\n",
       "    </tr>\n",
       "    <tr>\n",
       "      <td>2</td>\n",
       "      <td>1000_2</td>\n",
       "      <td>2018-06-11</td>\n",
       "      <td>2.85</td>\n",
       "      <td>1000</td>\n",
       "    </tr>\n",
       "    <tr>\n",
       "      <td>3</td>\n",
       "      <td>1000_3</td>\n",
       "      <td>2018-09-21</td>\n",
       "      <td>13.80</td>\n",
       "      <td>1000</td>\n",
       "    </tr>\n",
       "    <tr>\n",
       "      <td>4</td>\n",
       "      <td>1000_4</td>\n",
       "      <td>2018-12-15</td>\n",
       "      <td>5.18</td>\n",
       "      <td>1000</td>\n",
       "    </tr>\n",
       "    <tr>\n",
       "      <td>5</td>\n",
       "      <td>1000_5</td>\n",
       "      <td>2018-11-02</td>\n",
       "      <td>0.00</td>\n",
       "      <td>1000</td>\n",
       "    </tr>\n",
       "    <tr>\n",
       "      <td>6</td>\n",
       "      <td>1000_6</td>\n",
       "      <td>2018-10-18</td>\n",
       "      <td>0.00</td>\n",
       "      <td>1000</td>\n",
       "    </tr>\n",
       "    <tr>\n",
       "      <td>7</td>\n",
       "      <td>1000_7</td>\n",
       "      <td>2018-08-22</td>\n",
       "      <td>18.31</td>\n",
       "      <td>1000</td>\n",
       "    </tr>\n",
       "    <tr>\n",
       "      <td>8</td>\n",
       "      <td>1000_8</td>\n",
       "      <td>2018-09-15</td>\n",
       "      <td>18.44</td>\n",
       "      <td>1000</td>\n",
       "    </tr>\n",
       "    <tr>\n",
       "      <td>9</td>\n",
       "      <td>1000_9</td>\n",
       "      <td>2018-08-15</td>\n",
       "      <td>0.00</td>\n",
       "      <td>1000</td>\n",
       "    </tr>\n",
       "  </tbody>\n",
       "</table>\n",
       "</div>"
      ],
      "text/plain": [
       "       id   call_date  duration  user_id\n",
       "0  1000_0  2018-07-25      0.00     1000\n",
       "1  1000_1  2018-08-17      0.00     1000\n",
       "2  1000_2  2018-06-11      2.85     1000\n",
       "3  1000_3  2018-09-21     13.80     1000\n",
       "4  1000_4  2018-12-15      5.18     1000\n",
       "5  1000_5  2018-11-02      0.00     1000\n",
       "6  1000_6  2018-10-18      0.00     1000\n",
       "7  1000_7  2018-08-22     18.31     1000\n",
       "8  1000_8  2018-09-15     18.44     1000\n",
       "9  1000_9  2018-08-15      0.00     1000"
      ]
     },
     "execution_count": 1,
     "metadata": {},
     "output_type": "execute_result"
    }
   ],
   "source": [
    "import pandas as pd\n",
    "\n",
    "calls = pd.read_csv('/datasets/calls.csv')\n",
    "calls.head(10)"
   ]
  },
  {
   "cell_type": "code",
   "execution_count": 2,
   "metadata": {},
   "outputs": [
    {
     "name": "stdout",
     "output_type": "stream",
     "text": [
      "<class 'pandas.core.frame.DataFrame'>\n",
      "RangeIndex: 202607 entries, 0 to 202606\n",
      "Data columns (total 4 columns):\n",
      "id           202607 non-null object\n",
      "call_date    202607 non-null object\n",
      "duration     202607 non-null float64\n",
      "user_id      202607 non-null int64\n",
      "dtypes: float64(1), int64(1), object(2)\n",
      "memory usage: 6.2+ MB\n"
     ]
    }
   ],
   "source": [
    "calls.info()"
   ]
  },
  {
   "cell_type": "markdown",
   "metadata": {},
   "source": [
    "Таблица calls (информация об интернет-сессиях):\n",
    "<ul>\n",
    "    <li><i>id</i> - уникальный номер звонка\n",
    "    <li><i>call_date</i> - дата звонка\n",
    "    <li><i>duration</i> - длительность звонка в минутах\n",
    "    <li><i>user_id</i> - идентификатор пользователя\n",
    "</ul>"
   ]
  },
  {
   "cell_type": "markdown",
   "metadata": {},
   "source": [
    "### Таблица <b>internet</b>"
   ]
  },
  {
   "cell_type": "code",
   "execution_count": 3,
   "metadata": {},
   "outputs": [
    {
     "data": {
      "text/html": [
       "<div>\n",
       "<style scoped>\n",
       "    .dataframe tbody tr th:only-of-type {\n",
       "        vertical-align: middle;\n",
       "    }\n",
       "\n",
       "    .dataframe tbody tr th {\n",
       "        vertical-align: top;\n",
       "    }\n",
       "\n",
       "    .dataframe thead th {\n",
       "        text-align: right;\n",
       "    }\n",
       "</style>\n",
       "<table border=\"1\" class=\"dataframe\">\n",
       "  <thead>\n",
       "    <tr style=\"text-align: right;\">\n",
       "      <th></th>\n",
       "      <th>id</th>\n",
       "      <th>mb_used</th>\n",
       "      <th>session_date</th>\n",
       "      <th>user_id</th>\n",
       "    </tr>\n",
       "  </thead>\n",
       "  <tbody>\n",
       "    <tr>\n",
       "      <td>0</td>\n",
       "      <td>1000_0</td>\n",
       "      <td>112.95</td>\n",
       "      <td>2018-11-25</td>\n",
       "      <td>1000</td>\n",
       "    </tr>\n",
       "    <tr>\n",
       "      <td>1</td>\n",
       "      <td>1000_1</td>\n",
       "      <td>1052.81</td>\n",
       "      <td>2018-09-07</td>\n",
       "      <td>1000</td>\n",
       "    </tr>\n",
       "    <tr>\n",
       "      <td>2</td>\n",
       "      <td>1000_2</td>\n",
       "      <td>1197.26</td>\n",
       "      <td>2018-06-25</td>\n",
       "      <td>1000</td>\n",
       "    </tr>\n",
       "    <tr>\n",
       "      <td>3</td>\n",
       "      <td>1000_3</td>\n",
       "      <td>550.27</td>\n",
       "      <td>2018-08-22</td>\n",
       "      <td>1000</td>\n",
       "    </tr>\n",
       "    <tr>\n",
       "      <td>4</td>\n",
       "      <td>1000_4</td>\n",
       "      <td>302.56</td>\n",
       "      <td>2018-09-24</td>\n",
       "      <td>1000</td>\n",
       "    </tr>\n",
       "    <tr>\n",
       "      <td>5</td>\n",
       "      <td>1000_5</td>\n",
       "      <td>399.97</td>\n",
       "      <td>2018-10-02</td>\n",
       "      <td>1000</td>\n",
       "    </tr>\n",
       "    <tr>\n",
       "      <td>6</td>\n",
       "      <td>1000_6</td>\n",
       "      <td>540.08</td>\n",
       "      <td>2018-09-07</td>\n",
       "      <td>1000</td>\n",
       "    </tr>\n",
       "    <tr>\n",
       "      <td>7</td>\n",
       "      <td>1000_7</td>\n",
       "      <td>415.70</td>\n",
       "      <td>2018-07-11</td>\n",
       "      <td>1000</td>\n",
       "    </tr>\n",
       "    <tr>\n",
       "      <td>8</td>\n",
       "      <td>1000_8</td>\n",
       "      <td>505.40</td>\n",
       "      <td>2018-10-08</td>\n",
       "      <td>1000</td>\n",
       "    </tr>\n",
       "    <tr>\n",
       "      <td>9</td>\n",
       "      <td>1000_9</td>\n",
       "      <td>345.54</td>\n",
       "      <td>2018-09-03</td>\n",
       "      <td>1000</td>\n",
       "    </tr>\n",
       "  </tbody>\n",
       "</table>\n",
       "</div>"
      ],
      "text/plain": [
       "       id  mb_used session_date  user_id\n",
       "0  1000_0   112.95   2018-11-25     1000\n",
       "1  1000_1  1052.81   2018-09-07     1000\n",
       "2  1000_2  1197.26   2018-06-25     1000\n",
       "3  1000_3   550.27   2018-08-22     1000\n",
       "4  1000_4   302.56   2018-09-24     1000\n",
       "5  1000_5   399.97   2018-10-02     1000\n",
       "6  1000_6   540.08   2018-09-07     1000\n",
       "7  1000_7   415.70   2018-07-11     1000\n",
       "8  1000_8   505.40   2018-10-08     1000\n",
       "9  1000_9   345.54   2018-09-03     1000"
      ]
     },
     "execution_count": 3,
     "metadata": {},
     "output_type": "execute_result"
    }
   ],
   "source": [
    "internet = pd.read_csv('/datasets/internet.csv', index_col=0)\n",
    "internet.head(10)"
   ]
  },
  {
   "cell_type": "markdown",
   "metadata": {},
   "source": [
    "<div class=\"alert-warning\">\n",
    "<b>Комментарий ревьюера ⚠️</b>\n",
    "    \n",
    "`Unnamed: 0` возникает, когда данные сохраняют с указанием индекса `pd.DataFrame().to_csv(..., index=column)`. Если при чтении указать этот столбец `pd.read_csv(..., index_col=0)` - данные сразу прочитаются корректно.</div>"
   ]
  },
  {
   "cell_type": "markdown",
   "metadata": {},
   "source": [
    "<div class=\"alert-info\">\n",
    "<b>Комментарий студента</b><p>Добавлено</p>"
   ]
  },
  {
   "cell_type": "code",
   "execution_count": 4,
   "metadata": {},
   "outputs": [
    {
     "name": "stdout",
     "output_type": "stream",
     "text": [
      "<class 'pandas.core.frame.DataFrame'>\n",
      "Int64Index: 149396 entries, 0 to 149395\n",
      "Data columns (total 4 columns):\n",
      "id              149396 non-null object\n",
      "mb_used         149396 non-null float64\n",
      "session_date    149396 non-null object\n",
      "user_id         149396 non-null int64\n",
      "dtypes: float64(1), int64(1), object(2)\n",
      "memory usage: 5.7+ MB\n"
     ]
    }
   ],
   "source": [
    "internet.info()"
   ]
  },
  {
   "cell_type": "markdown",
   "metadata": {},
   "source": [
    "Таблица internet (информация об интернет-сессиях):\n",
    "<ul>\n",
    "    <li><i>id</i> - уникальный номер сессии\n",
    "    <li><i>mb_used</i> - объём потраченного за сессию интернет-трафика (в мегабайтах)\n",
    "    <li><i>session_date</i> - дата интернет-сессии\n",
    "    <li><i>user_id</i> - идентификатор пользователя\n",
    "</ul>"
   ]
  },
  {
   "cell_type": "markdown",
   "metadata": {},
   "source": [
    "### Таблица <b>messages</b>:"
   ]
  },
  {
   "cell_type": "code",
   "execution_count": 5,
   "metadata": {},
   "outputs": [
    {
     "data": {
      "text/html": [
       "<div>\n",
       "<style scoped>\n",
       "    .dataframe tbody tr th:only-of-type {\n",
       "        vertical-align: middle;\n",
       "    }\n",
       "\n",
       "    .dataframe tbody tr th {\n",
       "        vertical-align: top;\n",
       "    }\n",
       "\n",
       "    .dataframe thead th {\n",
       "        text-align: right;\n",
       "    }\n",
       "</style>\n",
       "<table border=\"1\" class=\"dataframe\">\n",
       "  <thead>\n",
       "    <tr style=\"text-align: right;\">\n",
       "      <th></th>\n",
       "      <th>id</th>\n",
       "      <th>message_date</th>\n",
       "      <th>user_id</th>\n",
       "    </tr>\n",
       "  </thead>\n",
       "  <tbody>\n",
       "    <tr>\n",
       "      <td>0</td>\n",
       "      <td>1000_0</td>\n",
       "      <td>2018-06-27</td>\n",
       "      <td>1000</td>\n",
       "    </tr>\n",
       "    <tr>\n",
       "      <td>1</td>\n",
       "      <td>1000_1</td>\n",
       "      <td>2018-10-08</td>\n",
       "      <td>1000</td>\n",
       "    </tr>\n",
       "    <tr>\n",
       "      <td>2</td>\n",
       "      <td>1000_2</td>\n",
       "      <td>2018-08-04</td>\n",
       "      <td>1000</td>\n",
       "    </tr>\n",
       "    <tr>\n",
       "      <td>3</td>\n",
       "      <td>1000_3</td>\n",
       "      <td>2018-06-16</td>\n",
       "      <td>1000</td>\n",
       "    </tr>\n",
       "    <tr>\n",
       "      <td>4</td>\n",
       "      <td>1000_4</td>\n",
       "      <td>2018-12-05</td>\n",
       "      <td>1000</td>\n",
       "    </tr>\n",
       "    <tr>\n",
       "      <td>5</td>\n",
       "      <td>1000_5</td>\n",
       "      <td>2018-06-20</td>\n",
       "      <td>1000</td>\n",
       "    </tr>\n",
       "    <tr>\n",
       "      <td>6</td>\n",
       "      <td>1000_6</td>\n",
       "      <td>2018-11-19</td>\n",
       "      <td>1000</td>\n",
       "    </tr>\n",
       "    <tr>\n",
       "      <td>7</td>\n",
       "      <td>1000_7</td>\n",
       "      <td>2018-10-29</td>\n",
       "      <td>1000</td>\n",
       "    </tr>\n",
       "    <tr>\n",
       "      <td>8</td>\n",
       "      <td>1000_8</td>\n",
       "      <td>2018-06-25</td>\n",
       "      <td>1000</td>\n",
       "    </tr>\n",
       "    <tr>\n",
       "      <td>9</td>\n",
       "      <td>1000_9</td>\n",
       "      <td>2018-12-18</td>\n",
       "      <td>1000</td>\n",
       "    </tr>\n",
       "  </tbody>\n",
       "</table>\n",
       "</div>"
      ],
      "text/plain": [
       "       id message_date  user_id\n",
       "0  1000_0   2018-06-27     1000\n",
       "1  1000_1   2018-10-08     1000\n",
       "2  1000_2   2018-08-04     1000\n",
       "3  1000_3   2018-06-16     1000\n",
       "4  1000_4   2018-12-05     1000\n",
       "5  1000_5   2018-06-20     1000\n",
       "6  1000_6   2018-11-19     1000\n",
       "7  1000_7   2018-10-29     1000\n",
       "8  1000_8   2018-06-25     1000\n",
       "9  1000_9   2018-12-18     1000"
      ]
     },
     "execution_count": 5,
     "metadata": {},
     "output_type": "execute_result"
    }
   ],
   "source": [
    "messages = pd.read_csv('/datasets/messages.csv')\n",
    "messages.head(10)"
   ]
  },
  {
   "cell_type": "code",
   "execution_count": 6,
   "metadata": {},
   "outputs": [
    {
     "name": "stdout",
     "output_type": "stream",
     "text": [
      "<class 'pandas.core.frame.DataFrame'>\n",
      "RangeIndex: 123036 entries, 0 to 123035\n",
      "Data columns (total 3 columns):\n",
      "id              123036 non-null object\n",
      "message_date    123036 non-null object\n",
      "user_id         123036 non-null int64\n",
      "dtypes: int64(1), object(2)\n",
      "memory usage: 2.8+ MB\n"
     ]
    }
   ],
   "source": [
    "messages.info()"
   ]
  },
  {
   "cell_type": "markdown",
   "metadata": {},
   "source": [
    "Таблица messages (информация о сообщениях):\n",
    "<ul>\n",
    "    <li><i>id</i> — уникальный номер сообщения\n",
    "    <li><i>message_date</i> — дата сообщения\n",
    "    <li><i>user_id</i> — идентификатор пользователя, отправившего сообщение\n",
    "</ul>"
   ]
  },
  {
   "cell_type": "markdown",
   "metadata": {},
   "source": [
    "### Таблица <b>tariffs</b>:"
   ]
  },
  {
   "cell_type": "code",
   "execution_count": 7,
   "metadata": {},
   "outputs": [
    {
     "data": {
      "text/html": [
       "<div>\n",
       "<style scoped>\n",
       "    .dataframe tbody tr th:only-of-type {\n",
       "        vertical-align: middle;\n",
       "    }\n",
       "\n",
       "    .dataframe tbody tr th {\n",
       "        vertical-align: top;\n",
       "    }\n",
       "\n",
       "    .dataframe thead th {\n",
       "        text-align: right;\n",
       "    }\n",
       "</style>\n",
       "<table border=\"1\" class=\"dataframe\">\n",
       "  <thead>\n",
       "    <tr style=\"text-align: right;\">\n",
       "      <th></th>\n",
       "      <th>messages_included</th>\n",
       "      <th>mb_per_month_included</th>\n",
       "      <th>minutes_included</th>\n",
       "      <th>rub_monthly_fee</th>\n",
       "      <th>rub_per_gb</th>\n",
       "      <th>rub_per_message</th>\n",
       "      <th>rub_per_minute</th>\n",
       "      <th>tariff_name</th>\n",
       "    </tr>\n",
       "  </thead>\n",
       "  <tbody>\n",
       "    <tr>\n",
       "      <td>0</td>\n",
       "      <td>50</td>\n",
       "      <td>15360</td>\n",
       "      <td>500</td>\n",
       "      <td>550</td>\n",
       "      <td>200</td>\n",
       "      <td>3</td>\n",
       "      <td>3</td>\n",
       "      <td>smart</td>\n",
       "    </tr>\n",
       "    <tr>\n",
       "      <td>1</td>\n",
       "      <td>1000</td>\n",
       "      <td>30720</td>\n",
       "      <td>3000</td>\n",
       "      <td>1950</td>\n",
       "      <td>150</td>\n",
       "      <td>1</td>\n",
       "      <td>1</td>\n",
       "      <td>ultra</td>\n",
       "    </tr>\n",
       "  </tbody>\n",
       "</table>\n",
       "</div>"
      ],
      "text/plain": [
       "   messages_included  mb_per_month_included  minutes_included  \\\n",
       "0                 50                  15360               500   \n",
       "1               1000                  30720              3000   \n",
       "\n",
       "   rub_monthly_fee  rub_per_gb  rub_per_message  rub_per_minute tariff_name  \n",
       "0              550         200                3               3       smart  \n",
       "1             1950         150                1               1       ultra  "
      ]
     },
     "execution_count": 7,
     "metadata": {},
     "output_type": "execute_result"
    }
   ],
   "source": [
    "tariffs = pd.read_csv('/datasets/tariffs.csv')\n",
    "tariffs.head(10)"
   ]
  },
  {
   "cell_type": "code",
   "execution_count": 8,
   "metadata": {},
   "outputs": [
    {
     "name": "stdout",
     "output_type": "stream",
     "text": [
      "<class 'pandas.core.frame.DataFrame'>\n",
      "RangeIndex: 2 entries, 0 to 1\n",
      "Data columns (total 8 columns):\n",
      "messages_included        2 non-null int64\n",
      "mb_per_month_included    2 non-null int64\n",
      "minutes_included         2 non-null int64\n",
      "rub_monthly_fee          2 non-null int64\n",
      "rub_per_gb               2 non-null int64\n",
      "rub_per_message          2 non-null int64\n",
      "rub_per_minute           2 non-null int64\n",
      "tariff_name              2 non-null object\n",
      "dtypes: int64(7), object(1)\n",
      "memory usage: 256.0+ bytes\n"
     ]
    }
   ],
   "source": [
    "tariffs.info()"
   ]
  },
  {
   "cell_type": "markdown",
   "metadata": {},
   "source": [
    "Таблица tariffs (информация о тарифах):\n",
    "<ul>\n",
    "    <li><i>tariff_name</i> — название тарифа\n",
    "    <li><i>rub_monthly_fee</i> — ежемесячная абонентская плата в рублях\n",
    "    <li><i>minutes_included</i> — количество минут разговора в месяц, включённых в абонентскую плату\n",
    "    <li><i>messages_included</i> — количество сообщений в месяц, включённых в абонентскую плату\n",
    "    <li><i>mb_per_month_included</i> — объём интернет-трафика, включённого в абонентскую плату (в мегабайтах)\n",
    "    <li><i>rub_per_minute</i> — стоимость минуты разговора сверх тарифного пакета (например, если в тарифе 100 минут разговора в месяц, то со 101 минуты будет взиматься плата)\n",
    "    <li><i>rub_per_message</i> — стоимость отправки сообщения сверх тарифного пакета\n",
    "    <li><i>rub_per_gb</i> — стоимость дополнительного гигабайта интернет-трафика сверх тарифного пакета (1 гигабайт = 1024 мегабайта)\n",
    "</ul>"
   ]
  },
  {
   "cell_type": "markdown",
   "metadata": {},
   "source": [
    "### Таблица <b>users</b>:"
   ]
  },
  {
   "cell_type": "code",
   "execution_count": 9,
   "metadata": {},
   "outputs": [
    {
     "data": {
      "text/html": [
       "<div>\n",
       "<style scoped>\n",
       "    .dataframe tbody tr th:only-of-type {\n",
       "        vertical-align: middle;\n",
       "    }\n",
       "\n",
       "    .dataframe tbody tr th {\n",
       "        vertical-align: top;\n",
       "    }\n",
       "\n",
       "    .dataframe thead th {\n",
       "        text-align: right;\n",
       "    }\n",
       "</style>\n",
       "<table border=\"1\" class=\"dataframe\">\n",
       "  <thead>\n",
       "    <tr style=\"text-align: right;\">\n",
       "      <th></th>\n",
       "      <th>user_id</th>\n",
       "      <th>age</th>\n",
       "      <th>churn_date</th>\n",
       "      <th>city</th>\n",
       "      <th>first_name</th>\n",
       "      <th>last_name</th>\n",
       "      <th>reg_date</th>\n",
       "      <th>tariff</th>\n",
       "    </tr>\n",
       "  </thead>\n",
       "  <tbody>\n",
       "    <tr>\n",
       "      <td>0</td>\n",
       "      <td>1000</td>\n",
       "      <td>52</td>\n",
       "      <td>NaN</td>\n",
       "      <td>Краснодар</td>\n",
       "      <td>Рафаил</td>\n",
       "      <td>Верещагин</td>\n",
       "      <td>2018-05-25</td>\n",
       "      <td>ultra</td>\n",
       "    </tr>\n",
       "    <tr>\n",
       "      <td>1</td>\n",
       "      <td>1001</td>\n",
       "      <td>41</td>\n",
       "      <td>NaN</td>\n",
       "      <td>Москва</td>\n",
       "      <td>Иван</td>\n",
       "      <td>Ежов</td>\n",
       "      <td>2018-11-01</td>\n",
       "      <td>smart</td>\n",
       "    </tr>\n",
       "    <tr>\n",
       "      <td>2</td>\n",
       "      <td>1002</td>\n",
       "      <td>59</td>\n",
       "      <td>NaN</td>\n",
       "      <td>Стерлитамак</td>\n",
       "      <td>Евгений</td>\n",
       "      <td>Абрамович</td>\n",
       "      <td>2018-06-17</td>\n",
       "      <td>smart</td>\n",
       "    </tr>\n",
       "    <tr>\n",
       "      <td>3</td>\n",
       "      <td>1003</td>\n",
       "      <td>23</td>\n",
       "      <td>NaN</td>\n",
       "      <td>Москва</td>\n",
       "      <td>Белла</td>\n",
       "      <td>Белякова</td>\n",
       "      <td>2018-08-17</td>\n",
       "      <td>ultra</td>\n",
       "    </tr>\n",
       "    <tr>\n",
       "      <td>4</td>\n",
       "      <td>1004</td>\n",
       "      <td>68</td>\n",
       "      <td>NaN</td>\n",
       "      <td>Новокузнецк</td>\n",
       "      <td>Татьяна</td>\n",
       "      <td>Авдеенко</td>\n",
       "      <td>2018-05-14</td>\n",
       "      <td>ultra</td>\n",
       "    </tr>\n",
       "    <tr>\n",
       "      <td>5</td>\n",
       "      <td>1005</td>\n",
       "      <td>67</td>\n",
       "      <td>NaN</td>\n",
       "      <td>Набережные Челны</td>\n",
       "      <td>Афанасий</td>\n",
       "      <td>Горлов</td>\n",
       "      <td>2018-01-25</td>\n",
       "      <td>smart</td>\n",
       "    </tr>\n",
       "    <tr>\n",
       "      <td>6</td>\n",
       "      <td>1006</td>\n",
       "      <td>21</td>\n",
       "      <td>NaN</td>\n",
       "      <td>Ульяновск</td>\n",
       "      <td>Леонид</td>\n",
       "      <td>Ермолаев</td>\n",
       "      <td>2018-02-26</td>\n",
       "      <td>smart</td>\n",
       "    </tr>\n",
       "    <tr>\n",
       "      <td>7</td>\n",
       "      <td>1007</td>\n",
       "      <td>65</td>\n",
       "      <td>NaN</td>\n",
       "      <td>Москва</td>\n",
       "      <td>Юна</td>\n",
       "      <td>Березина</td>\n",
       "      <td>2018-04-19</td>\n",
       "      <td>smart</td>\n",
       "    </tr>\n",
       "    <tr>\n",
       "      <td>8</td>\n",
       "      <td>1008</td>\n",
       "      <td>63</td>\n",
       "      <td>NaN</td>\n",
       "      <td>Челябинск</td>\n",
       "      <td>Рустэм</td>\n",
       "      <td>Пономарёв</td>\n",
       "      <td>2018-12-19</td>\n",
       "      <td>smart</td>\n",
       "    </tr>\n",
       "    <tr>\n",
       "      <td>9</td>\n",
       "      <td>1009</td>\n",
       "      <td>24</td>\n",
       "      <td>NaN</td>\n",
       "      <td>Пермь</td>\n",
       "      <td>Василиса</td>\n",
       "      <td>Блинова</td>\n",
       "      <td>2018-03-22</td>\n",
       "      <td>smart</td>\n",
       "    </tr>\n",
       "  </tbody>\n",
       "</table>\n",
       "</div>"
      ],
      "text/plain": [
       "   user_id  age churn_date              city first_name  last_name  \\\n",
       "0     1000   52        NaN         Краснодар     Рафаил  Верещагин   \n",
       "1     1001   41        NaN            Москва       Иван       Ежов   \n",
       "2     1002   59        NaN       Стерлитамак    Евгений  Абрамович   \n",
       "3     1003   23        NaN            Москва      Белла   Белякова   \n",
       "4     1004   68        NaN       Новокузнецк    Татьяна   Авдеенко   \n",
       "5     1005   67        NaN  Набережные Челны   Афанасий     Горлов   \n",
       "6     1006   21        NaN         Ульяновск     Леонид   Ермолаев   \n",
       "7     1007   65        NaN            Москва        Юна   Березина   \n",
       "8     1008   63        NaN         Челябинск     Рустэм  Пономарёв   \n",
       "9     1009   24        NaN             Пермь   Василиса    Блинова   \n",
       "\n",
       "     reg_date tariff  \n",
       "0  2018-05-25  ultra  \n",
       "1  2018-11-01  smart  \n",
       "2  2018-06-17  smart  \n",
       "3  2018-08-17  ultra  \n",
       "4  2018-05-14  ultra  \n",
       "5  2018-01-25  smart  \n",
       "6  2018-02-26  smart  \n",
       "7  2018-04-19  smart  \n",
       "8  2018-12-19  smart  \n",
       "9  2018-03-22  smart  "
      ]
     },
     "execution_count": 9,
     "metadata": {},
     "output_type": "execute_result"
    }
   ],
   "source": [
    "users = pd.read_csv('/datasets/users.csv')\n",
    "users.head(10)"
   ]
  },
  {
   "cell_type": "code",
   "execution_count": 10,
   "metadata": {},
   "outputs": [
    {
     "name": "stdout",
     "output_type": "stream",
     "text": [
      "<class 'pandas.core.frame.DataFrame'>\n",
      "RangeIndex: 500 entries, 0 to 499\n",
      "Data columns (total 8 columns):\n",
      "user_id       500 non-null int64\n",
      "age           500 non-null int64\n",
      "churn_date    38 non-null object\n",
      "city          500 non-null object\n",
      "first_name    500 non-null object\n",
      "last_name     500 non-null object\n",
      "reg_date      500 non-null object\n",
      "tariff        500 non-null object\n",
      "dtypes: int64(2), object(6)\n",
      "memory usage: 31.4+ KB\n"
     ]
    }
   ],
   "source": [
    "users.info()"
   ]
  },
  {
   "cell_type": "markdown",
   "metadata": {},
   "source": [
    "Таблица users (информация о пользователях):\n",
    "<ul>\n",
    "    <li><i>user_id — уникальный идентификатор пользователя\n",
    "    <li><i>first_name — имя пользователя\n",
    "    <li><i>last_name — фамилия пользователя\n",
    "    <li><i>age — возраст пользователя (годы)\n",
    "    <li><i>reg_date — дата подключения тарифа (день, месяц, год)\n",
    "    <li><i>churn_date — дата прекращения пользования тарифом (если значение пропущено, то тариф ещё действовал на момент выгрузки данных)\n",
    "    <li><i>city — город проживания пользователя\n",
    "    <li><i>tariff — название тарифного плана\n"
   ]
  },
  {
   "cell_type": "markdown",
   "metadata": {},
   "source": [
    "<b>Вывод</b><br>\n",
    "В данных отсутствуют пропуски, тип столбцов с датой нужно изменить на соответствующий. В остальном, данные чистые."
   ]
  },
  {
   "cell_type": "markdown",
   "metadata": {},
   "source": [
    "## Подготовка данных"
   ]
  },
  {
   "cell_type": "markdown",
   "metadata": {},
   "source": [
    "### Предобработка данных"
   ]
  },
  {
   "cell_type": "markdown",
   "metadata": {},
   "source": [
    "Сразу проверим данные на наличие дубликатов:"
   ]
  },
  {
   "cell_type": "code",
   "execution_count": 11,
   "metadata": {},
   "outputs": [
    {
     "name": "stdout",
     "output_type": "stream",
     "text": [
      "Дубликатов в таблице users - 0\n",
      "Дубликатов в таблице calls - 0\n",
      "Дубликатов в таблице messages - 0\n",
      "Дубликатов в таблице internet - 0\n"
     ]
    }
   ],
   "source": [
    "print(f'Дубликатов в таблице users - {users.duplicated().sum()}')\n",
    "print(f'Дубликатов в таблице calls - {calls.duplicated().sum()}')\n",
    "print(f'Дубликатов в таблице messages - {messages.duplicated().sum()}')\n",
    "print(f'Дубликатов в таблице internet - {internet.duplicated().sum()}')"
   ]
  },
  {
   "cell_type": "markdown",
   "metadata": {},
   "source": [
    "Изменим тип столбцов с датой на дату:"
   ]
  },
  {
   "cell_type": "code",
   "execution_count": 12,
   "metadata": {},
   "outputs": [],
   "source": [
    "calls['call_date'] = pd.to_datetime(calls['call_date'], format='%Y-%m-%d')\n",
    "\n",
    "internet['session_date'] = pd.to_datetime(internet['session_date'], format='%Y-%m-%d')\n",
    "\n",
    "messages['message_date'] = pd.to_datetime(messages['message_date'], format='%Y-%m-%d')\n",
    "\n",
    "users['churn_date'] = pd.to_datetime(users['churn_date'], format='%Y-%m-%d')\n",
    "users['reg_date'] = pd.to_datetime(users['reg_date'], format='%Y-%m-%d')"
   ]
  },
  {
   "cell_type": "markdown",
   "metadata": {},
   "source": [
    "### Сводные таблицы"
   ]
  },
  {
   "cell_type": "markdown",
   "metadata": {},
   "source": [
    "#### Отдельные таблицы"
   ]
  },
  {
   "cell_type": "markdown",
   "metadata": {},
   "source": [
    "Сперва добавим в некоторые таблицы по столбцу с индексом месяца к каждой записи. Они пригодятся в будущем."
   ]
  },
  {
   "cell_type": "code",
   "execution_count": 13,
   "metadata": {},
   "outputs": [],
   "source": [
    "calls['month'] = pd.DatetimeIndex(calls['call_date']).month\n",
    "messages['month'] = pd.DatetimeIndex(messages['message_date']).month\n",
    "internet['month'] = pd.DatetimeIndex(internet['session_date']).month"
   ]
  },
  {
   "cell_type": "markdown",
   "metadata": {},
   "source": [
    "Посчитаем количество сделанных звонков и израсходованных минут каждым пользователем по месяцам. Создадим сводную таблицу."
   ]
  },
  {
   "cell_type": "code",
   "execution_count": 14,
   "metadata": {},
   "outputs": [
    {
     "data": {
      "text/html": [
       "<div>\n",
       "<style scoped>\n",
       "    .dataframe tbody tr th:only-of-type {\n",
       "        vertical-align: middle;\n",
       "    }\n",
       "\n",
       "    .dataframe tbody tr th {\n",
       "        vertical-align: top;\n",
       "    }\n",
       "\n",
       "    .dataframe thead th {\n",
       "        text-align: right;\n",
       "    }\n",
       "</style>\n",
       "<table border=\"1\" class=\"dataframe\">\n",
       "  <thead>\n",
       "    <tr style=\"text-align: right;\">\n",
       "      <th></th>\n",
       "      <th></th>\n",
       "      <th>minutes</th>\n",
       "      <th>calls_quantity</th>\n",
       "    </tr>\n",
       "    <tr>\n",
       "      <th>user_id</th>\n",
       "      <th>month</th>\n",
       "      <th></th>\n",
       "      <th></th>\n",
       "    </tr>\n",
       "  </thead>\n",
       "  <tbody>\n",
       "    <tr>\n",
       "      <td rowspan=\"5\" valign=\"top\">1000</td>\n",
       "      <td>5</td>\n",
       "      <td>150.06</td>\n",
       "      <td>22</td>\n",
       "    </tr>\n",
       "    <tr>\n",
       "      <td>6</td>\n",
       "      <td>158.90</td>\n",
       "      <td>43</td>\n",
       "    </tr>\n",
       "    <tr>\n",
       "      <td>7</td>\n",
       "      <td>318.80</td>\n",
       "      <td>47</td>\n",
       "    </tr>\n",
       "    <tr>\n",
       "      <td>8</td>\n",
       "      <td>389.87</td>\n",
       "      <td>52</td>\n",
       "    </tr>\n",
       "    <tr>\n",
       "      <td>9</td>\n",
       "      <td>440.14</td>\n",
       "      <td>58</td>\n",
       "    </tr>\n",
       "    <tr>\n",
       "      <td>...</td>\n",
       "      <td>...</td>\n",
       "      <td>...</td>\n",
       "      <td>...</td>\n",
       "    </tr>\n",
       "    <tr>\n",
       "      <td>1498</td>\n",
       "      <td>10</td>\n",
       "      <td>232.63</td>\n",
       "      <td>41</td>\n",
       "    </tr>\n",
       "    <tr>\n",
       "      <td rowspan=\"4\" valign=\"top\">1499</td>\n",
       "      <td>9</td>\n",
       "      <td>64.65</td>\n",
       "      <td>9</td>\n",
       "    </tr>\n",
       "    <tr>\n",
       "      <td>10</td>\n",
       "      <td>429.91</td>\n",
       "      <td>68</td>\n",
       "    </tr>\n",
       "    <tr>\n",
       "      <td>11</td>\n",
       "      <td>576.50</td>\n",
       "      <td>74</td>\n",
       "    </tr>\n",
       "    <tr>\n",
       "      <td>12</td>\n",
       "      <td>465.16</td>\n",
       "      <td>69</td>\n",
       "    </tr>\n",
       "  </tbody>\n",
       "</table>\n",
       "<p>3174 rows × 2 columns</p>\n",
       "</div>"
      ],
      "text/plain": [
       "               minutes  calls_quantity\n",
       "user_id month                         \n",
       "1000    5       150.06              22\n",
       "        6       158.90              43\n",
       "        7       318.80              47\n",
       "        8       389.87              52\n",
       "        9       440.14              58\n",
       "...                ...             ...\n",
       "1498    10      232.63              41\n",
       "1499    9        64.65               9\n",
       "        10      429.91              68\n",
       "        11      576.50              74\n",
       "        12      465.16              69\n",
       "\n",
       "[3174 rows x 2 columns]"
      ]
     },
     "execution_count": 14,
     "metadata": {},
     "output_type": "execute_result"
    }
   ],
   "source": [
    "calls_pivot = (calls[['user_id','duration', 'month']].pivot_table(index=['user_id', 'month'],\n",
    "                                                                  values='duration', \n",
    "                                                                  aggfunc=['sum', 'count']))\n",
    "calls_pivot.columns = ['minutes', 'calls_quantity']\n",
    "calls_pivot"
   ]
  },
  {
   "cell_type": "markdown",
   "metadata": {},
   "source": [
    "Посчитаем количество отправленных сообщений по месяцам."
   ]
  },
  {
   "cell_type": "code",
   "execution_count": 15,
   "metadata": {},
   "outputs": [
    {
     "data": {
      "text/html": [
       "<div>\n",
       "<style scoped>\n",
       "    .dataframe tbody tr th:only-of-type {\n",
       "        vertical-align: middle;\n",
       "    }\n",
       "\n",
       "    .dataframe tbody tr th {\n",
       "        vertical-align: top;\n",
       "    }\n",
       "\n",
       "    .dataframe thead th {\n",
       "        text-align: right;\n",
       "    }\n",
       "</style>\n",
       "<table border=\"1\" class=\"dataframe\">\n",
       "  <thead>\n",
       "    <tr style=\"text-align: right;\">\n",
       "      <th></th>\n",
       "      <th></th>\n",
       "      <th>messages</th>\n",
       "    </tr>\n",
       "    <tr>\n",
       "      <th>user_id</th>\n",
       "      <th>month</th>\n",
       "      <th></th>\n",
       "    </tr>\n",
       "  </thead>\n",
       "  <tbody>\n",
       "    <tr>\n",
       "      <td rowspan=\"5\" valign=\"top\">1000</td>\n",
       "      <td>5</td>\n",
       "      <td>22</td>\n",
       "    </tr>\n",
       "    <tr>\n",
       "      <td>6</td>\n",
       "      <td>60</td>\n",
       "    </tr>\n",
       "    <tr>\n",
       "      <td>7</td>\n",
       "      <td>75</td>\n",
       "    </tr>\n",
       "    <tr>\n",
       "      <td>8</td>\n",
       "      <td>81</td>\n",
       "    </tr>\n",
       "    <tr>\n",
       "      <td>9</td>\n",
       "      <td>57</td>\n",
       "    </tr>\n",
       "    <tr>\n",
       "      <td>...</td>\n",
       "      <td>...</td>\n",
       "      <td>...</td>\n",
       "    </tr>\n",
       "    <tr>\n",
       "      <td>1498</td>\n",
       "      <td>10</td>\n",
       "      <td>42</td>\n",
       "    </tr>\n",
       "    <tr>\n",
       "      <td rowspan=\"4\" valign=\"top\">1499</td>\n",
       "      <td>9</td>\n",
       "      <td>11</td>\n",
       "    </tr>\n",
       "    <tr>\n",
       "      <td>10</td>\n",
       "      <td>48</td>\n",
       "    </tr>\n",
       "    <tr>\n",
       "      <td>11</td>\n",
       "      <td>59</td>\n",
       "    </tr>\n",
       "    <tr>\n",
       "      <td>12</td>\n",
       "      <td>66</td>\n",
       "    </tr>\n",
       "  </tbody>\n",
       "</table>\n",
       "<p>2717 rows × 1 columns</p>\n",
       "</div>"
      ],
      "text/plain": [
       "               messages\n",
       "user_id month          \n",
       "1000    5            22\n",
       "        6            60\n",
       "        7            75\n",
       "        8            81\n",
       "        9            57\n",
       "...                 ...\n",
       "1498    10           42\n",
       "1499    9            11\n",
       "        10           48\n",
       "        11           59\n",
       "        12           66\n",
       "\n",
       "[2717 rows x 1 columns]"
      ]
     },
     "execution_count": 15,
     "metadata": {},
     "output_type": "execute_result"
    }
   ],
   "source": [
    "messages_pivot = (messages[['user_id','month', 'message_date']].pivot_table(index=['user_id', 'month'],\n",
    "                                                                            values='message_date',\n",
    "                                                                            aggfunc='count'))\n",
    "messages_pivot = messages_pivot.fillna(0)\n",
    "messages_pivot.columns=['messages']\n",
    "messages_pivot"
   ]
  },
  {
   "cell_type": "markdown",
   "metadata": {},
   "source": [
    "Посчитаем объем израсходанного интернет-траффика по месяцам."
   ]
  },
  {
   "cell_type": "code",
   "execution_count": 16,
   "metadata": {},
   "outputs": [
    {
     "data": {
      "text/html": [
       "<div>\n",
       "<style scoped>\n",
       "    .dataframe tbody tr th:only-of-type {\n",
       "        vertical-align: middle;\n",
       "    }\n",
       "\n",
       "    .dataframe tbody tr th {\n",
       "        vertical-align: top;\n",
       "    }\n",
       "\n",
       "    .dataframe thead th {\n",
       "        text-align: right;\n",
       "    }\n",
       "</style>\n",
       "<table border=\"1\" class=\"dataframe\">\n",
       "  <thead>\n",
       "    <tr style=\"text-align: right;\">\n",
       "      <th></th>\n",
       "      <th></th>\n",
       "      <th>gb_used</th>\n",
       "      <th>sessions</th>\n",
       "    </tr>\n",
       "    <tr>\n",
       "      <th>user_id</th>\n",
       "      <th>month</th>\n",
       "      <th></th>\n",
       "      <th></th>\n",
       "    </tr>\n",
       "  </thead>\n",
       "  <tbody>\n",
       "    <tr>\n",
       "      <td rowspan=\"5\" valign=\"top\">1000</td>\n",
       "      <td>5</td>\n",
       "      <td>2.200674</td>\n",
       "      <td>5</td>\n",
       "    </tr>\n",
       "    <tr>\n",
       "      <td>6</td>\n",
       "      <td>22.689229</td>\n",
       "      <td>49</td>\n",
       "    </tr>\n",
       "    <tr>\n",
       "      <td>7</td>\n",
       "      <td>13.675430</td>\n",
       "      <td>29</td>\n",
       "    </tr>\n",
       "    <tr>\n",
       "      <td>8</td>\n",
       "      <td>13.726494</td>\n",
       "      <td>29</td>\n",
       "    </tr>\n",
       "    <tr>\n",
       "      <td>9</td>\n",
       "      <td>14.227451</td>\n",
       "      <td>27</td>\n",
       "    </tr>\n",
       "    <tr>\n",
       "      <td>...</td>\n",
       "      <td>...</td>\n",
       "      <td>...</td>\n",
       "      <td>...</td>\n",
       "    </tr>\n",
       "    <tr>\n",
       "      <td>1498</td>\n",
       "      <td>10</td>\n",
       "      <td>20.097031</td>\n",
       "      <td>59</td>\n",
       "    </tr>\n",
       "    <tr>\n",
       "      <td rowspan=\"4\" valign=\"top\">1499</td>\n",
       "      <td>9</td>\n",
       "      <td>1.802490</td>\n",
       "      <td>5</td>\n",
       "    </tr>\n",
       "    <tr>\n",
       "      <td>10</td>\n",
       "      <td>17.371592</td>\n",
       "      <td>58</td>\n",
       "    </tr>\n",
       "    <tr>\n",
       "      <td>11</td>\n",
       "      <td>17.542295</td>\n",
       "      <td>49</td>\n",
       "    </tr>\n",
       "    <tr>\n",
       "      <td>12</td>\n",
       "      <td>12.749590</td>\n",
       "      <td>45</td>\n",
       "    </tr>\n",
       "  </tbody>\n",
       "</table>\n",
       "<p>3203 rows × 2 columns</p>\n",
       "</div>"
      ],
      "text/plain": [
       "                 gb_used  sessions\n",
       "user_id month                     \n",
       "1000    5       2.200674         5\n",
       "        6      22.689229        49\n",
       "        7      13.675430        29\n",
       "        8      13.726494        29\n",
       "        9      14.227451        27\n",
       "...                  ...       ...\n",
       "1498    10     20.097031        59\n",
       "1499    9       1.802490         5\n",
       "        10     17.371592        58\n",
       "        11     17.542295        49\n",
       "        12     12.749590        45\n",
       "\n",
       "[3203 rows x 2 columns]"
      ]
     },
     "execution_count": 16,
     "metadata": {},
     "output_type": "execute_result"
    }
   ],
   "source": [
    "internet_pivot = (internet[['user_id','mb_used', 'month']].pivot_table(index=['user_id','month'],\n",
    "                                                                       values='mb_used', \n",
    "                                                                       aggfunc=['sum', 'count']))\n",
    "internet_pivot = internet_pivot.fillna(0)\n",
    "internet_pivot.columns=['gb_used','sessions']\n",
    "internet_pivot['gb_used'] /= 1024\n",
    "internet_pivot"
   ]
  },
  {
   "cell_type": "markdown",
   "metadata": {},
   "source": [
    "#### Общая таблица с расчетами"
   ]
  },
  {
   "cell_type": "markdown",
   "metadata": {},
   "source": [
    "Объеденение таблиц:"
   ]
  },
  {
   "cell_type": "code",
   "execution_count": 17,
   "metadata": {
    "scrolled": false
   },
   "outputs": [
    {
     "data": {
      "text/html": [
       "<div>\n",
       "<style scoped>\n",
       "    .dataframe tbody tr th:only-of-type {\n",
       "        vertical-align: middle;\n",
       "    }\n",
       "\n",
       "    .dataframe tbody tr th {\n",
       "        vertical-align: top;\n",
       "    }\n",
       "\n",
       "    .dataframe thead th {\n",
       "        text-align: right;\n",
       "    }\n",
       "</style>\n",
       "<table border=\"1\" class=\"dataframe\">\n",
       "  <thead>\n",
       "    <tr style=\"text-align: right;\">\n",
       "      <th></th>\n",
       "      <th>user_id</th>\n",
       "      <th>month</th>\n",
       "      <th>minutes</th>\n",
       "      <th>calls_quantity</th>\n",
       "      <th>messages</th>\n",
       "      <th>gb_used</th>\n",
       "      <th>sessions</th>\n",
       "      <th>first_name</th>\n",
       "      <th>last_name</th>\n",
       "      <th>city</th>\n",
       "      <th>tariff_name</th>\n",
       "      <th>messages_included</th>\n",
       "      <th>mb_per_month_included</th>\n",
       "      <th>minutes_included</th>\n",
       "      <th>rub_monthly_fee</th>\n",
       "      <th>rub_per_gb</th>\n",
       "      <th>rub_per_message</th>\n",
       "      <th>rub_per_minute</th>\n",
       "    </tr>\n",
       "  </thead>\n",
       "  <tbody>\n",
       "    <tr>\n",
       "      <td>0</td>\n",
       "      <td>1000</td>\n",
       "      <td>5.0</td>\n",
       "      <td>151</td>\n",
       "      <td>22.0</td>\n",
       "      <td>22.0</td>\n",
       "      <td>3</td>\n",
       "      <td>5.0</td>\n",
       "      <td>Рафаил</td>\n",
       "      <td>Верещагин</td>\n",
       "      <td>Краснодар</td>\n",
       "      <td>ultra</td>\n",
       "      <td>1000</td>\n",
       "      <td>30720</td>\n",
       "      <td>3000</td>\n",
       "      <td>1950</td>\n",
       "      <td>150</td>\n",
       "      <td>1</td>\n",
       "      <td>1</td>\n",
       "    </tr>\n",
       "    <tr>\n",
       "      <td>1</td>\n",
       "      <td>1000</td>\n",
       "      <td>6.0</td>\n",
       "      <td>159</td>\n",
       "      <td>43.0</td>\n",
       "      <td>60.0</td>\n",
       "      <td>23</td>\n",
       "      <td>49.0</td>\n",
       "      <td>Рафаил</td>\n",
       "      <td>Верещагин</td>\n",
       "      <td>Краснодар</td>\n",
       "      <td>ultra</td>\n",
       "      <td>1000</td>\n",
       "      <td>30720</td>\n",
       "      <td>3000</td>\n",
       "      <td>1950</td>\n",
       "      <td>150</td>\n",
       "      <td>1</td>\n",
       "      <td>1</td>\n",
       "    </tr>\n",
       "    <tr>\n",
       "      <td>2</td>\n",
       "      <td>1000</td>\n",
       "      <td>7.0</td>\n",
       "      <td>319</td>\n",
       "      <td>47.0</td>\n",
       "      <td>75.0</td>\n",
       "      <td>14</td>\n",
       "      <td>29.0</td>\n",
       "      <td>Рафаил</td>\n",
       "      <td>Верещагин</td>\n",
       "      <td>Краснодар</td>\n",
       "      <td>ultra</td>\n",
       "      <td>1000</td>\n",
       "      <td>30720</td>\n",
       "      <td>3000</td>\n",
       "      <td>1950</td>\n",
       "      <td>150</td>\n",
       "      <td>1</td>\n",
       "      <td>1</td>\n",
       "    </tr>\n",
       "    <tr>\n",
       "      <td>3</td>\n",
       "      <td>1000</td>\n",
       "      <td>8.0</td>\n",
       "      <td>390</td>\n",
       "      <td>52.0</td>\n",
       "      <td>81.0</td>\n",
       "      <td>14</td>\n",
       "      <td>29.0</td>\n",
       "      <td>Рафаил</td>\n",
       "      <td>Верещагин</td>\n",
       "      <td>Краснодар</td>\n",
       "      <td>ultra</td>\n",
       "      <td>1000</td>\n",
       "      <td>30720</td>\n",
       "      <td>3000</td>\n",
       "      <td>1950</td>\n",
       "      <td>150</td>\n",
       "      <td>1</td>\n",
       "      <td>1</td>\n",
       "    </tr>\n",
       "    <tr>\n",
       "      <td>4</td>\n",
       "      <td>1000</td>\n",
       "      <td>9.0</td>\n",
       "      <td>441</td>\n",
       "      <td>58.0</td>\n",
       "      <td>57.0</td>\n",
       "      <td>15</td>\n",
       "      <td>27.0</td>\n",
       "      <td>Рафаил</td>\n",
       "      <td>Верещагин</td>\n",
       "      <td>Краснодар</td>\n",
       "      <td>ultra</td>\n",
       "      <td>1000</td>\n",
       "      <td>30720</td>\n",
       "      <td>3000</td>\n",
       "      <td>1950</td>\n",
       "      <td>150</td>\n",
       "      <td>1</td>\n",
       "      <td>1</td>\n",
       "    </tr>\n",
       "    <tr>\n",
       "      <td>...</td>\n",
       "      <td>...</td>\n",
       "      <td>...</td>\n",
       "      <td>...</td>\n",
       "      <td>...</td>\n",
       "      <td>...</td>\n",
       "      <td>...</td>\n",
       "      <td>...</td>\n",
       "      <td>...</td>\n",
       "      <td>...</td>\n",
       "      <td>...</td>\n",
       "      <td>...</td>\n",
       "      <td>...</td>\n",
       "      <td>...</td>\n",
       "      <td>...</td>\n",
       "      <td>...</td>\n",
       "      <td>...</td>\n",
       "      <td>...</td>\n",
       "      <td>...</td>\n",
       "    </tr>\n",
       "    <tr>\n",
       "      <td>3211</td>\n",
       "      <td>1489</td>\n",
       "      <td>9.0</td>\n",
       "      <td>0</td>\n",
       "      <td>0.0</td>\n",
       "      <td>32.0</td>\n",
       "      <td>17</td>\n",
       "      <td>63.0</td>\n",
       "      <td>Павел</td>\n",
       "      <td>Гончаров</td>\n",
       "      <td>Санкт-Петербург</td>\n",
       "      <td>smart</td>\n",
       "      <td>50</td>\n",
       "      <td>15360</td>\n",
       "      <td>500</td>\n",
       "      <td>550</td>\n",
       "      <td>200</td>\n",
       "      <td>3</td>\n",
       "      <td>3</td>\n",
       "    </tr>\n",
       "    <tr>\n",
       "      <td>3212</td>\n",
       "      <td>1489</td>\n",
       "      <td>10.0</td>\n",
       "      <td>0</td>\n",
       "      <td>0.0</td>\n",
       "      <td>21.0</td>\n",
       "      <td>20</td>\n",
       "      <td>63.0</td>\n",
       "      <td>Павел</td>\n",
       "      <td>Гончаров</td>\n",
       "      <td>Санкт-Петербург</td>\n",
       "      <td>smart</td>\n",
       "      <td>50</td>\n",
       "      <td>15360</td>\n",
       "      <td>500</td>\n",
       "      <td>550</td>\n",
       "      <td>200</td>\n",
       "      <td>3</td>\n",
       "      <td>3</td>\n",
       "    </tr>\n",
       "    <tr>\n",
       "      <td>3213</td>\n",
       "      <td>1489</td>\n",
       "      <td>11.0</td>\n",
       "      <td>0</td>\n",
       "      <td>0.0</td>\n",
       "      <td>20.0</td>\n",
       "      <td>18</td>\n",
       "      <td>55.0</td>\n",
       "      <td>Павел</td>\n",
       "      <td>Гончаров</td>\n",
       "      <td>Санкт-Петербург</td>\n",
       "      <td>smart</td>\n",
       "      <td>50</td>\n",
       "      <td>15360</td>\n",
       "      <td>500</td>\n",
       "      <td>550</td>\n",
       "      <td>200</td>\n",
       "      <td>3</td>\n",
       "      <td>3</td>\n",
       "    </tr>\n",
       "    <tr>\n",
       "      <td>3214</td>\n",
       "      <td>1489</td>\n",
       "      <td>12.0</td>\n",
       "      <td>0</td>\n",
       "      <td>0.0</td>\n",
       "      <td>35.0</td>\n",
       "      <td>17</td>\n",
       "      <td>51.0</td>\n",
       "      <td>Павел</td>\n",
       "      <td>Гончаров</td>\n",
       "      <td>Санкт-Петербург</td>\n",
       "      <td>smart</td>\n",
       "      <td>50</td>\n",
       "      <td>15360</td>\n",
       "      <td>500</td>\n",
       "      <td>550</td>\n",
       "      <td>200</td>\n",
       "      <td>3</td>\n",
       "      <td>3</td>\n",
       "    </tr>\n",
       "    <tr>\n",
       "      <td>3215</td>\n",
       "      <td>1371</td>\n",
       "      <td>0.0</td>\n",
       "      <td>0</td>\n",
       "      <td>0.0</td>\n",
       "      <td>0.0</td>\n",
       "      <td>0</td>\n",
       "      <td>0.0</td>\n",
       "      <td>Ириней</td>\n",
       "      <td>Трофимов</td>\n",
       "      <td>Омск</td>\n",
       "      <td>smart</td>\n",
       "      <td>50</td>\n",
       "      <td>15360</td>\n",
       "      <td>500</td>\n",
       "      <td>550</td>\n",
       "      <td>200</td>\n",
       "      <td>3</td>\n",
       "      <td>3</td>\n",
       "    </tr>\n",
       "  </tbody>\n",
       "</table>\n",
       "<p>3216 rows × 18 columns</p>\n",
       "</div>"
      ],
      "text/plain": [
       "      user_id  month  minutes  calls_quantity  messages  gb_used  sessions  \\\n",
       "0        1000    5.0      151            22.0      22.0        3       5.0   \n",
       "1        1000    6.0      159            43.0      60.0       23      49.0   \n",
       "2        1000    7.0      319            47.0      75.0       14      29.0   \n",
       "3        1000    8.0      390            52.0      81.0       14      29.0   \n",
       "4        1000    9.0      441            58.0      57.0       15      27.0   \n",
       "...       ...    ...      ...             ...       ...      ...       ...   \n",
       "3211     1489    9.0        0             0.0      32.0       17      63.0   \n",
       "3212     1489   10.0        0             0.0      21.0       20      63.0   \n",
       "3213     1489   11.0        0             0.0      20.0       18      55.0   \n",
       "3214     1489   12.0        0             0.0      35.0       17      51.0   \n",
       "3215     1371    0.0        0             0.0       0.0        0       0.0   \n",
       "\n",
       "     first_name  last_name             city tariff_name  messages_included  \\\n",
       "0        Рафаил  Верещагин        Краснодар       ultra               1000   \n",
       "1        Рафаил  Верещагин        Краснодар       ultra               1000   \n",
       "2        Рафаил  Верещагин        Краснодар       ultra               1000   \n",
       "3        Рафаил  Верещагин        Краснодар       ultra               1000   \n",
       "4        Рафаил  Верещагин        Краснодар       ultra               1000   \n",
       "...         ...        ...              ...         ...                ...   \n",
       "3211      Павел   Гончаров  Санкт-Петербург       smart                 50   \n",
       "3212      Павел   Гончаров  Санкт-Петербург       smart                 50   \n",
       "3213      Павел   Гончаров  Санкт-Петербург       smart                 50   \n",
       "3214      Павел   Гончаров  Санкт-Петербург       smart                 50   \n",
       "3215     Ириней   Трофимов             Омск       smart                 50   \n",
       "\n",
       "      mb_per_month_included  minutes_included  rub_monthly_fee  rub_per_gb  \\\n",
       "0                     30720              3000             1950         150   \n",
       "1                     30720              3000             1950         150   \n",
       "2                     30720              3000             1950         150   \n",
       "3                     30720              3000             1950         150   \n",
       "4                     30720              3000             1950         150   \n",
       "...                     ...               ...              ...         ...   \n",
       "3211                  15360               500              550         200   \n",
       "3212                  15360               500              550         200   \n",
       "3213                  15360               500              550         200   \n",
       "3214                  15360               500              550         200   \n",
       "3215                  15360               500              550         200   \n",
       "\n",
       "      rub_per_message  rub_per_minute  \n",
       "0                   1               1  \n",
       "1                   1               1  \n",
       "2                   1               1  \n",
       "3                   1               1  \n",
       "4                   1               1  \n",
       "...               ...             ...  \n",
       "3211                3               3  \n",
       "3212                3               3  \n",
       "3213                3               3  \n",
       "3214                3               3  \n",
       "3215                3               3  \n",
       "\n",
       "[3216 rows x 18 columns]"
      ]
     },
     "execution_count": 17,
     "metadata": {},
     "output_type": "execute_result"
    }
   ],
   "source": [
    "final_data = (calls_pivot.merge(messages_pivot, on=['user_id', 'month'], how='outer').\n",
    "             merge(internet_pivot, on=['user_id', 'month'], how='outer').reset_index().\n",
    "             merge(users[['user_id', 'first_name', 'last_name', 'city']], on='user_id', how='outer'))\n",
    "\n",
    "final_data = final_data.merge(users.loc[:,['user_id', 'tariff']], on='user_id', how='left') \n",
    "final_data = final_data.rename(columns={'tariff': 'tariff_name'})\n",
    "final_data = final_data.merge(tariffs, on='tariff_name')\n",
    "\n",
    "import math\n",
    "\n",
    "final_data = final_data.fillna(0)\n",
    "final_data['minutes'] = final_data['minutes'].apply(math.ceil)\n",
    "final_data['gb_used'] = final_data['gb_used'].apply(math.ceil)\n",
    "\n",
    "final_data"
   ]
  },
  {
   "cell_type": "markdown",
   "metadata": {},
   "source": [
    "Посчитаем помесячную выручку с каждого пользователя (вычтем бесплатный лимит из суммарного количества звонков, сообщений и интернет-трафика; остаток умножим на значение из тарифного плана; прибавим абонентскую плату, соответствующую тарифному плану)."
   ]
  },
  {
   "cell_type": "code",
   "execution_count": 18,
   "metadata": {
    "scrolled": true
   },
   "outputs": [],
   "source": [
    "proceeds = [] \n",
    "#цикл который читает каждую строку таблицы final_data вычисляет количество минут, сообщений, гигабайт, что пользователь\n",
    "#использовал сверх тарифного плана (общее - план). Параллельно с этим функция лямбда приравнивает к нулю отрицательные значения \n",
    "#                                                  (когда пользователь не заходил за тарифный план)\n",
    "#проводятся расчеты общей выручки в переменной user_proceeds и потом она добавляется в лист proceeds[]\n",
    "#который мы добавим в таблицу\n",
    "for index in range(len(final_data)):\n",
    "    l = lambda x: 0 if x < 0 else x\n",
    "    extra_minutes = l(final_data.loc[index, 'minutes'] - final_data.loc[index, 'minutes_included'])\n",
    "    extra_messages = l(final_data.loc[index, 'messages'] - final_data.loc[index, 'messages_included'])\n",
    "    extra_gb = l(final_data.loc[index, 'gb_used'] - final_data.loc[index, 'mb_per_month_included'] / 1024)\n",
    "    \n",
    "    user_proceeds = (extra_minutes * final_data.loc[index, 'rub_per_minute']\n",
    "                    + extra_messages * final_data.loc[index, 'rub_per_message']\n",
    "                    + extra_gb * final_data.loc[index, 'rub_per_gb']\n",
    "                    + final_data.loc[index, 'rub_monthly_fee'])\n",
    "    proceeds.append(user_proceeds)\n",
    "\n",
    "final_data['proceeds'] = proceeds\n"
   ]
  },
  {
   "cell_type": "code",
   "execution_count": 19,
   "metadata": {},
   "outputs": [
    {
     "data": {
      "text/html": [
       "<div>\n",
       "<style scoped>\n",
       "    .dataframe tbody tr th:only-of-type {\n",
       "        vertical-align: middle;\n",
       "    }\n",
       "\n",
       "    .dataframe tbody tr th {\n",
       "        vertical-align: top;\n",
       "    }\n",
       "\n",
       "    .dataframe thead th {\n",
       "        text-align: right;\n",
       "    }\n",
       "</style>\n",
       "<table border=\"1\" class=\"dataframe\">\n",
       "  <thead>\n",
       "    <tr style=\"text-align: right;\">\n",
       "      <th></th>\n",
       "      <th>user_id</th>\n",
       "      <th>month</th>\n",
       "      <th>minutes</th>\n",
       "      <th>calls_quantity</th>\n",
       "      <th>messages</th>\n",
       "      <th>gb_used</th>\n",
       "      <th>sessions</th>\n",
       "      <th>first_name</th>\n",
       "      <th>last_name</th>\n",
       "      <th>city</th>\n",
       "      <th>tariff_name</th>\n",
       "      <th>messages_included</th>\n",
       "      <th>mb_per_month_included</th>\n",
       "      <th>minutes_included</th>\n",
       "      <th>rub_monthly_fee</th>\n",
       "      <th>rub_per_gb</th>\n",
       "      <th>rub_per_message</th>\n",
       "      <th>rub_per_minute</th>\n",
       "      <th>proceeds</th>\n",
       "    </tr>\n",
       "  </thead>\n",
       "  <tbody>\n",
       "    <tr>\n",
       "      <td>0</td>\n",
       "      <td>1000</td>\n",
       "      <td>5.0</td>\n",
       "      <td>151</td>\n",
       "      <td>22.0</td>\n",
       "      <td>22.0</td>\n",
       "      <td>3</td>\n",
       "      <td>5.0</td>\n",
       "      <td>Рафаил</td>\n",
       "      <td>Верещагин</td>\n",
       "      <td>Краснодар</td>\n",
       "      <td>ultra</td>\n",
       "      <td>1000</td>\n",
       "      <td>30720</td>\n",
       "      <td>3000</td>\n",
       "      <td>1950</td>\n",
       "      <td>150</td>\n",
       "      <td>1</td>\n",
       "      <td>1</td>\n",
       "      <td>1950.0</td>\n",
       "    </tr>\n",
       "    <tr>\n",
       "      <td>1</td>\n",
       "      <td>1000</td>\n",
       "      <td>6.0</td>\n",
       "      <td>159</td>\n",
       "      <td>43.0</td>\n",
       "      <td>60.0</td>\n",
       "      <td>23</td>\n",
       "      <td>49.0</td>\n",
       "      <td>Рафаил</td>\n",
       "      <td>Верещагин</td>\n",
       "      <td>Краснодар</td>\n",
       "      <td>ultra</td>\n",
       "      <td>1000</td>\n",
       "      <td>30720</td>\n",
       "      <td>3000</td>\n",
       "      <td>1950</td>\n",
       "      <td>150</td>\n",
       "      <td>1</td>\n",
       "      <td>1</td>\n",
       "      <td>1950.0</td>\n",
       "    </tr>\n",
       "    <tr>\n",
       "      <td>2</td>\n",
       "      <td>1000</td>\n",
       "      <td>7.0</td>\n",
       "      <td>319</td>\n",
       "      <td>47.0</td>\n",
       "      <td>75.0</td>\n",
       "      <td>14</td>\n",
       "      <td>29.0</td>\n",
       "      <td>Рафаил</td>\n",
       "      <td>Верещагин</td>\n",
       "      <td>Краснодар</td>\n",
       "      <td>ultra</td>\n",
       "      <td>1000</td>\n",
       "      <td>30720</td>\n",
       "      <td>3000</td>\n",
       "      <td>1950</td>\n",
       "      <td>150</td>\n",
       "      <td>1</td>\n",
       "      <td>1</td>\n",
       "      <td>1950.0</td>\n",
       "    </tr>\n",
       "    <tr>\n",
       "      <td>3</td>\n",
       "      <td>1000</td>\n",
       "      <td>8.0</td>\n",
       "      <td>390</td>\n",
       "      <td>52.0</td>\n",
       "      <td>81.0</td>\n",
       "      <td>14</td>\n",
       "      <td>29.0</td>\n",
       "      <td>Рафаил</td>\n",
       "      <td>Верещагин</td>\n",
       "      <td>Краснодар</td>\n",
       "      <td>ultra</td>\n",
       "      <td>1000</td>\n",
       "      <td>30720</td>\n",
       "      <td>3000</td>\n",
       "      <td>1950</td>\n",
       "      <td>150</td>\n",
       "      <td>1</td>\n",
       "      <td>1</td>\n",
       "      <td>1950.0</td>\n",
       "    </tr>\n",
       "    <tr>\n",
       "      <td>4</td>\n",
       "      <td>1000</td>\n",
       "      <td>9.0</td>\n",
       "      <td>441</td>\n",
       "      <td>58.0</td>\n",
       "      <td>57.0</td>\n",
       "      <td>15</td>\n",
       "      <td>27.0</td>\n",
       "      <td>Рафаил</td>\n",
       "      <td>Верещагин</td>\n",
       "      <td>Краснодар</td>\n",
       "      <td>ultra</td>\n",
       "      <td>1000</td>\n",
       "      <td>30720</td>\n",
       "      <td>3000</td>\n",
       "      <td>1950</td>\n",
       "      <td>150</td>\n",
       "      <td>1</td>\n",
       "      <td>1</td>\n",
       "      <td>1950.0</td>\n",
       "    </tr>\n",
       "  </tbody>\n",
       "</table>\n",
       "</div>"
      ],
      "text/plain": [
       "   user_id  month  minutes  calls_quantity  messages  gb_used  sessions  \\\n",
       "0     1000    5.0      151            22.0      22.0        3       5.0   \n",
       "1     1000    6.0      159            43.0      60.0       23      49.0   \n",
       "2     1000    7.0      319            47.0      75.0       14      29.0   \n",
       "3     1000    8.0      390            52.0      81.0       14      29.0   \n",
       "4     1000    9.0      441            58.0      57.0       15      27.0   \n",
       "\n",
       "  first_name  last_name       city tariff_name  messages_included  \\\n",
       "0     Рафаил  Верещагин  Краснодар       ultra               1000   \n",
       "1     Рафаил  Верещагин  Краснодар       ultra               1000   \n",
       "2     Рафаил  Верещагин  Краснодар       ultra               1000   \n",
       "3     Рафаил  Верещагин  Краснодар       ultra               1000   \n",
       "4     Рафаил  Верещагин  Краснодар       ultra               1000   \n",
       "\n",
       "   mb_per_month_included  minutes_included  rub_monthly_fee  rub_per_gb  \\\n",
       "0                  30720              3000             1950         150   \n",
       "1                  30720              3000             1950         150   \n",
       "2                  30720              3000             1950         150   \n",
       "3                  30720              3000             1950         150   \n",
       "4                  30720              3000             1950         150   \n",
       "\n",
       "   rub_per_message  rub_per_minute  proceeds  \n",
       "0                1               1    1950.0  \n",
       "1                1               1    1950.0  \n",
       "2                1               1    1950.0  \n",
       "3                1               1    1950.0  \n",
       "4                1               1    1950.0  "
      ]
     },
     "execution_count": 19,
     "metadata": {},
     "output_type": "execute_result"
    }
   ],
   "source": [
    "final_data.head()"
   ]
  },
  {
   "cell_type": "markdown",
   "metadata": {},
   "source": [
    "## Исследовательский анализ"
   ]
  },
  {
   "cell_type": "markdown",
   "metadata": {},
   "source": [
    "Исследуем график. Посмотрим какое количество минут, сообщений и гигабайт в среднем нужно людям. Сперва посмотрим на гистограммы:"
   ]
  },
  {
   "cell_type": "markdown",
   "metadata": {},
   "source": [
    "### Использование пакета минут"
   ]
  },
  {
   "cell_type": "code",
   "execution_count": 20,
   "metadata": {
    "scrolled": true
   },
   "outputs": [
    {
     "name": "stdout",
     "output_type": "stream",
     "text": [
      "ULTRA\n",
      "Тарифный план - 3000\n",
      "Среднее - 497.0425963488844\n",
      "Дисперсия - 90117.46011264299\n",
      "Стандартное отклонение - 300.1957030216172\n",
      "\n",
      "SMART\n",
      "Тарифный план - 500\n",
      "Среднее - 394.74529147982065\n",
      "Дисперсия - 32448.31194506978\n",
      "Стандартное отклонение - 180.13414985801492\n"
     ]
    },
    {
     "data": {
      "image/png": "[encoded data removed]",
      "text/plain": [
       "<Figure size 432x288 with 1 Axes>"
      ]
     },
     "metadata": {
      "needs_background": "light"
     },
     "output_type": "display_data"
    }
   ],
   "source": [
    "import matplotlib as plt\n",
    "import numpy as np\n",
    "\n",
    "final_data.query('tariff_name == \"ultra\"')['minutes'].plot( kind='hist', bins=60, title='minutes', grid=True, label='ultra', legend=True, alpha=.7)\n",
    "print('ULTRA')\n",
    "print('Тарифный план -', tariffs.loc[1, 'minutes_included'])\n",
    "print('Среднее -', final_data.query('tariff_name == \"ultra\"')['minutes'].mean())\n",
    "#ddof = 1 так как мы рассматриваем выборки\n",
    "print('Дисперсия -',np.var(final_data.query('tariff_name == \"ultra\"')['minutes'], ddof=1))\n",
    "print('Стандартное отклонение -', np.std(final_data.query('tariff_name == \"ultra\"')['minutes'], ddof=1))\n",
    "print()\n",
    "\n",
    "final_data.query('tariff_name == \"smart\"')['minutes'].plot( kind='hist', bins=60, title='minutes', grid=True, label='smart', legend=True, alpha=.7)\n",
    "print('SMART')\n",
    "print('Тарифный план -', tariffs.loc[0, 'minutes_included'])\n",
    "print('Среднее -', final_data.query('tariff_name == \"smart\"')['minutes'].mean())\n",
    "print('Дисперсия -', np.var(final_data.query('tariff_name == \"smart\"')['minutes'], ddof=1))\n",
    "print('Стандартное отклонение -', np.std(final_data.query('tariff_name == \"smart\"')['minutes'], ddof=1))"
   ]
  },
  {
   "cell_type": "markdown",
   "metadata": {},
   "source": [
    "<p><b>Ultra</b>. В среднем люди требуют 515 минут в месяц. Более 1200 минут людям нужно очень редко. Много значений у нуля означает лишь то что некоторая часть людей не говорит по телефону, никаких аномалий.</p>\n",
    "<p><b>Smart</b>. В среднем люди требуют 395 минут в месяц. Более 800 минут людям нужно очень редко. Никаких аномалий. Половина пользователей оплачивает сверх тарифный план.</p>"
   ]
  },
  {
   "cell_type": "markdown",
   "metadata": {},
   "source": [
    "### Использование сообщений"
   ]
  },
  {
   "cell_type": "code",
   "execution_count": 21,
   "metadata": {},
   "outputs": [
    {
     "name": "stdout",
     "output_type": "stream",
     "text": [
      "Тарифный план - 1000\n",
      "Среднее (без нуля) - 61.161006289308176\n",
      "Среднее - 49.31338742393509\n",
      "Дисперсия - 2285.4174246558414\n",
      "Стандартное отклонение - 47.80603962530092\n",
      "\n",
      "SMART\n",
      "Тарифный план - 50\n",
      "Среднее (без нуля) - 38.71644120707596\n",
      "Среднее - 33.36905829596412\n",
      "Дисперсия - 796.9552557301129\n",
      "Стандартное отклонение - 28.230395954185852\n"
     ]
    },
    {
     "data": {
      "image/png": "[encoded data removed]",
      "text/plain": [
       "<Figure size 432x288 with 1 Axes>"
      ]
     },
     "metadata": {
      "needs_background": "light"
     },
     "output_type": "display_data"
    }
   ],
   "source": [
    "final_data.query('tariff_name == \"ultra\"')['messages'].plot( kind='hist', bins=60, title='messages', grid=True, label='ultra', legend=True, alpha=.7)\n",
    "\n",
    "print('Тарифный план -', tariffs.loc[1, 'messages_included'])\n",
    "print('Среднее (без нуля) -', final_data.query('messages > 0 and tariff_name == \"ultra\"')['messages'].mean())\n",
    "print('Среднее -', final_data.query('tariff_name == \"ultra\"')['messages'].mean())\n",
    "print('Дисперсия -', np.var(final_data.query('tariff_name == \"ultra\"')['messages'], ddof=1))\n",
    "print('Стандартное отклонение -', np.std(final_data.query('tariff_name == \"ultra\"')['messages'], ddof=1))\n",
    "print()\n",
    "\n",
    "final_data.query('tariff_name == \"smart\"')['messages'].plot( kind='hist', bins=60, title='messages', grid=True, label='smart', legend=True, alpha=.7)\n",
    "print('SMART')       \n",
    "print('Тарифный план -', tariffs.loc[0, 'messages_included'])\n",
    "print('Среднее (без нуля) -', final_data.query('messages > 0 and tariff_name == \"smart\"')['messages'].mean())\n",
    "print('Среднее -', final_data.query('tariff_name == \"smart\"')['messages'].mean())\n",
    "print('Дисперсия -', np.var(final_data.query('tariff_name == \"smart\"')['messages'], ddof=1))\n",
    "print('Стандартное отклонение -', np.std(final_data.query('tariff_name == \"smart\"')['messages'], ddof=1))"
   ]
  },
  {
   "cell_type": "markdown",
   "metadata": {},
   "source": [
    "<p>Создали два средних. То что с приставкой 'x' предназначена для того чтобы оценить только тех людей, что используют смс.</p>\n",
    "<p><b>Smart</b>. Людям, использующим смс, нужно в среднем 38 сообщений в месяц. Чаще всего люди не используют смс-сообщения. Неудивительно, ведь любой тариф дает доступ к онлайн мессенджерам.<br> Большая часть пользователей оплачивает сверх тарифный план.</p>\n",
    "<p><b>Ultra</b>. Людям, использующим смс, нужно в среднем 49 сообщений в месяц. Чаще всего люди не используют смс-сообщения.</p>"
   ]
  },
  {
   "cell_type": "markdown",
   "metadata": {},
   "source": [
    "### Использование интернета"
   ]
  },
  {
   "cell_type": "code",
   "execution_count": 22,
   "metadata": {
    "scrolled": true
   },
   "outputs": [
    {
     "name": "stdout",
     "output_type": "stream",
     "text": [
      "ULTRA\n",
      "Тарифный план - 30.0\n",
      "Среднее - 19.474645030425965\n",
      "Дисперсия - 97.37854429011234\n",
      "Стандартное отклонение - 9.868056763624352\n",
      "\n",
      "SMART\n",
      "Тарифный план - 15.0\n",
      "Среднее - 16.32152466367713\n",
      "Дисперсия - 33.133453035506285\n",
      "Стандартное отклонение - 5.7561665225657155\n"
     ]
    },
    {
     "data": {
      "image/png": "[encoded data removed]",
      "text/plain": [
       "<Figure size 432x288 with 1 Axes>"
      ]
     },
     "metadata": {
      "needs_background": "light"
     },
     "output_type": "display_data"
    }
   ],
   "source": [
    "import seaborn as sns\n",
    "final_data.query('tariff_name == \"ultra\"')['gb_used'].plot(kind='hist', bins=100, grid=True, label='ultra', legend=True, alpha=0.7)\n",
    "print('ULTRA')    \n",
    "print('Тарифный план -', tariffs.loc[1, 'mb_per_month_included'] / 1024)\n",
    "print('Среднее -', final_data.query('tariff_name == \"ultra\"')['gb_used'].mean())\n",
    "print('Дисперсия -', np.var(final_data.query('tariff_name == \"ultra\"')['gb_used'], ddof=1))\n",
    "print('Стандартное отклонение -', np.std(final_data.query('tariff_name == \"ultra\"')['gb_used'], ddof=1))\n",
    "print()\n",
    "\n",
    "final_data.query('tariff_name == \"smart\"')['gb_used'].plot(kind='hist', bins=100, grid=True, label='smart', legend=True, alpha=0.7)\n",
    "print('SMART')\n",
    "print('Тарифный план -', tariffs.loc[0, 'mb_per_month_included'] / 1024)\n",
    "print('Среднее -', final_data.query('tariff_name == \"smart\"')['gb_used'].mean())\n",
    "print('Дисперсия -', np.var(final_data.query('tariff_name == \"smart\"')['gb_used'], ddof=1))\n",
    "print('Стандартное отклонение -', np.std(final_data.query('tariff_name == \"smart\"')['gb_used'], ddof=1))"
   ]
  },
  {
   "cell_type": "markdown",
   "metadata": {},
   "source": [
    "<b>Smart</b>. В среднем люди используют 16 гигабайт в месяц. Чаще всего людям требуется 20 гигабайт.<br>\n",
    "<b>Ultra</b>. В среднем люди используют 19 гигабайт в месяц. Никаких аномалий в распределении нет"
   ]
  },
  {
   "cell_type": "markdown",
   "metadata": {},
   "source": [
    "<b>Вывод</b><br>\n",
    "Тариф <b>ultra</b> стоит дороже, но большая часть его пакета не используется. Об этом нам говорят гистограммы использования звонков и смс-сообщений.<br>\n",
    "Тариф <b>smart</b> стоит дешевле, но в половине случаев пользователям не хватает его пакета услуг и переходят на сверх тарифный план, который оплачивается отдельно.<br>\n",
    "В следующем разделе сравним средние чеки."
   ]
  },
  {
   "cell_type": "markdown",
   "metadata": {},
   "source": [
    "## Проверка гипотез о тарифах"
   ]
  },
  {
   "cell_type": "markdown",
   "metadata": {},
   "source": [
    "### Средняя выручка пользователей двух тарифов различаются"
   ]
  },
  {
   "cell_type": "markdown",
   "metadata": {},
   "source": [
    "Используем статистический т-тест на двух выборках. Проверим дисперсии что узнать каким ставить параметр <i>equal_var</i>:"
   ]
  },
  {
   "cell_type": "code",
   "execution_count": 23,
   "metadata": {},
   "outputs": [
    {
     "name": "stdout",
     "output_type": "stream",
     "text": [
      "Дисперсия выручки тарифа ULTRA - 141387.7148093615\n",
      "Размер выборки - 986\n",
      "Дисперсия выручки тарифа SMART - 641402.5360534898\n",
      "Размер выборки - 2230\n"
     ]
    }
   ],
   "source": [
    "print('Дисперсия выручки тарифа ULTRA -', np.var(final_data.query('tariff_name == \"ultra\"')['proceeds'], ddof=1))\n",
    "print('Размер выборки -', final_data.query('tariff_name == \"ultra\"')['proceeds'].count())\n",
    "\n",
    "print('Дисперсия выручки тарифа SMART -', np.var(final_data.query('tariff_name == \"smart\"')['proceeds'], ddof=1))\n",
    "print('Размер выборки -', final_data.query('tariff_name == \"smart\"')['proceeds'].count())"
   ]
  },
  {
   "cell_type": "markdown",
   "metadata": {},
   "source": [
    "Различия в 4 раза. <i>equal_var = False</i><br>\n",
    "Обозначим статистическую значимость в 0.05<br><br>\n",
    "Нулевая гипотеза - средняя выручка первого тарифа <b>равна</b> средней выручке второго<br>\n",
    "Альтернативная гипотеза - средняя выручка первого <b>не равна</b> средней выручке второго"
   ]
  },
  {
   "cell_type": "code",
   "execution_count": 24,
   "metadata": {},
   "outputs": [
    {
     "name": "stdout",
     "output_type": "stream",
     "text": [
      "р-значение - 2.6421117114478516e-274\n",
      "Отвергаем нулевую гипотезу\n",
      "Средний чек тарифа ULTRA - 2070.030425963489\n",
      "Средний чек тарифа SMART - 1257.2713004484306\n"
     ]
    }
   ],
   "source": [
    "import scipy.stats as stats\n",
    "\n",
    "sample_1 = final_data.query('tariff_name == \"ultra\"')['proceeds']\n",
    "sample_2 = final_data.query('tariff_name == \"smart\"')['proceeds']\n",
    "\n",
    "alpha = .05\n",
    "\n",
    "results = stats.ttest_ind(sample_1, sample_2, equal_var=False)\n",
    "print('р-значение -', results.pvalue)\n",
    "\n",
    "if results.pvalue < alpha:\n",
    "    print('Отвергаем нулевую гипотезу')\n",
    "else:\n",
    "    print('Не получилось отвергнуть нулевую гипотезу')\n",
    "    \n",
    "print('Средний чек тарифа ULTRA -', final_data.query('tariff_name == \"ultra\"')['proceeds'].mean())\n",
    "print('Средний чек тарифа SMART -', final_data.query('tariff_name == \"smart\"')['proceeds'].mean())"
   ]
  },
  {
   "cell_type": "markdown",
   "metadata": {},
   "source": [
    "Нулевая гипотеза не подтвердилась в данном тесте. По результатам теста - средняя выручка двух тарифов в месяц вероятнее всего различаются."
   ]
  },
  {
   "cell_type": "markdown",
   "metadata": {},
   "source": [
    "<div class=\"alert-info\">\n",
    "<b>Комментарий студента</b>\n",
    "<p>Исправлено - немного изменил формулировку вывода</p>"
   ]
  },
  {
   "cell_type": "markdown",
   "metadata": {},
   "source": [
    "Мы определили что средний чек тарифа ULTRA в месяц скорее всего не будет равен среднему чеку тарифа SMART. Причем средний чек первого будет больше. Теперь, чтобы определить прибыль с каждого тарифа нужно умножить средний чек на количество записей в final_data где tariff_name = (соответствующий тариф)"
   ]
  },
  {
   "cell_type": "code",
   "execution_count": 25,
   "metadata": {},
   "outputs": [
    {
     "name": "stdout",
     "output_type": "stream",
     "text": [
      "Прибыль тарифа ULTRA за весь год - 2041050.0000000002\n",
      "Прибыль тарифа SMART за весь год - 2803715.0\n"
     ]
    }
   ],
   "source": [
    "print('Прибыль тарифа ULTRA за весь год -',\n",
    "     final_data.query('tariff_name == \"ultra\"')['proceeds'].mean() * \n",
    "     final_data.query('tariff_name == \"ultra\"')['proceeds'].count())\n",
    "print('Прибыль тарифа SMART за весь год -',\n",
    "     final_data.query('tariff_name == \"smart\"')['proceeds'].mean() * \n",
    "     final_data.query('tariff_name == \"smart\"')['proceeds'].count())"
   ]
  },
  {
   "cell_type": "markdown",
   "metadata": {},
   "source": [
    "Тариф smart выгоднее для оператора, так как приносит бОльшую прибыль."
   ]
  },
  {
   "cell_type": "markdown",
   "metadata": {},
   "source": [
    "### Средняя выручка пользователей из Москвы отличается от остальных"
   ]
  },
  {
   "cell_type": "markdown",
   "metadata": {},
   "source": [
    "Аналогично прошлому пунку, используем т-тест на двух выборках. Сравним дисперсии:"
   ]
  },
  {
   "cell_type": "code",
   "execution_count": 26,
   "metadata": {},
   "outputs": [
    {
     "name": "stdout",
     "output_type": "stream",
     "text": [
      "Дисперсия выручки пользователей из Москвы - 562832.1982935794\n",
      "Размер ген. совокупности - 611\n",
      "\n",
      "Дисперсия выручки пользователей из других регионов - 643989.6721190786\n",
      "Размер ген. совокупности - 2605\n"
     ]
    }
   ],
   "source": [
    "print('Дисперсия выручки пользователей из Москвы -', np.var(final_data.query('city == \"Москва\"')['proceeds'], ddof=1))\n",
    "print('Размер ген. совокупности -', final_data.query('city == \"Москва\"')['proceeds'].count())\n",
    "\n",
    "print()\n",
    "\n",
    "print('Дисперсия выручки пользователей из других регионов -', np.var(final_data.query('city != \"Москва\"')['proceeds'], ddof=1))\n",
    "print('Размер ген. совокупности -', final_data.query('city != \"Москва\"')['proceeds'].count())\n",
    "\n"
   ]
  },
  {
   "cell_type": "markdown",
   "metadata": {},
   "source": [
    "<i>equal_var = False</i><br>\n",
    "Статистическая значимость - 0.05"
   ]
  },
  {
   "cell_type": "markdown",
   "metadata": {},
   "source": [
    "Нулевая гипотеза - средняя выручка пользователей из Москвы равна средней выручке остальных регионов.<br>\n",
    "Альтернативная гипотеза - средняя выручка не равна второй"
   ]
  },
  {
   "cell_type": "code",
   "execution_count": 27,
   "metadata": {},
   "outputs": [
    {
     "name": "stdout",
     "output_type": "stream",
     "text": [
      "p-значение - 0.46183914667656145\n",
      "Не получилось отвергнуть нулевую гипотезу\n",
      "Средний чек пользователей из Москвы - 1526.8379705400982\n",
      "Средний чек пользователей не из Москвы - 1501.6763915547026\n"
     ]
    }
   ],
   "source": [
    "sample_1 = final_data.query('city == \"Москва\"')['proceeds']\n",
    "sample_2 = final_data.query('city != \"Москва\"')['proceeds']\n",
    "\n",
    "alpha = .05\n",
    "\n",
    "results = stats.ttest_ind(sample_1, sample_2, equal_var=False)\n",
    "print('p-значение -', results.pvalue)\n",
    "\n",
    "if results.pvalue < alpha:\n",
    "    print('Отвергаем нулевую гипотезу')\n",
    "else:\n",
    "    print('Не получилось отвергнуть нулевую гипотезу')\n",
    "    \n",
    "print('Средний чек пользователей из Москвы -', final_data.query('city == \"Москва\"')['proceeds'].mean())\n",
    "print('Средний чек пользователей не из Москвы -', final_data.query('city != \"Москва\"')['proceeds'].mean())"
   ]
  },
  {
   "cell_type": "markdown",
   "metadata": {},
   "source": [
    "P-значение означает что вероятность случайно подтвердить нулевую гипотезу равна 38%.<br>\n",
    "Не удалось отвергнуть нулевую гипотезу. По всей видимости чеки не различаются. "
   ]
  },
  {
   "cell_type": "markdown",
   "metadata": {},
   "source": [
    "<b>Вывод</b><br>\n",
    "<p>Первая гипотеза о различии средних чеков подтвердилась. Средний чек тарифа <b>smart</b> никогда не будет равен среднему чеку тарифа <b>ultra</b>, об этом говорит р-значение которое имеет 277 нулей после запятой. При этом, средний чек первого в 1.5 раза меньше среднего чека второго тарифа<p>\n",
    "Вторая гипотеза о разности средних чеков пользователей из Москвы и других не подтвердилась. Средние говорят о том что они равны, но вероятность получить такой результат 38%"
   ]
  },
  {
   "cell_type": "markdown",
   "metadata": {},
   "source": [
    "## Общий вывод"
   ]
  },
  {
   "cell_type": "markdown",
   "metadata": {},
   "source": [
    "В ходе проекта мы изучили данные 5-ти таблиц. Провели предобработку данных, изменив типы данных. Построили сводные таблицы и объеденили их в одну общую.<br>\n",
    "Мы исследовали оба тарифа и выяснили следующее:\n",
    "<ul>\n",
    "    <li>Тариф <b>ultra</b> предоставляет большой пакет, который никто не использует в полной мере. Люди переплачивают лишь за интернет.\n",
    "    <li>Тариф <b>smart</b> в 4 раза дешевле и предоставляет скромный пакет, которого не хватает половине пользователей.\n",
    "</ul>\n",
    "Проверив гипотезы мы выяснили:\n",
    "<ul>\n",
    "    <li>Средний чек пользователя из Москвы и других регионов скорее всего не будет отличаться.\n",
    "    <li>Несмотря на то что в тарифе <b>smart</b> половина пользователей оплачивает сверх тарифный план, средний чек с каждого пользователя почти всегда будет меньше чем средний чек с пользователя тарифа <b>ultra</b>. Но по итогу тариф <b>smart</b> выгоднее бизнесу, потому что его выбирает большее количество людей."
   ]
  }
 ],
 "metadata": {
  "ExecuteTimeLog": [
   {
    "duration": 541,
    "start_time": "2022-02-24T15:43:05.202Z"
   },
   {
    "duration": 159,
    "start_time": "2022-02-24T15:43:56.747Z"
   },
   {
    "duration": 312,
    "start_time": "2022-02-24T15:50:33.493Z"
   },
   {
    "duration": 125,
    "start_time": "2022-02-24T15:50:46.017Z"
   },
   {
    "duration": 91,
    "start_time": "2022-02-24T15:56:24.994Z"
   },
   {
    "duration": 88,
    "start_time": "2022-02-24T15:57:17.821Z"
   },
   {
    "duration": 16,
    "start_time": "2022-02-24T15:59:12.423Z"
   },
   {
    "duration": 24,
    "start_time": "2022-02-24T16:04:09.596Z"
   },
   {
    "duration": 102,
    "start_time": "2022-02-24T16:10:53.396Z"
   },
   {
    "duration": 104,
    "start_time": "2022-02-24T16:11:08.776Z"
   },
   {
    "duration": 86,
    "start_time": "2022-02-24T16:11:17.587Z"
   },
   {
    "duration": 92,
    "start_time": "2022-02-24T16:11:26.840Z"
   },
   {
    "duration": 88,
    "start_time": "2022-02-24T16:11:32.262Z"
   },
   {
    "duration": 157,
    "start_time": "2022-02-24T16:11:48.129Z"
   },
   {
    "duration": 163,
    "start_time": "2022-02-24T16:11:53.734Z"
   },
   {
    "duration": 20,
    "start_time": "2022-02-24T16:11:55.781Z"
   },
   {
    "duration": 130,
    "start_time": "2022-02-24T16:12:22.160Z"
   },
   {
    "duration": 17,
    "start_time": "2022-02-24T16:12:27.621Z"
   },
   {
    "duration": 14,
    "start_time": "2022-02-24T16:13:24.495Z"
   },
   {
    "duration": 8,
    "start_time": "2022-02-24T16:13:51.547Z"
   },
   {
    "duration": 9,
    "start_time": "2022-02-24T16:14:15.182Z"
   },
   {
    "duration": 128,
    "start_time": "2022-02-24T16:22:24.692Z"
   },
   {
    "duration": 143,
    "start_time": "2022-02-24T16:23:00.209Z"
   },
   {
    "duration": 743,
    "start_time": "2022-02-24T16:25:01.817Z"
   },
   {
    "duration": 20,
    "start_time": "2022-02-24T16:25:02.562Z"
   },
   {
    "duration": 141,
    "start_time": "2022-02-24T16:25:02.585Z"
   },
   {
    "duration": 18,
    "start_time": "2022-02-24T16:25:02.728Z"
   },
   {
    "duration": 92,
    "start_time": "2022-02-24T16:25:02.748Z"
   },
   {
    "duration": 13,
    "start_time": "2022-02-24T16:25:02.842Z"
   },
   {
    "duration": 15,
    "start_time": "2022-02-24T16:25:02.857Z"
   },
   {
    "duration": 7,
    "start_time": "2022-02-24T16:25:02.874Z"
   },
   {
    "duration": 26,
    "start_time": "2022-02-24T16:25:02.882Z"
   },
   {
    "duration": 21,
    "start_time": "2022-02-24T16:25:02.909Z"
   },
   {
    "duration": 210,
    "start_time": "2022-02-24T16:25:02.931Z"
   },
   {
    "duration": 130,
    "start_time": "2022-02-24T16:25:21.628Z"
   },
   {
    "duration": 139,
    "start_time": "2022-02-24T16:27:08.021Z"
   },
   {
    "duration": 176,
    "start_time": "2022-02-24T16:27:27.912Z"
   },
   {
    "duration": 185,
    "start_time": "2022-02-24T16:28:10.361Z"
   },
   {
    "duration": 184,
    "start_time": "2022-02-24T16:31:17.186Z"
   },
   {
    "duration": 8,
    "start_time": "2022-02-24T16:31:36.279Z"
   },
   {
    "duration": 15,
    "start_time": "2022-02-24T16:31:44.321Z"
   },
   {
    "duration": 366,
    "start_time": "2022-02-25T15:43:24.387Z"
   },
   {
    "duration": 1166,
    "start_time": "2022-02-25T15:43:32.028Z"
   },
   {
    "duration": 30,
    "start_time": "2022-02-25T15:43:33.198Z"
   },
   {
    "duration": 194,
    "start_time": "2022-02-25T15:43:33.232Z"
   },
   {
    "duration": 38,
    "start_time": "2022-02-25T15:43:33.429Z"
   },
   {
    "duration": 126,
    "start_time": "2022-02-25T15:43:33.469Z"
   },
   {
    "duration": 18,
    "start_time": "2022-02-25T15:43:33.597Z"
   },
   {
    "duration": 21,
    "start_time": "2022-02-25T15:43:33.618Z"
   },
   {
    "duration": 26,
    "start_time": "2022-02-25T15:43:33.642Z"
   },
   {
    "duration": 32,
    "start_time": "2022-02-25T15:43:33.671Z"
   },
   {
    "duration": 9,
    "start_time": "2022-02-25T15:43:33.705Z"
   },
   {
    "duration": 312,
    "start_time": "2022-02-25T15:43:33.716Z"
   },
   {
    "duration": 18,
    "start_time": "2022-02-25T15:43:34.031Z"
   },
   {
    "duration": 44,
    "start_time": "2022-02-25T15:43:34.063Z"
   },
   {
    "duration": 28,
    "start_time": "2022-02-25T15:43:42.824Z"
   },
   {
    "duration": 23,
    "start_time": "2022-02-25T15:43:47.771Z"
   },
   {
    "duration": 63,
    "start_time": "2022-02-25T15:46:11.616Z"
   },
   {
    "duration": 20,
    "start_time": "2022-02-25T15:46:30.645Z"
   },
   {
    "duration": 32,
    "start_time": "2022-02-25T15:46:49.876Z"
   },
   {
    "duration": 20,
    "start_time": "2022-02-25T15:46:58.181Z"
   },
   {
    "duration": 21,
    "start_time": "2022-02-25T15:47:29.959Z"
   },
   {
    "duration": 22,
    "start_time": "2022-02-25T15:51:47.839Z"
   },
   {
    "duration": 25,
    "start_time": "2022-02-25T15:51:52.842Z"
   },
   {
    "duration": 10,
    "start_time": "2022-02-25T15:51:57.919Z"
   },
   {
    "duration": 966,
    "start_time": "2022-02-25T15:52:08.958Z"
   },
   {
    "duration": 40,
    "start_time": "2022-02-25T15:52:09.927Z"
   },
   {
    "duration": 182,
    "start_time": "2022-02-25T15:52:09.969Z"
   },
   {
    "duration": 22,
    "start_time": "2022-02-25T15:52:10.162Z"
   },
   {
    "duration": 128,
    "start_time": "2022-02-25T15:52:10.187Z"
   },
   {
    "duration": 21,
    "start_time": "2022-02-25T15:52:10.318Z"
   },
   {
    "duration": 33,
    "start_time": "2022-02-25T15:52:10.341Z"
   },
   {
    "duration": 8,
    "start_time": "2022-02-25T15:52:10.377Z"
   },
   {
    "duration": 31,
    "start_time": "2022-02-25T15:52:10.387Z"
   },
   {
    "duration": 8,
    "start_time": "2022-02-25T15:52:10.421Z"
   },
   {
    "duration": 318,
    "start_time": "2022-02-25T15:52:10.431Z"
   },
   {
    "duration": 23,
    "start_time": "2022-02-25T15:52:10.753Z"
   },
   {
    "duration": 119,
    "start_time": "2022-02-25T15:52:10.778Z"
   },
   {
    "duration": 47,
    "start_time": "2022-02-25T15:53:05.941Z"
   },
   {
    "duration": 441,
    "start_time": "2022-02-25T15:53:49.176Z"
   },
   {
    "duration": 323,
    "start_time": "2022-02-25T15:54:05.242Z"
   },
   {
    "duration": 27,
    "start_time": "2022-02-25T15:54:52.175Z"
   },
   {
    "duration": 24,
    "start_time": "2022-02-25T15:55:42.440Z"
   },
   {
    "duration": 46,
    "start_time": "2022-02-25T16:04:03.493Z"
   },
   {
    "duration": 137,
    "start_time": "2022-02-25T16:06:22.476Z"
   },
   {
    "duration": 9620,
    "start_time": "2022-02-25T16:06:58.967Z"
   },
   {
    "duration": 644,
    "start_time": "2022-02-25T16:07:20.934Z"
   },
   {
    "duration": 25,
    "start_time": "2022-02-25T16:07:28.651Z"
   },
   {
    "duration": 39,
    "start_time": "2022-02-25T16:07:52.532Z"
   },
   {
    "duration": 31,
    "start_time": "2022-02-25T16:08:21.614Z"
   },
   {
    "duration": 38,
    "start_time": "2022-02-25T16:08:28.421Z"
   },
   {
    "duration": 69,
    "start_time": "2022-02-25T16:12:57.027Z"
   },
   {
    "duration": 327,
    "start_time": "2022-02-25T16:14:08.918Z"
   },
   {
    "duration": 39,
    "start_time": "2022-02-25T16:14:27.917Z"
   },
   {
    "duration": 21,
    "start_time": "2022-02-25T16:14:54.459Z"
   },
   {
    "duration": 16,
    "start_time": "2022-02-25T16:15:08.131Z"
   },
   {
    "duration": 21,
    "start_time": "2022-02-25T16:15:15.141Z"
   },
   {
    "duration": 38,
    "start_time": "2022-02-25T16:17:11.813Z"
   },
   {
    "duration": 53,
    "start_time": "2022-02-25T16:17:43.585Z"
   },
   {
    "duration": 109,
    "start_time": "2022-02-25T16:24:49.591Z"
   },
   {
    "duration": 227,
    "start_time": "2022-02-25T16:24:56.130Z"
   },
   {
    "duration": 334,
    "start_time": "2022-02-25T16:25:05.622Z"
   },
   {
    "duration": 10,
    "start_time": "2022-02-25T16:27:18.815Z"
   },
   {
    "duration": 11,
    "start_time": "2022-02-25T16:27:26.344Z"
   },
   {
    "duration": 7,
    "start_time": "2022-02-25T16:28:07.898Z"
   },
   {
    "duration": 15,
    "start_time": "2022-02-25T16:29:16.958Z"
   },
   {
    "duration": 436,
    "start_time": "2022-02-25T16:30:46.319Z"
   },
   {
    "duration": 141,
    "start_time": "2022-02-25T16:31:50.635Z"
   },
   {
    "duration": 293,
    "start_time": "2022-02-25T16:32:14.260Z"
   },
   {
    "duration": 462,
    "start_time": "2022-02-25T16:32:22.850Z"
   },
   {
    "duration": 1200,
    "start_time": "2022-02-25T16:39:55.289Z"
   },
   {
    "duration": 1110,
    "start_time": "2022-02-25T16:40:18.595Z"
   },
   {
    "duration": 69,
    "start_time": "2022-02-25T16:40:56.082Z"
   },
   {
    "duration": 110,
    "start_time": "2022-02-25T16:41:46.691Z"
   },
   {
    "duration": 111,
    "start_time": "2022-02-25T16:42:50.139Z"
   },
   {
    "duration": 115,
    "start_time": "2022-02-25T16:43:23.821Z"
   },
   {
    "duration": 77,
    "start_time": "2022-02-25T16:43:34.108Z"
   },
   {
    "duration": 129,
    "start_time": "2022-02-25T16:43:39.089Z"
   },
   {
    "duration": 23,
    "start_time": "2022-02-25T16:44:22.155Z"
   },
   {
    "duration": 999,
    "start_time": "2022-02-25T16:44:34.690Z"
   },
   {
    "duration": 39,
    "start_time": "2022-02-25T16:44:41.870Z"
   },
   {
    "duration": 26,
    "start_time": "2022-02-25T16:45:01.346Z"
   },
   {
    "duration": 27,
    "start_time": "2022-02-25T16:45:36.136Z"
   },
   {
    "duration": 26,
    "start_time": "2022-02-25T16:45:40.232Z"
   },
   {
    "duration": 69,
    "start_time": "2022-02-25T16:45:43.817Z"
   },
   {
    "duration": 26,
    "start_time": "2022-02-25T16:45:46.381Z"
   },
   {
    "duration": 49,
    "start_time": "2022-02-25T16:46:50.365Z"
   },
   {
    "duration": 47,
    "start_time": "2022-02-25T16:47:09.199Z"
   },
   {
    "duration": 120,
    "start_time": "2022-02-25T16:48:12.818Z"
   },
   {
    "duration": 147,
    "start_time": "2022-02-25T16:48:18.068Z"
   },
   {
    "duration": 7831,
    "start_time": "2022-02-25T17:16:02.756Z"
   },
   {
    "duration": 5900,
    "start_time": "2022-02-25T17:16:22.052Z"
   },
   {
    "duration": 6027,
    "start_time": "2022-02-25T17:16:31.817Z"
   },
   {
    "duration": 6316,
    "start_time": "2022-02-25T17:16:55.331Z"
   },
   {
    "duration": 7679,
    "start_time": "2022-02-25T17:17:16.775Z"
   },
   {
    "duration": 6,
    "start_time": "2022-02-25T17:17:43.964Z"
   },
   {
    "duration": 517,
    "start_time": "2022-02-25T17:18:26.913Z"
   },
   {
    "duration": 722,
    "start_time": "2022-02-25T17:18:54.356Z"
   },
   {
    "duration": 257,
    "start_time": "2022-02-25T17:19:44.033Z"
   },
   {
    "duration": 2700,
    "start_time": "2022-02-25T17:19:49.371Z"
   },
   {
    "duration": 76,
    "start_time": "2022-02-25T17:36:32.731Z"
   },
   {
    "duration": 34,
    "start_time": "2022-02-25T17:37:10.635Z"
   },
   {
    "duration": 34,
    "start_time": "2022-02-25T17:37:47.015Z"
   },
   {
    "duration": 67,
    "start_time": "2022-02-25T17:38:01.939Z"
   },
   {
    "duration": 61,
    "start_time": "2022-02-25T17:38:58.435Z"
   },
   {
    "duration": 58,
    "start_time": "2022-02-25T17:39:15.199Z"
   },
   {
    "duration": 77,
    "start_time": "2022-02-25T17:42:28.689Z"
   },
   {
    "duration": 35,
    "start_time": "2022-02-25T17:42:39.278Z"
   },
   {
    "duration": 57,
    "start_time": "2022-02-25T17:42:48.847Z"
   },
   {
    "duration": 34,
    "start_time": "2022-02-25T17:44:00.616Z"
   },
   {
    "duration": 96,
    "start_time": "2022-02-25T17:45:41.804Z"
   },
   {
    "duration": 80,
    "start_time": "2022-02-25T17:46:41.589Z"
   },
   {
    "duration": 37,
    "start_time": "2022-02-25T17:46:54.073Z"
   },
   {
    "duration": 63,
    "start_time": "2022-02-25T17:47:07.034Z"
   },
   {
    "duration": 96,
    "start_time": "2022-02-25T17:47:13.280Z"
   },
   {
    "duration": 6641,
    "start_time": "2022-02-25T17:53:56.117Z"
   },
   {
    "duration": 266,
    "start_time": "2022-02-25T17:54:14.730Z"
   },
   {
    "duration": 963,
    "start_time": "2022-02-25T18:01:35.761Z"
   },
   {
    "duration": 39,
    "start_time": "2022-02-25T18:01:36.727Z"
   },
   {
    "duration": 192,
    "start_time": "2022-02-25T18:01:36.770Z"
   },
   {
    "duration": 24,
    "start_time": "2022-02-25T18:01:36.965Z"
   },
   {
    "duration": 133,
    "start_time": "2022-02-25T18:01:36.991Z"
   },
   {
    "duration": 19,
    "start_time": "2022-02-25T18:01:37.126Z"
   },
   {
    "duration": 34,
    "start_time": "2022-02-25T18:01:37.148Z"
   },
   {
    "duration": 13,
    "start_time": "2022-02-25T18:01:37.185Z"
   },
   {
    "duration": 39,
    "start_time": "2022-02-25T18:01:37.202Z"
   },
   {
    "duration": 19,
    "start_time": "2022-02-25T18:01:37.244Z"
   },
   {
    "duration": 315,
    "start_time": "2022-02-25T18:01:37.266Z"
   },
   {
    "duration": 17,
    "start_time": "2022-02-25T18:01:37.585Z"
   },
   {
    "duration": 126,
    "start_time": "2022-02-25T18:01:37.605Z"
   },
   {
    "duration": 82,
    "start_time": "2022-02-25T18:01:37.733Z"
   },
   {
    "duration": 100,
    "start_time": "2022-02-25T18:01:37.817Z"
   },
   {
    "duration": 4,
    "start_time": "2022-02-25T18:01:37.919Z"
   },
   {
    "duration": 99,
    "start_time": "2022-02-25T18:01:37.925Z"
   },
   {
    "duration": 806,
    "start_time": "2022-02-25T18:01:37.220Z"
   },
   {
    "duration": 805,
    "start_time": "2022-02-25T18:01:37.222Z"
   },
   {
    "duration": 329,
    "start_time": "2022-02-25T18:02:03.017Z"
   },
   {
    "duration": 35,
    "start_time": "2022-02-25T18:02:25.938Z"
   },
   {
    "duration": 7852,
    "start_time": "2022-02-25T18:02:29.402Z"
   },
   {
    "duration": 2465,
    "start_time": "2022-02-25T18:03:15.923Z"
   },
   {
    "duration": 2462,
    "start_time": "2022-02-25T18:03:46.255Z"
   },
   {
    "duration": 2479,
    "start_time": "2022-02-25T18:04:12.449Z"
   },
   {
    "duration": 2562,
    "start_time": "2022-02-25T18:05:11.056Z"
   },
   {
    "duration": 39,
    "start_time": "2022-02-25T18:05:59.437Z"
   },
   {
    "duration": 37,
    "start_time": "2022-02-25T18:06:47.631Z"
   },
   {
    "duration": 36,
    "start_time": "2022-02-25T18:06:50.469Z"
   },
   {
    "duration": 33,
    "start_time": "2022-02-25T18:07:05.712Z"
   },
   {
    "duration": 32,
    "start_time": "2022-02-25T18:07:23.076Z"
   },
   {
    "duration": 12,
    "start_time": "2022-02-25T18:08:34.523Z"
   },
   {
    "duration": 12,
    "start_time": "2022-02-25T18:08:40.390Z"
   },
   {
    "duration": 35,
    "start_time": "2022-02-25T18:09:09.678Z"
   },
   {
    "duration": 58,
    "start_time": "2022-02-25T18:10:25.801Z"
   },
   {
    "duration": 36,
    "start_time": "2022-02-25T18:10:33.412Z"
   },
   {
    "duration": 279,
    "start_time": "2022-02-25T18:10:36.002Z"
   },
   {
    "duration": 60,
    "start_time": "2022-02-25T18:11:11.829Z"
   },
   {
    "duration": 37,
    "start_time": "2022-02-25T18:11:17.655Z"
   },
   {
    "duration": 33,
    "start_time": "2022-02-25T18:11:34.136Z"
   },
   {
    "duration": 33,
    "start_time": "2022-02-25T18:11:55.308Z"
   },
   {
    "duration": 1942,
    "start_time": "2022-02-25T18:13:09.516Z"
   },
   {
    "duration": 1716,
    "start_time": "2022-02-25T18:16:08.481Z"
   },
   {
    "duration": 39,
    "start_time": "2022-02-25T18:16:21.208Z"
   },
   {
    "duration": 36,
    "start_time": "2022-02-25T18:16:50.496Z"
   },
   {
    "duration": 1887,
    "start_time": "2022-02-25T18:18:52.351Z"
   },
   {
    "duration": 247,
    "start_time": "2022-02-25T18:20:03.398Z"
   },
   {
    "duration": 712,
    "start_time": "2022-02-25T18:20:23.071Z"
   },
   {
    "duration": 31,
    "start_time": "2022-02-25T18:20:30.355Z"
   },
   {
    "duration": 668,
    "start_time": "2022-02-25T18:20:32.503Z"
   },
   {
    "duration": 1342,
    "start_time": "2022-02-25T18:21:14.096Z"
   },
   {
    "duration": 83,
    "start_time": "2022-02-25T18:23:03.951Z"
   },
   {
    "duration": 3906,
    "start_time": "2022-02-25T18:23:15.993Z"
   },
   {
    "duration": 4201,
    "start_time": "2022-02-25T18:24:18.624Z"
   },
   {
    "duration": 4059,
    "start_time": "2022-02-25T18:24:49.118Z"
   },
   {
    "duration": 265,
    "start_time": "2022-02-25T18:31:24.448Z"
   },
   {
    "duration": 267,
    "start_time": "2022-02-25T18:34:16.172Z"
   },
   {
    "duration": 978,
    "start_time": "2022-02-25T18:35:56.326Z"
   },
   {
    "duration": 27,
    "start_time": "2022-02-25T18:35:57.307Z"
   },
   {
    "duration": 193,
    "start_time": "2022-02-25T18:35:57.337Z"
   },
   {
    "duration": 31,
    "start_time": "2022-02-25T18:35:57.533Z"
   },
   {
    "duration": 127,
    "start_time": "2022-02-25T18:35:57.567Z"
   },
   {
    "duration": 19,
    "start_time": "2022-02-25T18:35:57.696Z"
   },
   {
    "duration": 21,
    "start_time": "2022-02-25T18:35:57.718Z"
   },
   {
    "duration": 26,
    "start_time": "2022-02-25T18:35:57.743Z"
   },
   {
    "duration": 35,
    "start_time": "2022-02-25T18:35:57.772Z"
   },
   {
    "duration": 8,
    "start_time": "2022-02-25T18:35:57.810Z"
   },
   {
    "duration": 325,
    "start_time": "2022-02-25T18:35:57.821Z"
   },
   {
    "duration": 31,
    "start_time": "2022-02-25T18:35:58.149Z"
   },
   {
    "duration": 119,
    "start_time": "2022-02-25T18:35:58.182Z"
   },
   {
    "duration": 84,
    "start_time": "2022-02-25T18:35:58.304Z"
   },
   {
    "duration": 104,
    "start_time": "2022-02-25T18:35:58.390Z"
   },
   {
    "duration": 4,
    "start_time": "2022-02-25T18:35:58.496Z"
   },
   {
    "duration": 6,
    "start_time": "2022-02-25T18:35:58.502Z"
   },
   {
    "duration": 56,
    "start_time": "2022-02-25T18:35:58.511Z"
   },
   {
    "duration": 1063,
    "start_time": "2022-02-25T18:37:41.713Z"
   },
   {
    "duration": 29,
    "start_time": "2022-02-25T18:37:42.779Z"
   },
   {
    "duration": 204,
    "start_time": "2022-02-25T18:37:42.812Z"
   },
   {
    "duration": 23,
    "start_time": "2022-02-25T18:37:43.019Z"
   },
   {
    "duration": 135,
    "start_time": "2022-02-25T18:37:43.045Z"
   },
   {
    "duration": 20,
    "start_time": "2022-02-25T18:37:43.182Z"
   },
   {
    "duration": 26,
    "start_time": "2022-02-25T18:37:43.204Z"
   },
   {
    "duration": 30,
    "start_time": "2022-02-25T18:37:43.233Z"
   },
   {
    "duration": 31,
    "start_time": "2022-02-25T18:37:43.267Z"
   },
   {
    "duration": 10,
    "start_time": "2022-02-25T18:37:43.300Z"
   },
   {
    "duration": 316,
    "start_time": "2022-02-25T18:37:43.313Z"
   },
   {
    "duration": 30,
    "start_time": "2022-02-25T18:37:43.632Z"
   },
   {
    "duration": 115,
    "start_time": "2022-02-25T18:37:43.664Z"
   },
   {
    "duration": 85,
    "start_time": "2022-02-25T18:37:43.782Z"
   },
   {
    "duration": 101,
    "start_time": "2022-02-25T18:37:43.870Z"
   },
   {
    "duration": 55,
    "start_time": "2022-02-25T18:37:43.974Z"
   },
   {
    "duration": 121,
    "start_time": "2022-02-25T18:37:44.032Z"
   },
   {
    "duration": 87,
    "start_time": "2022-02-25T18:37:44.163Z"
   },
   {
    "duration": 765,
    "start_time": "2022-02-25T18:37:43.488Z"
   },
   {
    "duration": 323,
    "start_time": "2022-02-25T18:39:02.274Z"
   },
   {
    "duration": 126,
    "start_time": "2022-02-25T18:39:04.403Z"
   },
   {
    "duration": 232,
    "start_time": "2022-02-25T18:46:39.644Z"
   },
   {
    "duration": 46,
    "start_time": "2022-02-25T18:46:53.155Z"
   },
   {
    "duration": 48,
    "start_time": "2022-02-25T18:47:27.761Z"
   },
   {
    "duration": 290,
    "start_time": "2022-02-25T18:48:54.107Z"
   },
   {
    "duration": 61,
    "start_time": "2022-02-25T18:49:24.296Z"
   },
   {
    "duration": 62,
    "start_time": "2022-02-25T18:49:44.218Z"
   },
   {
    "duration": 58,
    "start_time": "2022-02-25T18:49:49.822Z"
   },
   {
    "duration": 49,
    "start_time": "2022-02-25T18:50:39.641Z"
   },
   {
    "duration": 51,
    "start_time": "2022-02-25T18:51:14.755Z"
   },
   {
    "duration": 75,
    "start_time": "2022-02-25T18:51:28.218Z"
   },
   {
    "duration": 46,
    "start_time": "2022-02-25T18:51:34.292Z"
   },
   {
    "duration": 82,
    "start_time": "2022-02-25T18:51:41.828Z"
   },
   {
    "duration": 75,
    "start_time": "2022-02-25T18:51:58.106Z"
   },
   {
    "duration": 284,
    "start_time": "2022-02-25T18:52:49.312Z"
   },
   {
    "duration": 6245,
    "start_time": "2022-02-25T18:52:53.984Z"
   },
   {
    "duration": 892,
    "start_time": "2022-02-25T18:53:17.296Z"
   },
   {
    "duration": 29,
    "start_time": "2022-02-25T18:53:18.191Z"
   },
   {
    "duration": 189,
    "start_time": "2022-02-25T18:53:18.223Z"
   },
   {
    "duration": 24,
    "start_time": "2022-02-25T18:53:18.415Z"
   },
   {
    "duration": 138,
    "start_time": "2022-02-25T18:53:18.442Z"
   },
   {
    "duration": 18,
    "start_time": "2022-02-25T18:53:18.583Z"
   },
   {
    "duration": 22,
    "start_time": "2022-02-25T18:53:18.604Z"
   },
   {
    "duration": 34,
    "start_time": "2022-02-25T18:53:18.628Z"
   },
   {
    "duration": 30,
    "start_time": "2022-02-25T18:53:18.666Z"
   },
   {
    "duration": 9,
    "start_time": "2022-02-25T18:53:18.698Z"
   },
   {
    "duration": 330,
    "start_time": "2022-02-25T18:53:18.710Z"
   },
   {
    "duration": 31,
    "start_time": "2022-02-25T18:53:19.043Z"
   },
   {
    "duration": 111,
    "start_time": "2022-02-25T18:53:19.076Z"
   },
   {
    "duration": 87,
    "start_time": "2022-02-25T18:53:19.190Z"
   },
   {
    "duration": 109,
    "start_time": "2022-02-25T18:53:19.280Z"
   },
   {
    "duration": 41,
    "start_time": "2022-02-25T18:53:19.391Z"
   },
   {
    "duration": 6260,
    "start_time": "2022-02-25T18:53:19.435Z"
   },
   {
    "duration": 696,
    "start_time": "2022-02-25T18:53:25.002Z"
   },
   {
    "duration": 79,
    "start_time": "2022-02-25T18:53:44.751Z"
   },
   {
    "duration": 28,
    "start_time": "2022-02-25T18:54:16.997Z"
   },
   {
    "duration": 50,
    "start_time": "2022-02-25T18:54:30.123Z"
   },
   {
    "duration": 283,
    "start_time": "2022-02-25T18:59:03.069Z"
   },
   {
    "duration": 37,
    "start_time": "2022-02-25T18:59:16.804Z"
   },
   {
    "duration": 71,
    "start_time": "2022-02-25T18:59:21.132Z"
   },
   {
    "duration": 68,
    "start_time": "2022-02-25T19:02:27.432Z"
   },
   {
    "duration": 69,
    "start_time": "2022-02-25T19:02:42.449Z"
   },
   {
    "duration": 69,
    "start_time": "2022-02-25T19:02:50.078Z"
   },
   {
    "duration": 66,
    "start_time": "2022-02-25T19:04:06.022Z"
   },
   {
    "duration": 68,
    "start_time": "2022-02-25T19:05:57.171Z"
   },
   {
    "duration": 723,
    "start_time": "2022-02-25T19:09:05.328Z"
   },
   {
    "duration": 1059,
    "start_time": "2022-02-25T19:09:42.777Z"
   },
   {
    "duration": 13663,
    "start_time": "2022-02-25T19:13:20.777Z"
   },
   {
    "duration": 787,
    "start_time": "2022-02-25T19:14:13.527Z"
   },
   {
    "duration": 169,
    "start_time": "2022-02-25T19:18:33.292Z"
   },
   {
    "duration": 116,
    "start_time": "2022-02-25T19:18:47.417Z"
   },
   {
    "duration": 298,
    "start_time": "2022-02-26T20:48:31.780Z"
   },
   {
    "duration": 1032,
    "start_time": "2022-02-26T20:48:36.540Z"
   },
   {
    "duration": 27,
    "start_time": "2022-02-26T20:48:37.575Z"
   },
   {
    "duration": 179,
    "start_time": "2022-02-26T20:48:37.605Z"
   },
   {
    "duration": 21,
    "start_time": "2022-02-26T20:48:37.788Z"
   },
   {
    "duration": 128,
    "start_time": "2022-02-26T20:48:37.812Z"
   },
   {
    "duration": 23,
    "start_time": "2022-02-26T20:48:37.942Z"
   },
   {
    "duration": 20,
    "start_time": "2022-02-26T20:48:37.968Z"
   },
   {
    "duration": 8,
    "start_time": "2022-02-26T20:48:37.990Z"
   },
   {
    "duration": 53,
    "start_time": "2022-02-26T20:48:38.001Z"
   },
   {
    "duration": 8,
    "start_time": "2022-02-26T20:48:38.057Z"
   },
   {
    "duration": 302,
    "start_time": "2022-02-26T20:48:38.067Z"
   },
   {
    "duration": 17,
    "start_time": "2022-02-26T20:48:38.371Z"
   },
   {
    "duration": 111,
    "start_time": "2022-02-26T20:48:38.390Z"
   },
   {
    "duration": 75,
    "start_time": "2022-02-26T20:48:38.504Z"
   },
   {
    "duration": 91,
    "start_time": "2022-02-26T20:48:38.581Z"
   },
   {
    "duration": 38,
    "start_time": "2022-02-26T20:48:38.674Z"
   },
   {
    "duration": 91,
    "start_time": "2022-02-26T20:48:38.714Z"
   },
   {
    "duration": 75,
    "start_time": "2022-02-26T20:48:38.808Z"
   },
   {
    "duration": 730,
    "start_time": "2022-02-26T20:48:38.885Z"
   },
   {
    "duration": 2617,
    "start_time": "2022-02-26T20:48:44.094Z"
   },
   {
    "duration": 2779,
    "start_time": "2022-02-26T20:49:07.649Z"
   },
   {
    "duration": 6174,
    "start_time": "2022-02-26T20:50:23.048Z"
   },
   {
    "duration": 30,
    "start_time": "2022-02-26T20:50:38.707Z"
   },
   {
    "duration": 1045,
    "start_time": "2022-02-26T20:50:56.251Z"
   },
   {
    "duration": 39,
    "start_time": "2022-02-26T20:51:12.116Z"
   },
   {
    "duration": 42,
    "start_time": "2022-02-26T20:51:52.469Z"
   },
   {
    "duration": 45,
    "start_time": "2022-02-26T20:52:45.372Z"
   },
   {
    "duration": 864,
    "start_time": "2022-02-26T20:52:56.081Z"
   },
   {
    "duration": 27,
    "start_time": "2022-02-26T20:52:56.947Z"
   },
   {
    "duration": 175,
    "start_time": "2022-02-26T20:52:56.977Z"
   },
   {
    "duration": 22,
    "start_time": "2022-02-26T20:52:57.155Z"
   },
   {
    "duration": 120,
    "start_time": "2022-02-26T20:52:57.180Z"
   },
   {
    "duration": 18,
    "start_time": "2022-02-26T20:52:57.302Z"
   },
   {
    "duration": 37,
    "start_time": "2022-02-26T20:52:57.322Z"
   },
   {
    "duration": 10,
    "start_time": "2022-02-26T20:52:57.361Z"
   },
   {
    "duration": 29,
    "start_time": "2022-02-26T20:52:57.374Z"
   },
   {
    "duration": 7,
    "start_time": "2022-02-26T20:52:57.406Z"
   },
   {
    "duration": 313,
    "start_time": "2022-02-26T20:52:57.415Z"
   },
   {
    "duration": 25,
    "start_time": "2022-02-26T20:52:57.731Z"
   },
   {
    "duration": 108,
    "start_time": "2022-02-26T20:52:57.758Z"
   },
   {
    "duration": 66,
    "start_time": "2022-02-26T20:52:57.868Z"
   },
   {
    "duration": 95,
    "start_time": "2022-02-26T20:52:57.936Z"
   },
   {
    "duration": 51,
    "start_time": "2022-02-26T20:52:58.034Z"
   },
   {
    "duration": 84,
    "start_time": "2022-02-26T20:52:58.088Z"
   },
   {
    "duration": 75,
    "start_time": "2022-02-26T20:52:58.176Z"
   },
   {
    "duration": 42,
    "start_time": "2022-02-26T20:52:58.254Z"
   },
   {
    "duration": 324,
    "start_time": "2022-02-26T20:54:19.468Z"
   },
   {
    "duration": 66,
    "start_time": "2022-02-26T20:54:59.874Z"
   },
   {
    "duration": 12,
    "start_time": "2022-02-26T20:55:06.431Z"
   },
   {
    "duration": 50,
    "start_time": "2022-02-26T20:55:11.811Z"
   },
   {
    "duration": 62,
    "start_time": "2022-02-26T21:03:40.275Z"
   },
   {
    "duration": 933,
    "start_time": "2022-02-26T21:03:53.858Z"
   },
   {
    "duration": 27,
    "start_time": "2022-02-26T21:03:54.794Z"
   },
   {
    "duration": 171,
    "start_time": "2022-02-26T21:03:54.824Z"
   },
   {
    "duration": 22,
    "start_time": "2022-02-26T21:03:54.998Z"
   },
   {
    "duration": 129,
    "start_time": "2022-02-26T21:03:55.023Z"
   },
   {
    "duration": 18,
    "start_time": "2022-02-26T21:03:55.155Z"
   },
   {
    "duration": 20,
    "start_time": "2022-02-26T21:03:55.176Z"
   },
   {
    "duration": 8,
    "start_time": "2022-02-26T21:03:55.199Z"
   },
   {
    "duration": 53,
    "start_time": "2022-02-26T21:03:55.210Z"
   },
   {
    "duration": 9,
    "start_time": "2022-02-26T21:03:55.266Z"
   },
   {
    "duration": 279,
    "start_time": "2022-02-26T21:03:55.278Z"
   },
   {
    "duration": 16,
    "start_time": "2022-02-26T21:03:55.560Z"
   },
   {
    "duration": 115,
    "start_time": "2022-02-26T21:03:55.579Z"
   },
   {
    "duration": 76,
    "start_time": "2022-02-26T21:03:55.697Z"
   },
   {
    "duration": 89,
    "start_time": "2022-02-26T21:03:55.776Z"
   },
   {
    "duration": 35,
    "start_time": "2022-02-26T21:03:55.867Z"
   },
   {
    "duration": 88,
    "start_time": "2022-02-26T21:03:55.904Z"
   },
   {
    "duration": 1239,
    "start_time": "2022-02-26T21:03:55.994Z"
   },
   {
    "duration": 44,
    "start_time": "2022-02-26T21:04:05.880Z"
   },
   {
    "duration": 32,
    "start_time": "2022-02-26T21:14:00.715Z"
   },
   {
    "duration": 883,
    "start_time": "2022-02-26T21:14:38.895Z"
   },
   {
    "duration": 31,
    "start_time": "2022-02-26T21:14:39.780Z"
   },
   {
    "duration": 180,
    "start_time": "2022-02-26T21:14:39.814Z"
   },
   {
    "duration": 23,
    "start_time": "2022-02-26T21:14:39.997Z"
   },
   {
    "duration": 129,
    "start_time": "2022-02-26T21:14:40.023Z"
   },
   {
    "duration": 18,
    "start_time": "2022-02-26T21:14:40.155Z"
   },
   {
    "duration": 21,
    "start_time": "2022-02-26T21:14:40.175Z"
   },
   {
    "duration": 8,
    "start_time": "2022-02-26T21:14:40.200Z"
   },
   {
    "duration": 50,
    "start_time": "2022-02-26T21:14:40.210Z"
   },
   {
    "duration": 13,
    "start_time": "2022-02-26T21:14:40.263Z"
   },
   {
    "duration": 312,
    "start_time": "2022-02-26T21:14:40.279Z"
   },
   {
    "duration": 18,
    "start_time": "2022-02-26T21:14:40.594Z"
   },
   {
    "duration": 117,
    "start_time": "2022-02-26T21:14:40.615Z"
   },
   {
    "duration": 78,
    "start_time": "2022-02-26T21:14:40.735Z"
   },
   {
    "duration": 96,
    "start_time": "2022-02-26T21:14:40.816Z"
   },
   {
    "duration": 44,
    "start_time": "2022-02-26T21:14:40.914Z"
   },
   {
    "duration": 66,
    "start_time": "2022-02-26T21:14:40.960Z"
   },
   {
    "duration": 59,
    "start_time": "2022-02-26T21:14:41.029Z"
   },
   {
    "duration": 32,
    "start_time": "2022-02-26T21:14:41.090Z"
   },
   {
    "duration": 5996,
    "start_time": "2022-02-26T21:15:36.862Z"
   },
   {
    "duration": 6681,
    "start_time": "2022-02-26T21:18:30.719Z"
   },
   {
    "duration": 8795,
    "start_time": "2022-02-26T21:18:46.633Z"
   },
   {
    "duration": 34,
    "start_time": "2022-02-26T21:19:13.144Z"
   },
   {
    "duration": 43,
    "start_time": "2022-02-26T21:19:46.814Z"
   },
   {
    "duration": 30,
    "start_time": "2022-02-26T21:19:54.501Z"
   },
   {
    "duration": 52,
    "start_time": "2022-02-26T21:20:30.723Z"
   },
   {
    "duration": 52,
    "start_time": "2022-02-26T21:22:40.436Z"
   },
   {
    "duration": 44,
    "start_time": "2022-02-26T21:22:52.093Z"
   },
   {
    "duration": 300,
    "start_time": "2022-02-26T21:23:07.548Z"
   },
   {
    "duration": 916,
    "start_time": "2022-02-26T21:23:18.354Z"
   },
   {
    "duration": 29,
    "start_time": "2022-02-26T21:23:19.273Z"
   },
   {
    "duration": 186,
    "start_time": "2022-02-26T21:23:19.310Z"
   },
   {
    "duration": 22,
    "start_time": "2022-02-26T21:23:19.498Z"
   },
   {
    "duration": 114,
    "start_time": "2022-02-26T21:23:19.522Z"
   },
   {
    "duration": 27,
    "start_time": "2022-02-26T21:23:19.638Z"
   },
   {
    "duration": 20,
    "start_time": "2022-02-26T21:23:19.667Z"
   },
   {
    "duration": 8,
    "start_time": "2022-02-26T21:23:19.690Z"
   },
   {
    "duration": 51,
    "start_time": "2022-02-26T21:23:19.701Z"
   },
   {
    "duration": 9,
    "start_time": "2022-02-26T21:23:19.755Z"
   },
   {
    "duration": 287,
    "start_time": "2022-02-26T21:23:19.766Z"
   },
   {
    "duration": 19,
    "start_time": "2022-02-26T21:23:20.055Z"
   },
   {
    "duration": 117,
    "start_time": "2022-02-26T21:23:20.077Z"
   },
   {
    "duration": 82,
    "start_time": "2022-02-26T21:23:20.197Z"
   },
   {
    "duration": 95,
    "start_time": "2022-02-26T21:23:20.281Z"
   },
   {
    "duration": 40,
    "start_time": "2022-02-26T21:23:20.379Z"
   },
   {
    "duration": 94,
    "start_time": "2022-02-26T21:23:20.422Z"
   },
   {
    "duration": 391,
    "start_time": "2022-02-26T21:23:20.519Z"
   },
   {
    "duration": 1310,
    "start_time": "2022-02-26T21:23:19.603Z"
   },
   {
    "duration": 42,
    "start_time": "2022-02-26T21:23:30.939Z"
   },
   {
    "duration": 246,
    "start_time": "2022-02-26T21:27:03.718Z"
   },
   {
    "duration": 239,
    "start_time": "2022-02-26T21:27:39.073Z"
   },
   {
    "duration": 257,
    "start_time": "2022-02-26T21:29:48.238Z"
   },
   {
    "duration": 822,
    "start_time": "2022-02-26T21:30:13.864Z"
   },
   {
    "duration": 14,
    "start_time": "2022-02-26T21:30:21.528Z"
   },
   {
    "duration": 33,
    "start_time": "2022-02-26T21:30:28.976Z"
   },
   {
    "duration": 349,
    "start_time": "2022-02-26T21:40:57.704Z"
   },
   {
    "duration": 1497,
    "start_time": "2022-02-26T21:41:23.320Z"
   },
   {
    "duration": 56,
    "start_time": "2022-02-26T21:41:38.030Z"
   },
   {
    "duration": 246,
    "start_time": "2022-02-26T21:43:51.257Z"
   },
   {
    "duration": 356,
    "start_time": "2022-02-26T21:44:02.199Z"
   },
   {
    "duration": 1107,
    "start_time": "2022-02-26T21:44:10.209Z"
   },
   {
    "duration": 47,
    "start_time": "2022-02-26T21:44:11.319Z"
   },
   {
    "duration": 183,
    "start_time": "2022-02-26T21:44:11.371Z"
   },
   {
    "duration": 22,
    "start_time": "2022-02-26T21:44:11.557Z"
   },
   {
    "duration": 126,
    "start_time": "2022-02-26T21:44:11.581Z"
   },
   {
    "duration": 18,
    "start_time": "2022-02-26T21:44:11.710Z"
   },
   {
    "duration": 33,
    "start_time": "2022-02-26T21:44:11.730Z"
   },
   {
    "duration": 10,
    "start_time": "2022-02-26T21:44:11.765Z"
   },
   {
    "duration": 52,
    "start_time": "2022-02-26T21:44:11.779Z"
   },
   {
    "duration": 8,
    "start_time": "2022-02-26T21:44:11.833Z"
   },
   {
    "duration": 270,
    "start_time": "2022-02-26T21:44:11.843Z"
   },
   {
    "duration": 18,
    "start_time": "2022-02-26T21:44:12.116Z"
   },
   {
    "duration": 116,
    "start_time": "2022-02-26T21:44:12.136Z"
   },
   {
    "duration": 67,
    "start_time": "2022-02-26T21:44:12.255Z"
   },
   {
    "duration": 105,
    "start_time": "2022-02-26T21:44:12.324Z"
   },
   {
    "duration": 45,
    "start_time": "2022-02-26T21:44:12.431Z"
   },
   {
    "duration": 76,
    "start_time": "2022-02-26T21:44:12.479Z"
   },
   {
    "duration": 49,
    "start_time": "2022-02-26T21:44:12.558Z"
   },
   {
    "duration": 67,
    "start_time": "2022-02-26T21:44:12.610Z"
   },
   {
    "duration": 373,
    "start_time": "2022-02-26T21:46:36.396Z"
   },
   {
    "duration": 848,
    "start_time": "2022-02-26T21:46:45.995Z"
   },
   {
    "duration": 29,
    "start_time": "2022-02-26T21:46:46.846Z"
   },
   {
    "duration": 175,
    "start_time": "2022-02-26T21:46:46.879Z"
   },
   {
    "duration": 22,
    "start_time": "2022-02-26T21:46:47.057Z"
   },
   {
    "duration": 120,
    "start_time": "2022-02-26T21:46:47.081Z"
   },
   {
    "duration": 18,
    "start_time": "2022-02-26T21:46:47.203Z"
   },
   {
    "duration": 35,
    "start_time": "2022-02-26T21:46:47.224Z"
   },
   {
    "duration": 12,
    "start_time": "2022-02-26T21:46:47.262Z"
   },
   {
    "duration": 45,
    "start_time": "2022-02-26T21:46:47.278Z"
   },
   {
    "duration": 8,
    "start_time": "2022-02-26T21:46:47.326Z"
   },
   {
    "duration": 282,
    "start_time": "2022-02-26T21:46:47.337Z"
   },
   {
    "duration": 18,
    "start_time": "2022-02-26T21:46:47.622Z"
   },
   {
    "duration": 104,
    "start_time": "2022-02-26T21:46:47.652Z"
   },
   {
    "duration": 70,
    "start_time": "2022-02-26T21:46:47.758Z"
   },
   {
    "duration": 94,
    "start_time": "2022-02-26T21:46:47.831Z"
   },
   {
    "duration": 50,
    "start_time": "2022-02-26T21:46:47.927Z"
   },
   {
    "duration": 84,
    "start_time": "2022-02-26T21:46:47.980Z"
   },
   {
    "duration": 44,
    "start_time": "2022-02-26T21:46:48.066Z"
   },
   {
    "duration": 523,
    "start_time": "2022-02-26T21:46:48.112Z"
   },
   {
    "duration": 257,
    "start_time": "2022-02-26T21:46:53.219Z"
   },
   {
    "duration": 892,
    "start_time": "2022-02-26T21:48:12.069Z"
   },
   {
    "duration": 27,
    "start_time": "2022-02-26T21:48:12.964Z"
   },
   {
    "duration": 184,
    "start_time": "2022-02-26T21:48:12.994Z"
   },
   {
    "duration": 23,
    "start_time": "2022-02-26T21:48:13.181Z"
   },
   {
    "duration": 129,
    "start_time": "2022-02-26T21:48:13.206Z"
   },
   {
    "duration": 23,
    "start_time": "2022-02-26T21:48:13.337Z"
   },
   {
    "duration": 19,
    "start_time": "2022-02-26T21:48:13.363Z"
   },
   {
    "duration": 9,
    "start_time": "2022-02-26T21:48:13.386Z"
   },
   {
    "duration": 37,
    "start_time": "2022-02-26T21:48:13.398Z"
   },
   {
    "duration": 8,
    "start_time": "2022-02-26T21:48:13.452Z"
   },
   {
    "duration": 273,
    "start_time": "2022-02-26T21:48:13.463Z"
   },
   {
    "duration": 27,
    "start_time": "2022-02-26T21:48:13.740Z"
   },
   {
    "duration": 113,
    "start_time": "2022-02-26T21:48:13.770Z"
   },
   {
    "duration": 79,
    "start_time": "2022-02-26T21:48:13.886Z"
   },
   {
    "duration": 93,
    "start_time": "2022-02-26T21:48:13.968Z"
   },
   {
    "duration": 38,
    "start_time": "2022-02-26T21:48:14.064Z"
   },
   {
    "duration": 101,
    "start_time": "2022-02-26T21:48:14.105Z"
   },
   {
    "duration": 56,
    "start_time": "2022-02-26T21:48:14.208Z"
   },
   {
    "duration": 612,
    "start_time": "2022-02-26T21:48:14.267Z"
   },
   {
    "duration": 610,
    "start_time": "2022-02-26T21:51:30.952Z"
   },
   {
    "duration": 6494,
    "start_time": "2022-02-26T21:54:13.965Z"
   },
   {
    "duration": 137,
    "start_time": "2022-02-26T21:54:30.535Z"
   },
   {
    "duration": 88,
    "start_time": "2022-02-26T21:56:08.404Z"
   },
   {
    "duration": 127,
    "start_time": "2022-02-26T22:01:10.935Z"
   },
   {
    "duration": 77,
    "start_time": "2022-02-26T22:01:35.171Z"
   },
   {
    "duration": 150,
    "start_time": "2022-02-26T22:01:45.554Z"
   },
   {
    "duration": 139,
    "start_time": "2022-02-26T22:02:20.936Z"
   },
   {
    "duration": 143,
    "start_time": "2022-02-26T22:03:16.115Z"
   },
   {
    "duration": 220,
    "start_time": "2022-02-26T22:06:50.476Z"
   },
   {
    "duration": 64,
    "start_time": "2022-02-26T22:07:38.985Z"
   },
   {
    "duration": 223,
    "start_time": "2022-02-26T22:08:10.531Z"
   },
   {
    "duration": 217,
    "start_time": "2022-02-26T22:08:20.774Z"
   },
   {
    "duration": 72,
    "start_time": "2022-02-26T22:09:19.090Z"
   },
   {
    "duration": 73,
    "start_time": "2022-02-26T22:09:29.908Z"
   },
   {
    "duration": 212,
    "start_time": "2022-02-26T22:09:32.265Z"
   },
   {
    "duration": 74,
    "start_time": "2022-02-26T22:09:44.517Z"
   },
   {
    "duration": 291,
    "start_time": "2022-02-26T22:12:16.905Z"
   },
   {
    "duration": 362,
    "start_time": "2022-02-26T22:14:43.385Z"
   },
   {
    "duration": 270,
    "start_time": "2022-02-26T22:21:06.054Z"
   },
   {
    "duration": 84,
    "start_time": "2022-02-26T22:21:24.058Z"
   },
   {
    "duration": 247,
    "start_time": "2022-02-26T22:21:28.856Z"
   },
   {
    "duration": 281,
    "start_time": "2022-02-26T22:24:12.133Z"
   },
   {
    "duration": 264,
    "start_time": "2022-02-26T22:25:22.873Z"
   },
   {
    "duration": 853,
    "start_time": "2022-02-26T22:25:48.306Z"
   },
   {
    "duration": 27,
    "start_time": "2022-02-26T22:25:49.162Z"
   },
   {
    "duration": 177,
    "start_time": "2022-02-26T22:25:49.192Z"
   },
   {
    "duration": 21,
    "start_time": "2022-02-26T22:25:49.372Z"
   },
   {
    "duration": 124,
    "start_time": "2022-02-26T22:25:49.395Z"
   },
   {
    "duration": 17,
    "start_time": "2022-02-26T22:25:49.522Z"
   },
   {
    "duration": 20,
    "start_time": "2022-02-26T22:25:49.551Z"
   },
   {
    "duration": 10,
    "start_time": "2022-02-26T22:25:49.573Z"
   },
   {
    "duration": 43,
    "start_time": "2022-02-26T22:25:49.587Z"
   },
   {
    "duration": 8,
    "start_time": "2022-02-26T22:25:49.633Z"
   },
   {
    "duration": 279,
    "start_time": "2022-02-26T22:25:49.652Z"
   },
   {
    "duration": 29,
    "start_time": "2022-02-26T22:25:49.934Z"
   },
   {
    "duration": 107,
    "start_time": "2022-02-26T22:25:49.966Z"
   },
   {
    "duration": 67,
    "start_time": "2022-02-26T22:25:50.075Z"
   },
   {
    "duration": 82,
    "start_time": "2022-02-26T22:25:50.152Z"
   },
   {
    "duration": 47,
    "start_time": "2022-02-26T22:25:50.237Z"
   },
   {
    "duration": 87,
    "start_time": "2022-02-26T22:25:50.287Z"
   },
   {
    "duration": 63,
    "start_time": "2022-02-26T22:25:50.377Z"
   },
   {
    "duration": 294,
    "start_time": "2022-02-26T22:25:50.451Z"
   },
   {
    "duration": 280,
    "start_time": "2022-02-26T22:26:18.830Z"
   },
   {
    "duration": 275,
    "start_time": "2022-02-26T22:26:27.026Z"
   },
   {
    "duration": 975,
    "start_time": "2022-02-26T22:26:49.241Z"
   },
   {
    "duration": 996,
    "start_time": "2022-02-26T22:27:22.304Z"
   },
   {
    "duration": 283,
    "start_time": "2022-02-26T22:27:30.926Z"
   },
   {
    "duration": 99,
    "start_time": "2022-02-26T22:27:50.309Z"
   },
   {
    "duration": 307,
    "start_time": "2022-02-26T22:28:06.514Z"
   },
   {
    "duration": 717,
    "start_time": "2022-02-26T22:28:16.409Z"
   },
   {
    "duration": 474,
    "start_time": "2022-02-26T22:29:12.924Z"
   },
   {
    "duration": 277,
    "start_time": "2022-02-26T22:30:17.909Z"
   },
   {
    "duration": 333,
    "start_time": "2022-02-26T22:30:26.577Z"
   },
   {
    "duration": 287,
    "start_time": "2022-02-26T22:30:32.136Z"
   },
   {
    "duration": 279,
    "start_time": "2022-02-26T22:31:54.993Z"
   },
   {
    "duration": 294,
    "start_time": "2022-02-26T22:32:43.226Z"
   },
   {
    "duration": 283,
    "start_time": "2022-02-26T22:33:52.637Z"
   },
   {
    "duration": 85,
    "start_time": "2022-02-26T22:35:40.064Z"
   },
   {
    "duration": 292,
    "start_time": "2022-02-26T22:35:51.506Z"
   },
   {
    "duration": 6,
    "start_time": "2022-02-26T22:42:33.073Z"
   },
   {
    "duration": 80,
    "start_time": "2022-02-26T22:42:47.137Z"
   },
   {
    "duration": 403,
    "start_time": "2022-02-26T22:42:59.032Z"
   },
   {
    "duration": 395,
    "start_time": "2022-02-26T22:44:12.850Z"
   },
   {
    "duration": 389,
    "start_time": "2022-02-26T22:44:48.038Z"
   },
   {
    "duration": 408,
    "start_time": "2022-02-26T22:44:53.610Z"
   },
   {
    "duration": 421,
    "start_time": "2022-02-26T22:45:07.954Z"
   },
   {
    "duration": 78,
    "start_time": "2022-02-26T22:45:36.416Z"
   },
   {
    "duration": 397,
    "start_time": "2022-02-26T22:45:54.433Z"
   },
   {
    "duration": 409,
    "start_time": "2022-02-26T22:46:54.154Z"
   },
   {
    "duration": 43,
    "start_time": "2022-02-26T22:48:43.364Z"
   },
   {
    "duration": 46,
    "start_time": "2022-02-26T22:49:07.961Z"
   },
   {
    "duration": 46,
    "start_time": "2022-02-26T22:49:16.914Z"
   },
   {
    "duration": 122,
    "start_time": "2022-02-26T22:50:23.146Z"
   },
   {
    "duration": 280,
    "start_time": "2022-02-26T22:51:39.727Z"
   },
   {
    "duration": 44,
    "start_time": "2022-02-26T22:52:06.969Z"
   },
   {
    "duration": 45,
    "start_time": "2022-02-26T22:52:42.414Z"
   },
   {
    "duration": 71,
    "start_time": "2022-02-26T22:52:49.629Z"
   },
   {
    "duration": 336,
    "start_time": "2022-02-26T22:53:21.836Z"
   },
   {
    "duration": 388,
    "start_time": "2022-02-26T22:53:59.282Z"
   },
   {
    "duration": 403,
    "start_time": "2022-02-26T22:54:19.743Z"
   },
   {
    "duration": 72,
    "start_time": "2022-02-26T22:54:25.008Z"
   },
   {
    "duration": 399,
    "start_time": "2022-02-26T22:54:27.347Z"
   },
   {
    "duration": 381,
    "start_time": "2022-02-26T22:54:45.996Z"
   },
   {
    "duration": 68,
    "start_time": "2022-02-26T22:54:49.557Z"
   },
   {
    "duration": 435,
    "start_time": "2022-02-26T22:54:51.535Z"
   },
   {
    "duration": 407,
    "start_time": "2022-02-26T23:06:09.956Z"
   },
   {
    "duration": 955,
    "start_time": "2022-02-28T17:00:31.625Z"
   },
   {
    "duration": 30,
    "start_time": "2022-02-28T17:00:32.583Z"
   },
   {
    "duration": 182,
    "start_time": "2022-02-28T17:00:32.617Z"
   },
   {
    "duration": 23,
    "start_time": "2022-02-28T17:00:32.802Z"
   },
   {
    "duration": 124,
    "start_time": "2022-02-28T17:00:32.827Z"
   },
   {
    "duration": 18,
    "start_time": "2022-02-28T17:00:32.953Z"
   },
   {
    "duration": 21,
    "start_time": "2022-02-28T17:00:32.974Z"
   },
   {
    "duration": 7,
    "start_time": "2022-02-28T17:00:32.997Z"
   },
   {
    "duration": 51,
    "start_time": "2022-02-28T17:00:33.008Z"
   },
   {
    "duration": 8,
    "start_time": "2022-02-28T17:00:33.061Z"
   },
   {
    "duration": 292,
    "start_time": "2022-02-28T17:00:33.072Z"
   },
   {
    "duration": 17,
    "start_time": "2022-02-28T17:00:33.366Z"
   },
   {
    "duration": 109,
    "start_time": "2022-02-28T17:00:33.385Z"
   },
   {
    "duration": 75,
    "start_time": "2022-02-28T17:00:33.496Z"
   },
   {
    "duration": 86,
    "start_time": "2022-02-28T17:00:33.573Z"
   },
   {
    "duration": 37,
    "start_time": "2022-02-28T17:00:33.661Z"
   },
   {
    "duration": 88,
    "start_time": "2022-02-28T17:00:33.700Z"
   },
   {
    "duration": 86,
    "start_time": "2022-02-28T17:00:33.790Z"
   },
   {
    "duration": 410,
    "start_time": "2022-02-28T17:00:33.878Z"
   },
   {
    "duration": 407,
    "start_time": "2022-02-28T17:09:29.652Z"
   },
   {
    "duration": 372,
    "start_time": "2022-02-28T17:09:34.190Z"
   },
   {
    "duration": 318,
    "start_time": "2022-02-28T17:09:49.455Z"
   },
   {
    "duration": 355,
    "start_time": "2022-02-28T17:10:04.266Z"
   },
   {
    "duration": 398,
    "start_time": "2022-02-28T17:10:33.207Z"
   },
   {
    "duration": 356,
    "start_time": "2022-02-28T17:10:39.799Z"
   },
   {
    "duration": 358,
    "start_time": "2022-02-28T17:10:46.645Z"
   },
   {
    "duration": 356,
    "start_time": "2022-02-28T17:11:16.432Z"
   },
   {
    "duration": -856,
    "start_time": "2022-02-28T17:12:10.461Z"
   },
   {
    "duration": 7684,
    "start_time": "2022-02-28T17:12:11.332Z"
   },
   {
    "duration": 456,
    "start_time": "2022-02-28T17:12:23.777Z"
   },
   {
    "duration": 614,
    "start_time": "2022-02-28T17:12:34.901Z"
   },
   {
    "duration": 529,
    "start_time": "2022-02-28T17:12:44.032Z"
   },
   {
    "duration": 601,
    "start_time": "2022-02-28T17:13:21.716Z"
   },
   {
    "duration": 613,
    "start_time": "2022-02-28T17:13:39.946Z"
   },
   {
    "duration": 602,
    "start_time": "2022-02-28T17:13:46.459Z"
   },
   {
    "duration": 339,
    "start_time": "2022-02-28T17:14:18.623Z"
   },
   {
    "duration": 326,
    "start_time": "2022-02-28T17:14:50.309Z"
   },
   {
    "duration": 311,
    "start_time": "2022-02-28T17:19:34.865Z"
   },
   {
    "duration": 428,
    "start_time": "2022-02-28T17:20:07.867Z"
   },
   {
    "duration": 319,
    "start_time": "2022-02-28T17:20:55.538Z"
   },
   {
    "duration": 799,
    "start_time": "2022-02-28T17:21:30.043Z"
   },
   {
    "duration": 320,
    "start_time": "2022-02-28T17:21:38.819Z"
   },
   {
    "duration": 318,
    "start_time": "2022-02-28T17:21:46.395Z"
   },
   {
    "duration": 336,
    "start_time": "2022-02-28T17:24:48.339Z"
   },
   {
    "duration": 361,
    "start_time": "2022-02-28T17:26:19.892Z"
   },
   {
    "duration": 346,
    "start_time": "2022-02-28T17:28:03.713Z"
   },
   {
    "duration": 334,
    "start_time": "2022-02-28T17:30:05.593Z"
   },
   {
    "duration": 362,
    "start_time": "2022-02-28T17:32:10.256Z"
   },
   {
    "duration": 424,
    "start_time": "2022-02-28T17:33:16.872Z"
   },
   {
    "duration": 333,
    "start_time": "2022-02-28T17:36:53.708Z"
   },
   {
    "duration": 356,
    "start_time": "2022-02-28T17:41:56.240Z"
   },
   {
    "duration": 373,
    "start_time": "2022-02-28T17:48:23.514Z"
   },
   {
    "duration": 501,
    "start_time": "2022-02-28T17:48:42.823Z"
   },
   {
    "duration": 1063,
    "start_time": "2022-02-28T17:52:24.672Z"
   },
   {
    "duration": 393,
    "start_time": "2022-02-28T17:55:47.832Z"
   },
   {
    "duration": 439,
    "start_time": "2022-02-28T17:59:13.169Z"
   },
   {
    "duration": 439,
    "start_time": "2022-02-28T17:59:21.746Z"
   },
   {
    "duration": 354,
    "start_time": "2022-02-28T18:44:32.732Z"
   },
   {
    "duration": 412,
    "start_time": "2022-02-28T18:45:10.440Z"
   },
   {
    "duration": 506,
    "start_time": "2022-02-28T18:45:32.720Z"
   },
   {
    "duration": 468,
    "start_time": "2022-02-28T18:46:14.709Z"
   },
   {
    "duration": 425,
    "start_time": "2022-02-28T18:49:59.002Z"
   },
   {
    "duration": 449,
    "start_time": "2022-02-28T18:50:50.343Z"
   },
   {
    "duration": 352,
    "start_time": "2022-02-28T18:51:44.656Z"
   },
   {
    "duration": 334,
    "start_time": "2022-02-28T18:55:06.276Z"
   },
   {
    "duration": 794,
    "start_time": "2022-02-28T18:55:09.936Z"
   },
   {
    "duration": 524,
    "start_time": "2022-02-28T18:55:18.536Z"
   },
   {
    "duration": 1484,
    "start_time": "2022-02-28T18:55:23.353Z"
   },
   {
    "duration": 470,
    "start_time": "2022-02-28T18:55:32.255Z"
   },
   {
    "duration": 679,
    "start_time": "2022-02-28T18:56:33.547Z"
   },
   {
    "duration": 453,
    "start_time": "2022-02-28T18:56:39.939Z"
   },
   {
    "duration": 379,
    "start_time": "2022-02-28T18:56:52.687Z"
   },
   {
    "duration": 571,
    "start_time": "2022-02-28T19:00:40.373Z"
   },
   {
    "duration": 410,
    "start_time": "2022-02-28T19:04:42.668Z"
   },
   {
    "duration": 423,
    "start_time": "2022-02-28T19:04:50.015Z"
   },
   {
    "duration": 359,
    "start_time": "2022-02-28T19:05:41.605Z"
   },
   {
    "duration": 353,
    "start_time": "2022-02-28T19:05:49.352Z"
   },
   {
    "duration": 444,
    "start_time": "2022-02-28T19:06:24.345Z"
   },
   {
    "duration": 442,
    "start_time": "2022-02-28T19:06:39.840Z"
   },
   {
    "duration": 387,
    "start_time": "2022-02-28T19:07:07.628Z"
   },
   {
    "duration": 492,
    "start_time": "2022-02-28T19:07:13.970Z"
   },
   {
    "duration": 703,
    "start_time": "2022-02-28T19:09:05.370Z"
   },
   {
    "duration": 96,
    "start_time": "2022-02-28T19:09:30.796Z"
   },
   {
    "duration": 510,
    "start_time": "2022-02-28T19:09:39.372Z"
   },
   {
    "duration": 470,
    "start_time": "2022-02-28T19:10:17.526Z"
   },
   {
    "duration": 418,
    "start_time": "2022-02-28T19:10:40.316Z"
   },
   {
    "duration": 429,
    "start_time": "2022-02-28T19:10:48.828Z"
   },
   {
    "duration": 267,
    "start_time": "2022-02-28T19:11:16.341Z"
   },
   {
    "duration": 460,
    "start_time": "2022-02-28T19:11:21.928Z"
   },
   {
    "duration": 455,
    "start_time": "2022-02-28T19:11:35.001Z"
   },
   {
    "duration": 460,
    "start_time": "2022-02-28T19:12:36.923Z"
   },
   {
    "duration": 384,
    "start_time": "2022-02-28T19:26:59.794Z"
   },
   {
    "duration": 366,
    "start_time": "2022-02-28T19:27:13.064Z"
   },
   {
    "duration": 361,
    "start_time": "2022-02-28T19:27:25.745Z"
   },
   {
    "duration": 364,
    "start_time": "2022-02-28T19:30:04.055Z"
   },
   {
    "duration": 306,
    "start_time": "2022-02-28T19:37:12.933Z"
   },
   {
    "duration": 14,
    "start_time": "2022-02-28T19:37:27.347Z"
   },
   {
    "duration": 78,
    "start_time": "2022-02-28T19:48:22.405Z"
   },
   {
    "duration": 89,
    "start_time": "2022-02-28T19:48:38.996Z"
   },
   {
    "duration": 304,
    "start_time": "2022-02-28T19:49:28.488Z"
   },
   {
    "duration": 14,
    "start_time": "2022-02-28T19:49:37.048Z"
   },
   {
    "duration": 16,
    "start_time": "2022-02-28T19:50:04.123Z"
   },
   {
    "duration": 15,
    "start_time": "2022-02-28T19:50:11.243Z"
   },
   {
    "duration": 16,
    "start_time": "2022-02-28T19:51:35.105Z"
   },
   {
    "duration": 24,
    "start_time": "2022-02-28T19:54:23.385Z"
   },
   {
    "duration": 22,
    "start_time": "2022-02-28T19:57:46.680Z"
   },
   {
    "duration": 23,
    "start_time": "2022-02-28T19:57:51.466Z"
   },
   {
    "duration": 23,
    "start_time": "2022-02-28T19:58:50.226Z"
   },
   {
    "duration": 22,
    "start_time": "2022-02-28T21:20:19.419Z"
   },
   {
    "duration": 22,
    "start_time": "2022-02-28T21:20:27.183Z"
   },
   {
    "duration": 20,
    "start_time": "2022-02-28T21:20:37.205Z"
   },
   {
    "duration": 264,
    "start_time": "2022-03-01T14:11:38.276Z"
   },
   {
    "duration": 793,
    "start_time": "2022-03-01T14:11:44.264Z"
   },
   {
    "duration": 21,
    "start_time": "2022-03-01T14:11:45.059Z"
   },
   {
    "duration": 133,
    "start_time": "2022-03-01T14:11:45.083Z"
   },
   {
    "duration": 18,
    "start_time": "2022-03-01T14:11:45.219Z"
   },
   {
    "duration": 91,
    "start_time": "2022-03-01T14:11:45.239Z"
   },
   {
    "duration": 14,
    "start_time": "2022-03-01T14:11:45.332Z"
   },
   {
    "duration": 16,
    "start_time": "2022-03-01T14:11:45.359Z"
   },
   {
    "duration": 6,
    "start_time": "2022-03-01T14:11:45.378Z"
   },
   {
    "duration": 28,
    "start_time": "2022-03-01T14:11:45.386Z"
   },
   {
    "duration": 6,
    "start_time": "2022-03-01T14:11:45.416Z"
   },
   {
    "duration": 218,
    "start_time": "2022-03-01T14:11:45.423Z"
   },
   {
    "duration": 25,
    "start_time": "2022-03-01T14:11:45.643Z"
   },
   {
    "duration": 69,
    "start_time": "2022-03-01T14:11:45.670Z"
   },
   {
    "duration": 67,
    "start_time": "2022-03-01T14:11:45.741Z"
   },
   {
    "duration": 80,
    "start_time": "2022-03-01T14:11:45.810Z"
   },
   {
    "duration": 28,
    "start_time": "2022-03-01T14:11:45.892Z"
   },
   {
    "duration": 72,
    "start_time": "2022-03-01T14:11:45.921Z"
   },
   {
    "duration": 312,
    "start_time": "2022-03-01T14:11:45.995Z"
   },
   {
    "duration": 336,
    "start_time": "2022-03-01T14:11:45.973Z"
   },
   {
    "duration": 336,
    "start_time": "2022-03-01T14:11:45.975Z"
   },
   {
    "duration": 335,
    "start_time": "2022-03-01T14:11:45.977Z"
   },
   {
    "duration": 327,
    "start_time": "2022-03-01T14:11:45.986Z"
   },
   {
    "duration": 327,
    "start_time": "2022-03-01T14:11:45.987Z"
   },
   {
    "duration": 326,
    "start_time": "2022-03-01T14:11:45.989Z"
   },
   {
    "duration": 326,
    "start_time": "2022-03-01T14:11:45.990Z"
   },
   {
    "duration": 325,
    "start_time": "2022-03-01T14:11:45.992Z"
   },
   {
    "duration": 325,
    "start_time": "2022-03-01T14:11:45.993Z"
   },
   {
    "duration": 55,
    "start_time": "2022-03-01T14:12:51.270Z"
   },
   {
    "duration": 265,
    "start_time": "2022-03-01T14:17:07.730Z"
   },
   {
    "duration": 939,
    "start_time": "2022-03-01T14:17:16.427Z"
   },
   {
    "duration": 23,
    "start_time": "2022-03-01T14:17:17.368Z"
   },
   {
    "duration": 171,
    "start_time": "2022-03-01T14:17:17.395Z"
   },
   {
    "duration": 18,
    "start_time": "2022-03-01T14:17:17.567Z"
   },
   {
    "duration": 191,
    "start_time": "2022-03-01T14:17:17.586Z"
   },
   {
    "duration": 15,
    "start_time": "2022-03-01T14:17:17.778Z"
   },
   {
    "duration": 65,
    "start_time": "2022-03-01T14:17:17.794Z"
   },
   {
    "duration": 7,
    "start_time": "2022-03-01T14:17:17.861Z"
   },
   {
    "duration": 28,
    "start_time": "2022-03-01T14:17:17.871Z"
   },
   {
    "duration": 6,
    "start_time": "2022-03-01T14:17:17.901Z"
   },
   {
    "duration": 303,
    "start_time": "2022-03-01T14:17:17.909Z"
   },
   {
    "duration": 13,
    "start_time": "2022-03-01T14:17:18.213Z"
   },
   {
    "duration": 93,
    "start_time": "2022-03-01T14:17:18.228Z"
   },
   {
    "duration": 59,
    "start_time": "2022-03-01T14:17:18.323Z"
   },
   {
    "duration": 76,
    "start_time": "2022-03-01T14:17:18.384Z"
   },
   {
    "duration": 28,
    "start_time": "2022-03-01T14:17:18.462Z"
   },
   {
    "duration": 74,
    "start_time": "2022-03-01T14:17:18.492Z"
   },
   {
    "duration": 56,
    "start_time": "2022-03-01T14:17:18.567Z"
   },
   {
    "duration": 282,
    "start_time": "2022-03-01T14:17:18.625Z"
   },
   {
    "duration": 415,
    "start_time": "2022-03-01T14:17:18.908Z"
   },
   {
    "duration": 322,
    "start_time": "2022-03-01T14:17:19.324Z"
   },
   {
    "duration": 761,
    "start_time": "2022-03-01T14:17:19.648Z"
   },
   {
    "duration": 338,
    "start_time": "2022-03-01T14:17:20.412Z"
   },
   {
    "duration": 409,
    "start_time": "2022-03-01T14:17:20.752Z"
   },
   {
    "duration": 282,
    "start_time": "2022-03-01T14:17:21.163Z"
   },
   {
    "duration": 18,
    "start_time": "2022-03-01T14:17:21.447Z"
   },
   {
    "duration": 15,
    "start_time": "2022-03-01T14:17:21.469Z"
   },
   {
    "duration": 10,
    "start_time": "2022-03-01T14:17:21.487Z"
   },
   {
    "duration": 17,
    "start_time": "2022-03-01T14:20:55.455Z"
   },
   {
    "duration": 17,
    "start_time": "2022-03-01T14:21:09.841Z"
   },
   {
    "duration": 16,
    "start_time": "2022-03-01T14:25:34.410Z"
   },
   {
    "duration": 17,
    "start_time": "2022-03-01T14:26:03.486Z"
   },
   {
    "duration": 18,
    "start_time": "2022-03-01T14:27:43.345Z"
   },
   {
    "duration": 16,
    "start_time": "2022-03-01T14:27:50.513Z"
   },
   {
    "duration": 14,
    "start_time": "2022-03-01T14:32:28.414Z"
   },
   {
    "duration": 16,
    "start_time": "2022-03-01T14:39:55.571Z"
   },
   {
    "duration": 16,
    "start_time": "2022-03-01T14:40:02.006Z"
   },
   {
    "duration": 357,
    "start_time": "2022-03-01T14:44:18.062Z"
   },
   {
    "duration": 274,
    "start_time": "2022-03-01T14:44:35.510Z"
   },
   {
    "duration": 22,
    "start_time": "2022-03-01T14:44:40.370Z"
   },
   {
    "duration": 22,
    "start_time": "2022-03-01T14:44:49.099Z"
   },
   {
    "duration": 22,
    "start_time": "2022-03-01T14:45:19.259Z"
   },
   {
    "duration": 16,
    "start_time": "2022-03-01T14:45:30.040Z"
   },
   {
    "duration": 15,
    "start_time": "2022-03-01T15:05:33.799Z"
   },
   {
    "duration": 15,
    "start_time": "2022-03-01T15:05:49.200Z"
   },
   {
    "duration": 16,
    "start_time": "2022-03-01T15:06:02.956Z"
   },
   {
    "duration": 17,
    "start_time": "2022-03-01T15:09:55.934Z"
   },
   {
    "duration": 15,
    "start_time": "2022-03-01T15:10:17.050Z"
   },
   {
    "duration": 10,
    "start_time": "2022-03-01T15:10:36.926Z"
   },
   {
    "duration": 12,
    "start_time": "2022-03-01T15:15:38.476Z"
   },
   {
    "duration": 11,
    "start_time": "2022-03-01T15:19:10.335Z"
   },
   {
    "duration": 14,
    "start_time": "2022-03-01T15:40:49.530Z"
   },
   {
    "duration": 13,
    "start_time": "2022-03-01T15:56:51.267Z"
   },
   {
    "duration": 335,
    "start_time": "2022-03-01T16:03:01.769Z"
   },
   {
    "duration": 347,
    "start_time": "2022-03-01T16:03:20.363Z"
   },
   {
    "duration": 296,
    "start_time": "2022-03-01T16:03:36.832Z"
   },
   {
    "duration": 292,
    "start_time": "2022-03-01T16:03:55.642Z"
   },
   {
    "duration": 322,
    "start_time": "2022-03-01T16:04:41.437Z"
   },
   {
    "duration": 308,
    "start_time": "2022-03-01T16:05:23.920Z"
   },
   {
    "duration": 340,
    "start_time": "2022-03-01T16:06:15.362Z"
   },
   {
    "duration": 333,
    "start_time": "2022-03-01T16:06:45.190Z"
   },
   {
    "duration": 252,
    "start_time": "2022-03-01T16:07:29.665Z"
   },
   {
    "duration": 18,
    "start_time": "2022-03-01T16:08:40.274Z"
   },
   {
    "duration": 16,
    "start_time": "2022-03-01T16:09:45.484Z"
   },
   {
    "duration": 15,
    "start_time": "2022-03-01T16:11:00.235Z"
   },
   {
    "duration": 18,
    "start_time": "2022-03-01T16:11:08.280Z"
   },
   {
    "duration": 351,
    "start_time": "2022-03-01T16:28:54.763Z"
   },
   {
    "duration": 536,
    "start_time": "2022-03-01T16:30:12.082Z"
   },
   {
    "duration": 299,
    "start_time": "2022-03-01T16:30:49.025Z"
   },
   {
    "duration": 86,
    "start_time": "2022-03-01T16:31:36.160Z"
   },
   {
    "duration": 1105,
    "start_time": "2022-03-01T16:32:04.054Z"
   },
   {
    "duration": 336,
    "start_time": "2022-03-01T16:32:13.577Z"
   },
   {
    "duration": 338,
    "start_time": "2022-03-01T16:33:25.662Z"
   },
   {
    "duration": 260,
    "start_time": "2022-03-01T16:34:11.761Z"
   },
   {
    "duration": 763,
    "start_time": "2022-03-10T08:18:06.665Z"
   },
   {
    "duration": 29,
    "start_time": "2022-03-10T08:18:07.430Z"
   },
   {
    "duration": 135,
    "start_time": "2022-03-10T08:18:07.461Z"
   },
   {
    "duration": 17,
    "start_time": "2022-03-10T08:18:07.597Z"
   },
   {
    "duration": 92,
    "start_time": "2022-03-10T08:18:07.616Z"
   },
   {
    "duration": 15,
    "start_time": "2022-03-10T08:18:07.710Z"
   },
   {
    "duration": 16,
    "start_time": "2022-03-10T08:18:07.727Z"
   },
   {
    "duration": 6,
    "start_time": "2022-03-10T08:18:07.758Z"
   },
   {
    "duration": 25,
    "start_time": "2022-03-10T08:18:07.766Z"
   },
   {
    "duration": 5,
    "start_time": "2022-03-10T08:18:07.793Z"
   },
   {
    "duration": 200,
    "start_time": "2022-03-10T08:18:07.800Z"
   },
   {
    "duration": 13,
    "start_time": "2022-03-10T08:18:08.002Z"
   },
   {
    "duration": 87,
    "start_time": "2022-03-10T08:18:08.017Z"
   },
   {
    "duration": 56,
    "start_time": "2022-03-10T08:18:08.105Z"
   },
   {
    "duration": 62,
    "start_time": "2022-03-10T08:18:08.163Z"
   },
   {
    "duration": 38,
    "start_time": "2022-03-10T08:18:08.227Z"
   },
   {
    "duration": 50,
    "start_time": "2022-03-10T08:18:08.267Z"
   },
   {
    "duration": 74,
    "start_time": "2022-03-10T08:18:08.319Z"
   },
   {
    "duration": 246,
    "start_time": "2022-03-10T08:18:08.395Z"
   },
   {
    "duration": 389,
    "start_time": "2022-03-10T08:18:08.642Z"
   },
   {
    "duration": 295,
    "start_time": "2022-03-10T08:18:09.033Z"
   },
   {
    "duration": 699,
    "start_time": "2022-03-10T08:18:09.330Z"
   },
   {
    "duration": 328,
    "start_time": "2022-03-10T08:18:10.032Z"
   },
   {
    "duration": 377,
    "start_time": "2022-03-10T08:18:10.362Z"
   },
   {
    "duration": 267,
    "start_time": "2022-03-10T08:18:10.741Z"
   },
   {
    "duration": 13,
    "start_time": "2022-03-10T08:18:11.010Z"
   },
   {
    "duration": 14,
    "start_time": "2022-03-10T08:18:11.025Z"
   },
   {
    "duration": 13,
    "start_time": "2022-03-10T08:18:11.059Z"
   },
   {
    "duration": 15,
    "start_time": "2022-03-10T08:18:11.073Z"
   },
   {
    "duration": 15,
    "start_time": "2022-03-10T08:18:11.090Z"
   },
   {
    "duration": 697,
    "start_time": "2022-03-10T10:30:44.303Z"
   },
   {
    "duration": 22,
    "start_time": "2022-03-10T10:30:45.002Z"
   },
   {
    "duration": 138,
    "start_time": "2022-03-10T10:30:45.027Z"
   },
   {
    "duration": 19,
    "start_time": "2022-03-10T10:30:45.167Z"
   },
   {
    "duration": 94,
    "start_time": "2022-03-10T10:30:45.188Z"
   },
   {
    "duration": 15,
    "start_time": "2022-03-10T10:30:45.283Z"
   },
   {
    "duration": 15,
    "start_time": "2022-03-10T10:30:45.300Z"
   },
   {
    "duration": 8,
    "start_time": "2022-03-10T10:30:45.318Z"
   },
   {
    "duration": 34,
    "start_time": "2022-03-10T10:30:45.328Z"
   },
   {
    "duration": 6,
    "start_time": "2022-03-10T10:30:45.364Z"
   },
   {
    "duration": 215,
    "start_time": "2022-03-10T10:30:45.371Z"
   },
   {
    "duration": 13,
    "start_time": "2022-03-10T10:30:45.587Z"
   },
   {
    "duration": 87,
    "start_time": "2022-03-10T10:30:45.602Z"
   },
   {
    "duration": 53,
    "start_time": "2022-03-10T10:30:45.691Z"
   },
   {
    "duration": 70,
    "start_time": "2022-03-10T10:30:45.746Z"
   },
   {
    "duration": 27,
    "start_time": "2022-03-10T10:30:45.818Z"
   },
   {
    "duration": 60,
    "start_time": "2022-03-10T10:30:45.846Z"
   },
   {
    "duration": 72,
    "start_time": "2022-03-10T10:30:45.908Z"
   },
   {
    "duration": 253,
    "start_time": "2022-03-10T10:30:45.982Z"
   },
   {
    "duration": 391,
    "start_time": "2022-03-10T10:30:46.237Z"
   },
   {
    "duration": 303,
    "start_time": "2022-03-10T10:30:46.630Z"
   },
   {
    "duration": 725,
    "start_time": "2022-03-10T10:30:46.935Z"
   },
   {
    "duration": 325,
    "start_time": "2022-03-10T10:30:47.664Z"
   },
   {
    "duration": 398,
    "start_time": "2022-03-10T10:30:47.991Z"
   },
   {
    "duration": 259,
    "start_time": "2022-03-10T10:30:48.391Z"
   },
   {
    "duration": 20,
    "start_time": "2022-03-10T10:30:48.652Z"
   },
   {
    "duration": 16,
    "start_time": "2022-03-10T10:30:48.674Z"
   },
   {
    "duration": 13,
    "start_time": "2022-03-10T10:30:48.692Z"
   },
   {
    "duration": 14,
    "start_time": "2022-03-10T10:30:48.707Z"
   },
   {
    "duration": 51,
    "start_time": "2022-03-10T10:30:48.723Z"
   },
   {
    "duration": 15,
    "start_time": "2022-03-10T10:49:15.965Z"
   },
   {
    "duration": 10,
    "start_time": "2022-03-10T10:50:06.937Z"
   },
   {
    "duration": 287,
    "start_time": "2022-03-10T14:23:34.233Z"
   },
   {
    "duration": 687,
    "start_time": "2022-03-10T14:23:39.846Z"
   },
   {
    "duration": 19,
    "start_time": "2022-03-10T14:23:40.535Z"
   },
   {
    "duration": 306,
    "start_time": "2022-03-10T14:23:40.556Z"
   },
   {
    "duration": 293,
    "start_time": "2022-03-10T14:23:40.572Z"
   },
   {
    "duration": 289,
    "start_time": "2022-03-10T14:23:40.577Z"
   },
   {
    "duration": 287,
    "start_time": "2022-03-10T14:23:40.579Z"
   },
   {
    "duration": 285,
    "start_time": "2022-03-10T14:23:40.582Z"
   },
   {
    "duration": 267,
    "start_time": "2022-03-10T14:23:40.600Z"
   },
   {
    "duration": 266,
    "start_time": "2022-03-10T14:23:40.602Z"
   },
   {
    "duration": 265,
    "start_time": "2022-03-10T14:23:40.604Z"
   },
   {
    "duration": 263,
    "start_time": "2022-03-10T14:23:40.606Z"
   },
   {
    "duration": 262,
    "start_time": "2022-03-10T14:23:40.608Z"
   },
   {
    "duration": 262,
    "start_time": "2022-03-10T14:23:40.609Z"
   },
   {
    "duration": 260,
    "start_time": "2022-03-10T14:23:40.611Z"
   },
   {
    "duration": 255,
    "start_time": "2022-03-10T14:23:40.617Z"
   },
   {
    "duration": 254,
    "start_time": "2022-03-10T14:23:40.619Z"
   },
   {
    "duration": 253,
    "start_time": "2022-03-10T14:23:40.620Z"
   },
   {
    "duration": 252,
    "start_time": "2022-03-10T14:23:40.622Z"
   },
   {
    "duration": 250,
    "start_time": "2022-03-10T14:23:40.624Z"
   },
   {
    "duration": 249,
    "start_time": "2022-03-10T14:23:40.626Z"
   },
   {
    "duration": 248,
    "start_time": "2022-03-10T14:23:40.628Z"
   },
   {
    "duration": 247,
    "start_time": "2022-03-10T14:23:40.630Z"
   },
   {
    "duration": 245,
    "start_time": "2022-03-10T14:23:40.632Z"
   },
   {
    "duration": 244,
    "start_time": "2022-03-10T14:23:40.634Z"
   },
   {
    "duration": 242,
    "start_time": "2022-03-10T14:23:40.636Z"
   },
   {
    "duration": 241,
    "start_time": "2022-03-10T14:23:40.638Z"
   },
   {
    "duration": 240,
    "start_time": "2022-03-10T14:23:40.640Z"
   },
   {
    "duration": 240,
    "start_time": "2022-03-10T14:23:40.641Z"
   },
   {
    "duration": 230,
    "start_time": "2022-03-10T14:23:40.651Z"
   },
   {
    "duration": 228,
    "start_time": "2022-03-10T14:23:40.654Z"
   },
   {
    "duration": 226,
    "start_time": "2022-03-10T14:23:40.657Z"
   },
   {
    "duration": 290,
    "start_time": "2022-03-10T14:25:29.936Z"
   },
   {
    "duration": 241,
    "start_time": "2022-03-10T14:25:43.873Z"
   },
   {
    "duration": 274,
    "start_time": "2022-03-10T14:26:02.119Z"
   },
   {
    "duration": 724,
    "start_time": "2022-03-10T14:26:34.073Z"
   },
   {
    "duration": 18,
    "start_time": "2022-03-10T14:26:34.799Z"
   },
   {
    "duration": 334,
    "start_time": "2022-03-10T14:26:34.819Z"
   },
   {
    "duration": 263,
    "start_time": "2022-03-10T14:26:34.893Z"
   },
   {
    "duration": 262,
    "start_time": "2022-03-10T14:26:34.895Z"
   },
   {
    "duration": 262,
    "start_time": "2022-03-10T14:26:34.896Z"
   },
   {
    "duration": 262,
    "start_time": "2022-03-10T14:26:34.898Z"
   },
   {
    "duration": 262,
    "start_time": "2022-03-10T14:26:34.899Z"
   },
   {
    "duration": 262,
    "start_time": "2022-03-10T14:26:34.901Z"
   },
   {
    "duration": 261,
    "start_time": "2022-03-10T14:26:34.903Z"
   },
   {
    "duration": 261,
    "start_time": "2022-03-10T14:26:34.904Z"
   },
   {
    "duration": 260,
    "start_time": "2022-03-10T14:26:34.906Z"
   },
   {
    "duration": 260,
    "start_time": "2022-03-10T14:26:34.908Z"
   },
   {
    "duration": 260,
    "start_time": "2022-03-10T14:26:34.909Z"
   },
   {
    "duration": 244,
    "start_time": "2022-03-10T14:26:34.927Z"
   },
   {
    "duration": 240,
    "start_time": "2022-03-10T14:26:34.932Z"
   },
   {
    "duration": 238,
    "start_time": "2022-03-10T14:26:34.935Z"
   },
   {
    "duration": 239,
    "start_time": "2022-03-10T14:26:34.936Z"
   },
   {
    "duration": 238,
    "start_time": "2022-03-10T14:26:34.938Z"
   },
   {
    "duration": 238,
    "start_time": "2022-03-10T14:26:34.939Z"
   },
   {
    "duration": 238,
    "start_time": "2022-03-10T14:26:34.941Z"
   },
   {
    "duration": 237,
    "start_time": "2022-03-10T14:26:34.943Z"
   },
   {
    "duration": 238,
    "start_time": "2022-03-10T14:26:34.944Z"
   },
   {
    "duration": 234,
    "start_time": "2022-03-10T14:26:34.949Z"
   },
   {
    "duration": 233,
    "start_time": "2022-03-10T14:26:34.951Z"
   },
   {
    "duration": 222,
    "start_time": "2022-03-10T14:26:34.964Z"
   },
   {
    "duration": 220,
    "start_time": "2022-03-10T14:26:34.967Z"
   },
   {
    "duration": 216,
    "start_time": "2022-03-10T14:26:34.972Z"
   },
   {
    "duration": 214,
    "start_time": "2022-03-10T14:26:34.975Z"
   },
   {
    "duration": 215,
    "start_time": "2022-03-10T14:26:34.976Z"
   },
   {
    "duration": 214,
    "start_time": "2022-03-10T14:26:34.978Z"
   },
   {
    "duration": 82,
    "start_time": "2022-03-10T14:27:43.631Z"
   },
   {
    "duration": 235,
    "start_time": "2022-03-10T14:27:47.986Z"
   },
   {
    "duration": 137,
    "start_time": "2022-03-10T14:28:07.873Z"
   },
   {
    "duration": 724,
    "start_time": "2022-03-10T14:34:01.193Z"
   },
   {
    "duration": 19,
    "start_time": "2022-03-10T14:34:01.919Z"
   },
   {
    "duration": 133,
    "start_time": "2022-03-10T14:34:01.940Z"
   },
   {
    "duration": 16,
    "start_time": "2022-03-10T14:34:02.075Z"
   },
   {
    "duration": 83,
    "start_time": "2022-03-10T14:34:02.101Z"
   },
   {
    "duration": 12,
    "start_time": "2022-03-10T14:34:02.185Z"
   },
   {
    "duration": 24,
    "start_time": "2022-03-10T14:34:02.198Z"
   },
   {
    "duration": 5,
    "start_time": "2022-03-10T14:34:02.223Z"
   },
   {
    "duration": 49,
    "start_time": "2022-03-10T14:34:02.230Z"
   },
   {
    "duration": 5,
    "start_time": "2022-03-10T14:34:02.281Z"
   },
   {
    "duration": 152,
    "start_time": "2022-03-10T14:34:02.288Z"
   },
   {
    "duration": 76,
    "start_time": "2022-03-10T14:34:02.442Z"
   },
   {
    "duration": 49,
    "start_time": "2022-03-10T14:34:02.519Z"
   },
   {
    "duration": 63,
    "start_time": "2022-03-10T14:34:02.569Z"
   },
   {
    "duration": 25,
    "start_time": "2022-03-10T14:34:02.634Z"
   },
   {
    "duration": 64,
    "start_time": "2022-03-10T14:34:02.661Z"
   },
   {
    "duration": 50,
    "start_time": "2022-03-10T14:34:02.727Z"
   },
   {
    "duration": 224,
    "start_time": "2022-03-10T14:34:02.779Z"
   },
   {
    "duration": 15,
    "start_time": "2022-03-10T14:34:03.004Z"
   },
   {
    "duration": 331,
    "start_time": "2022-03-10T14:34:03.020Z"
   },
   {
    "duration": 469,
    "start_time": "2022-03-10T14:34:03.353Z"
   },
   {
    "duration": 645,
    "start_time": "2022-03-10T14:34:03.824Z"
   },
   {
    "duration": 248,
    "start_time": "2022-03-10T14:34:04.471Z"
   },
   {
    "duration": 301,
    "start_time": "2022-03-10T14:34:04.721Z"
   },
   {
    "duration": 215,
    "start_time": "2022-03-10T14:34:05.023Z"
   },
   {
    "duration": 14,
    "start_time": "2022-03-10T14:34:05.240Z"
   },
   {
    "duration": 13,
    "start_time": "2022-03-10T14:34:05.258Z"
   },
   {
    "duration": 34,
    "start_time": "2022-03-10T14:34:05.273Z"
   },
   {
    "duration": 12,
    "start_time": "2022-03-10T14:34:05.308Z"
   },
   {
    "duration": 13,
    "start_time": "2022-03-10T14:34:05.322Z"
   },
   {
    "duration": 14,
    "start_time": "2022-03-10T14:34:42.727Z"
   },
   {
    "duration": 14,
    "start_time": "2022-03-10T14:39:48.121Z"
   },
   {
    "duration": 48,
    "start_time": "2022-03-10T14:44:05.048Z"
   },
   {
    "duration": 46,
    "start_time": "2022-03-10T14:44:13.184Z"
   },
   {
    "duration": 49,
    "start_time": "2022-03-10T14:44:24.542Z"
   },
   {
    "duration": 48,
    "start_time": "2022-03-10T14:44:47.008Z"
   },
   {
    "duration": 51,
    "start_time": "2022-03-10T14:44:52.536Z"
   },
   {
    "duration": 329,
    "start_time": "2022-03-10T14:46:33.061Z"
   },
   {
    "duration": 213,
    "start_time": "2022-03-10T14:46:39.715Z"
   },
   {
    "duration": 269,
    "start_time": "2022-03-10T14:50:02.340Z"
   },
   {
    "duration": 259,
    "start_time": "2022-03-10T14:50:11.973Z"
   },
   {
    "duration": 296,
    "start_time": "2022-03-10T14:50:19.814Z"
   },
   {
    "duration": 88,
    "start_time": "2022-03-10T14:50:42.968Z"
   },
   {
    "duration": 287,
    "start_time": "2022-03-10T14:50:53.701Z"
   },
   {
    "duration": 239,
    "start_time": "2022-03-10T14:51:06.757Z"
   },
   {
    "duration": 244,
    "start_time": "2022-03-10T14:51:24.676Z"
   },
   {
    "duration": 715,
    "start_time": "2022-03-10T14:53:52.645Z"
   },
   {
    "duration": 686,
    "start_time": "2022-03-10T14:53:58.715Z"
   },
   {
    "duration": 415,
    "start_time": "2022-03-10T14:55:12.101Z"
   },
   {
    "duration": 390,
    "start_time": "2022-03-10T14:55:16.385Z"
   },
   {
    "duration": 371,
    "start_time": "2022-03-10T14:56:12.131Z"
   },
   {
    "duration": 397,
    "start_time": "2022-03-10T14:56:36.818Z"
   },
   {
    "duration": 6337,
    "start_time": "2022-03-10T14:57:35.795Z"
   },
   {
    "duration": 381,
    "start_time": "2022-03-10T14:57:53.235Z"
   },
   {
    "duration": 772,
    "start_time": "2022-03-10T14:58:19.739Z"
   },
   {
    "duration": 691,
    "start_time": "2022-03-10T14:58:52.357Z"
   },
   {
    "duration": 823,
    "start_time": "2022-03-10T15:00:03.918Z"
   },
   {
    "duration": 459,
    "start_time": "2022-03-10T15:00:29.057Z"
   },
   {
    "duration": 259,
    "start_time": "2022-03-10T15:01:44.974Z"
   },
   {
    "duration": 248,
    "start_time": "2022-03-10T15:03:03.053Z"
   },
   {
    "duration": 274,
    "start_time": "2022-03-10T15:06:21.561Z"
   },
   {
    "duration": 399,
    "start_time": "2022-03-10T15:06:27.640Z"
   },
   {
    "duration": 261,
    "start_time": "2022-03-10T15:07:44.053Z"
   },
   {
    "duration": 400,
    "start_time": "2022-03-10T15:09:26.421Z"
   },
   {
    "duration": 230,
    "start_time": "2022-03-10T15:09:33.867Z"
   },
   {
    "duration": 251,
    "start_time": "2022-03-10T15:09:45.943Z"
   },
   {
    "duration": 513,
    "start_time": "2022-03-10T15:09:58.309Z"
   },
   {
    "duration": 455,
    "start_time": "2022-03-10T15:10:04.021Z"
   },
   {
    "duration": 594,
    "start_time": "2022-03-10T15:10:27.376Z"
   },
   {
    "duration": 846,
    "start_time": "2022-03-10T15:10:42.641Z"
   },
   {
    "duration": 705,
    "start_time": "2022-03-10T15:10:50.631Z"
   },
   {
    "duration": 368,
    "start_time": "2022-03-10T15:13:26.592Z"
   },
   {
    "duration": 684,
    "start_time": "2022-03-10T15:13:38.939Z"
   },
   {
    "duration": 864,
    "start_time": "2022-03-10T15:13:50.829Z"
   },
   {
    "duration": 538,
    "start_time": "2022-03-10T15:14:02.792Z"
   },
   {
    "duration": 403,
    "start_time": "2022-03-10T15:15:25.432Z"
   },
   {
    "duration": 405,
    "start_time": "2022-03-10T15:19:49.369Z"
   },
   {
    "duration": 722,
    "start_time": "2022-03-10T15:20:00.471Z"
   },
   {
    "duration": 397,
    "start_time": "2022-03-10T15:23:46.091Z"
   },
   {
    "duration": 404,
    "start_time": "2022-03-10T15:24:05.116Z"
   },
   {
    "duration": 1090,
    "start_time": "2022-03-11T06:58:50.646Z"
   },
   {
    "duration": 38,
    "start_time": "2022-03-11T06:58:51.740Z"
   },
   {
    "duration": 194,
    "start_time": "2022-03-11T06:58:51.780Z"
   },
   {
    "duration": 25,
    "start_time": "2022-03-11T06:58:51.976Z"
   },
   {
    "duration": 135,
    "start_time": "2022-03-11T06:58:52.004Z"
   },
   {
    "duration": 36,
    "start_time": "2022-03-11T06:58:52.141Z"
   },
   {
    "duration": 22,
    "start_time": "2022-03-11T06:58:52.181Z"
   },
   {
    "duration": 17,
    "start_time": "2022-03-11T06:58:52.207Z"
   },
   {
    "duration": 54,
    "start_time": "2022-03-11T06:58:52.227Z"
   },
   {
    "duration": 10,
    "start_time": "2022-03-11T06:58:52.285Z"
   },
   {
    "duration": 288,
    "start_time": "2022-03-11T06:58:52.299Z"
   },
   {
    "duration": 108,
    "start_time": "2022-03-11T06:58:52.590Z"
   },
   {
    "duration": 81,
    "start_time": "2022-03-11T06:58:52.700Z"
   },
   {
    "duration": 103,
    "start_time": "2022-03-11T06:58:52.784Z"
   },
   {
    "duration": 45,
    "start_time": "2022-03-11T06:58:52.890Z"
   },
   {
    "duration": 136,
    "start_time": "2022-03-11T06:58:52.938Z"
   },
   {
    "duration": 105,
    "start_time": "2022-03-11T06:58:53.077Z"
   },
   {
    "duration": 419,
    "start_time": "2022-03-11T06:58:53.185Z"
   },
   {
    "duration": 25,
    "start_time": "2022-03-11T06:58:53.606Z"
   },
   {
    "duration": 982,
    "start_time": "2022-03-11T06:58:53.633Z"
   },
   {
    "duration": 835,
    "start_time": "2022-03-11T06:58:54.618Z"
   },
   {
    "duration": 1646,
    "start_time": "2022-03-11T06:58:55.455Z"
   },
   {
    "duration": 23,
    "start_time": "2022-03-11T06:58:57.105Z"
   },
   {
    "duration": 47,
    "start_time": "2022-03-11T06:58:57.130Z"
   },
   {
    "duration": 21,
    "start_time": "2022-03-11T06:58:57.179Z"
   },
   {
    "duration": 22,
    "start_time": "2022-03-11T06:58:57.202Z"
   },
   {
    "duration": 57,
    "start_time": "2022-03-11T06:58:57.227Z"
   }
  ],
  "kernelspec": {
   "display_name": "Python 3 (ipykernel)",
   "language": "python",
   "name": "python3"
  },
  "language_info": {
   "codemirror_mode": {
    "name": "ipython",
    "version": 3
   },
   "file_extension": ".py",
   "mimetype": "text/x-python",
   "name": "python",
   "nbconvert_exporter": "python",
   "pygments_lexer": "ipython3",
   "version": "3.9.5"
  },
  "toc": {
   "base_numbering": 1,
   "nav_menu": {},
   "number_sections": true,
   "sideBar": true,
   "skip_h1_title": true,
   "title_cell": "Table of Contents",
   "title_sidebar": "Contents",
   "toc_cell": false,
   "toc_position": {
    "height": "calc(100% - 180px)",
    "left": "10px",
    "top": "150px",
    "width": "431.269px"
   },
   "toc_section_display": true,
   "toc_window_display": true
  }
 },
 "nbformat": 4,
 "nbformat_minor": 2
}
