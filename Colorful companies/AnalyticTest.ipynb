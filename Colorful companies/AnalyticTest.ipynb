{
 "cells": [
  {
   "cell_type": "markdown",
   "id": "3a8cd2f6",
   "metadata": {},
   "source": [
    "# Аналитик данных. Тестовое задание."
   ]
  },
  {
   "cell_type": "markdown",
   "id": "01f31a65",
   "metadata": {},
   "source": [
    "## Содержание"
   ]
  },
  {
   "attachments": {},
   "cell_type": "markdown",
   "id": "809a7ceb",
   "metadata": {},
   "source": [
    "1. [Общая информация](#info)\n",
    "2. [Предобработка данных](#predobrabotka)\n",
    "3. [Исследование](#issledovanie)\n",
    "4. [Итоговые выводы](#itog)"
   ]
  },
  {
   "cell_type": "markdown",
   "id": "a46ce1ef",
   "metadata": {},
   "source": [
    "## Общая информация <a id='info'></a>"
   ]
  },
  {
   "cell_type": "code",
   "execution_count": 121,
   "id": "87adeafa",
   "metadata": {},
   "outputs": [],
   "source": [
    "import pandas as pd\n",
    "import seaborn as sns\n",
    "import matplotlib.pyplot as plt\n",
    "import numpy as np\n",
    "from scipy import stats"
   ]
  },
  {
   "cell_type": "code",
   "execution_count": 3,
   "id": "f8bd2d7e",
   "metadata": {},
   "outputs": [
    {
     "data": {
      "text/html": [
       "<div>\n",
       "<style scoped>\n",
       "    .dataframe tbody tr th:only-of-type {\n",
       "        vertical-align: middle;\n",
       "    }\n",
       "\n",
       "    .dataframe tbody tr th {\n",
       "        vertical-align: top;\n",
       "    }\n",
       "\n",
       "    .dataframe thead th {\n",
       "        text-align: right;\n",
       "    }\n",
       "</style>\n",
       "<table border=\"1\" class=\"dataframe\">\n",
       "  <thead>\n",
       "    <tr style=\"text-align: right;\">\n",
       "      <th></th>\n",
       "      <th>Unnamed: 0</th>\n",
       "      <th>HID</th>\n",
       "      <th>active_Red</th>\n",
       "      <th>has_Green_id</th>\n",
       "      <th>has_Black_id</th>\n",
       "      <th>has_Blue_id</th>\n",
       "      <th>Blue_activity_count</th>\n",
       "      <th>Blue_gmv_total</th>\n",
       "      <th>Green_gvm_total</th>\n",
       "      <th>Green_gvm_order_count</th>\n",
       "      <th>...</th>\n",
       "      <th>Blue_android</th>\n",
       "      <th>Red_apple</th>\n",
       "      <th>Green_apple</th>\n",
       "      <th>Black_apple</th>\n",
       "      <th>Blue_apple</th>\n",
       "      <th>is_msk</th>\n",
       "      <th>Red_web</th>\n",
       "      <th>Green_web</th>\n",
       "      <th>Black_web</th>\n",
       "      <th>Blue_web</th>\n",
       "    </tr>\n",
       "  </thead>\n",
       "  <tbody>\n",
       "    <tr>\n",
       "      <th>0</th>\n",
       "      <td>0</td>\n",
       "      <td>00003c7fb5e57ce673f1801f3679f5c25</td>\n",
       "      <td>0.0</td>\n",
       "      <td>0.0</td>\n",
       "      <td>0.0</td>\n",
       "      <td>1.0</td>\n",
       "      <td>2.0</td>\n",
       "      <td>0.0</td>\n",
       "      <td>0.0</td>\n",
       "      <td>0.0</td>\n",
       "      <td>...</td>\n",
       "      <td>0.0</td>\n",
       "      <td>0.0</td>\n",
       "      <td>0.0</td>\n",
       "      <td>0.0</td>\n",
       "      <td>0.0</td>\n",
       "      <td>0.0</td>\n",
       "      <td>0.0</td>\n",
       "      <td>0.0</td>\n",
       "      <td>0.0</td>\n",
       "      <td>0.0</td>\n",
       "    </tr>\n",
       "    <tr>\n",
       "      <th>1</th>\n",
       "      <td>1</td>\n",
       "      <td>00006b602533083e3bebfcbff08613931</td>\n",
       "      <td>1.0</td>\n",
       "      <td>0.0</td>\n",
       "      <td>0.0</td>\n",
       "      <td>0.0</td>\n",
       "      <td>0.0</td>\n",
       "      <td>0.0</td>\n",
       "      <td>0.0</td>\n",
       "      <td>0.0</td>\n",
       "      <td>...</td>\n",
       "      <td>0.0</td>\n",
       "      <td>0.0</td>\n",
       "      <td>0.0</td>\n",
       "      <td>0.0</td>\n",
       "      <td>0.0</td>\n",
       "      <td>0.0</td>\n",
       "      <td>1.0</td>\n",
       "      <td>0.0</td>\n",
       "      <td>0.0</td>\n",
       "      <td>0.0</td>\n",
       "    </tr>\n",
       "    <tr>\n",
       "      <th>2</th>\n",
       "      <td>2</td>\n",
       "      <td>0000736c3f76339196cb1cc759b8363b</td>\n",
       "      <td>1.0</td>\n",
       "      <td>0.0</td>\n",
       "      <td>0.0</td>\n",
       "      <td>0.0</td>\n",
       "      <td>0.0</td>\n",
       "      <td>0.0</td>\n",
       "      <td>0.0</td>\n",
       "      <td>0.0</td>\n",
       "      <td>...</td>\n",
       "      <td>0.0</td>\n",
       "      <td>1.0</td>\n",
       "      <td>0.0</td>\n",
       "      <td>1.0</td>\n",
       "      <td>0.0</td>\n",
       "      <td>0.0</td>\n",
       "      <td>0.0</td>\n",
       "      <td>0.0</td>\n",
       "      <td>0.0</td>\n",
       "      <td>0.0</td>\n",
       "    </tr>\n",
       "    <tr>\n",
       "      <th>3</th>\n",
       "      <td>3</td>\n",
       "      <td>00009bdcc5307b38efde8690b8bd658e</td>\n",
       "      <td>0.0</td>\n",
       "      <td>0.0</td>\n",
       "      <td>0.0</td>\n",
       "      <td>0.0</td>\n",
       "      <td>0.0</td>\n",
       "      <td>0.0</td>\n",
       "      <td>0.0</td>\n",
       "      <td>0.0</td>\n",
       "      <td>...</td>\n",
       "      <td>0.0</td>\n",
       "      <td>0.0</td>\n",
       "      <td>0.0</td>\n",
       "      <td>0.0</td>\n",
       "      <td>0.0</td>\n",
       "      <td>0.0</td>\n",
       "      <td>1.0</td>\n",
       "      <td>0.0</td>\n",
       "      <td>0.0</td>\n",
       "      <td>0.0</td>\n",
       "    </tr>\n",
       "    <tr>\n",
       "      <th>4</th>\n",
       "      <td>4</td>\n",
       "      <td>0000bc3186b7b31d9b35d3fbbb250b9f8</td>\n",
       "      <td>1.0</td>\n",
       "      <td>0.0</td>\n",
       "      <td>0.0</td>\n",
       "      <td>0.0</td>\n",
       "      <td>0.0</td>\n",
       "      <td>0.0</td>\n",
       "      <td>0.0</td>\n",
       "      <td>0.0</td>\n",
       "      <td>...</td>\n",
       "      <td>0.0</td>\n",
       "      <td>1.0</td>\n",
       "      <td>0.0</td>\n",
       "      <td>0.0</td>\n",
       "      <td>0.0</td>\n",
       "      <td>0.0</td>\n",
       "      <td>0.0</td>\n",
       "      <td>0.0</td>\n",
       "      <td>0.0</td>\n",
       "      <td>0.0</td>\n",
       "    </tr>\n",
       "  </tbody>\n",
       "</table>\n",
       "<p>5 rows × 25 columns</p>\n",
       "</div>"
      ],
      "text/plain": [
       "   Unnamed: 0                                HID  active_Red  has_Green_id  \\\n",
       "0           0  00003c7fb5e57ce673f1801f3679f5c25         0.0           0.0   \n",
       "1           1  00006b602533083e3bebfcbff08613931         1.0           0.0   \n",
       "2           2   0000736c3f76339196cb1cc759b8363b         1.0           0.0   \n",
       "3           3   00009bdcc5307b38efde8690b8bd658e         0.0           0.0   \n",
       "4           4  0000bc3186b7b31d9b35d3fbbb250b9f8         1.0           0.0   \n",
       "\n",
       "   has_Black_id  has_Blue_id Blue_activity_count  Blue_gmv_total  \\\n",
       "0           0.0          1.0                 2.0             0.0   \n",
       "1           0.0          0.0                 0.0             0.0   \n",
       "2           0.0          0.0                 0.0             0.0   \n",
       "3           0.0          0.0                 0.0             0.0   \n",
       "4           0.0          0.0                 0.0             0.0   \n",
       "\n",
       "   Green_gvm_total Green_gvm_order_count  ...  Blue_android Red_apple  \\\n",
       "0              0.0                   0.0  ...           0.0       0.0   \n",
       "1              0.0                   0.0  ...           0.0       0.0   \n",
       "2              0.0                   0.0  ...           0.0       1.0   \n",
       "3              0.0                   0.0  ...           0.0       0.0   \n",
       "4              0.0                   0.0  ...           0.0       1.0   \n",
       "\n",
       "   Green_apple  Black_apple  Blue_apple  is_msk  Red_web  Green_web  \\\n",
       "0          0.0          0.0         0.0     0.0      0.0        0.0   \n",
       "1          0.0          0.0         0.0     0.0      1.0        0.0   \n",
       "2          0.0          1.0         0.0     0.0      0.0        0.0   \n",
       "3          0.0          0.0         0.0     0.0      1.0        0.0   \n",
       "4          0.0          0.0         0.0     0.0      0.0        0.0   \n",
       "\n",
       "   Black_web  Blue_web  \n",
       "0        0.0       0.0  \n",
       "1        0.0       0.0  \n",
       "2        0.0       0.0  \n",
       "3        0.0       0.0  \n",
       "4        0.0       0.0  \n",
       "\n",
       "[5 rows x 25 columns]"
      ]
     },
     "execution_count": 3,
     "metadata": {},
     "output_type": "execute_result"
    }
   ],
   "source": [
    "data = pd.read_excel('C:/Users/79283/Desktop/Analytic_test.xlsx', header=1)\n",
    "data.head()"
   ]
  },
  {
   "cell_type": "markdown",
   "id": "50203035",
   "metadata": {},
   "source": [
    "В файле содержатся данные, в упорядоченном формате, о 4 компаниях: Red, Green, Blue, Black.<br>\n",
    "По компаниям представлены следующие данные:\n",
    "* HID - human_id, зашифрованный персональный идентификатор пользователя компаний\n",
    "* has_company_id - наличие зарегистрированного аккаунта в компании\n",
    "* company_gmv_total - суммарный gmv пользователя в сервисе\n",
    "* company_gmv_order_count - количество успешных заказов пользователя в сервисе\n",
    "* company_activity_count - количество активных действий пользователя в сервисе\n",
    "* company_android - установленное у пользователя приложение компании на платформе android\n",
    "* company_apple - установленное у пользователя приложение компании на платформе apple\n",
    "* company_web - установленное у пользователя приложение компании на ПК\n",
    "* is_msk - территориальное расположение в Москве"
   ]
  },
  {
   "cell_type": "code",
   "execution_count": 4,
   "id": "81f16c0d",
   "metadata": {},
   "outputs": [
    {
     "name": "stdout",
     "output_type": "stream",
     "text": [
      "<class 'pandas.core.frame.DataFrame'>\n",
      "RangeIndex: 100000 entries, 0 to 99999\n",
      "Data columns (total 25 columns):\n",
      " #   Column                 Non-Null Count   Dtype  \n",
      "---  ------                 --------------   -----  \n",
      " 0   Unnamed: 0             100000 non-null  int64  \n",
      " 1   HID                    100000 non-null  object \n",
      " 2   active_Red             100000 non-null  float64\n",
      " 3   has_Green_id           100000 non-null  float64\n",
      " 4   has_Black_id           100000 non-null  float64\n",
      " 5   has_Blue_id            100000 non-null  float64\n",
      " 6   Blue_activity_count    100000 non-null  object \n",
      " 7   Blue_gmv_total         99999 non-null   float64\n",
      " 8   Green_gvm_total        100000 non-null  float64\n",
      " 9   Green_gvm_order_count  100000 non-null  object \n",
      " 10  Black_gvm_total        100000 non-null  float64\n",
      " 11  Black_gvm_order_count  100000 non-null  object \n",
      " 12  Red_android            100000 non-null  float64\n",
      " 13  Green_android          100000 non-null  float64\n",
      " 14  Black_android          100000 non-null  float64\n",
      " 15  Blue_android           100000 non-null  float64\n",
      " 16  Red_apple              100000 non-null  float64\n",
      " 17  Green_apple            100000 non-null  float64\n",
      " 18  Black_apple            100000 non-null  float64\n",
      " 19  Blue_apple             100000 non-null  float64\n",
      " 20  is_msk                 100000 non-null  float64\n",
      " 21  Red_web                100000 non-null  float64\n",
      " 22  Green_web              100000 non-null  float64\n",
      " 23  Black_web              100000 non-null  float64\n",
      " 24  Blue_web               100000 non-null  float64\n",
      "dtypes: float64(20), int64(1), object(4)\n",
      "memory usage: 19.1+ MB\n"
     ]
    }
   ],
   "source": [
    "data.info()"
   ]
  },
  {
   "cell_type": "markdown",
   "id": "291800fe",
   "metadata": {},
   "source": [
    "В данных присутствуют не все данные, отсутствуют следующие столбцы:\n",
    "* has_red_id\n",
    "* red_gmv_total\n",
    "* red_gmv_order_count\n",
    "* blue_gmv_order_count\n",
    "* red_activity_count\n",
    "* green_activity_count\n",
    "* black_activity_count\n",
    "\n",
    "В идеале должно было быть 30 столбцов. Более того у нас есть неизвестный столбец *active_red*. Предстоит разобраться, что он означает."
   ]
  },
  {
   "cell_type": "markdown",
   "id": "c325a222",
   "metadata": {},
   "source": [
    "**Задача.** Провести анализ и сформулировать выводы на основании данных."
   ]
  },
  {
   "cell_type": "markdown",
   "id": "e85d9998",
   "metadata": {},
   "source": [
    "**План.**\n",
    "1. Провести обработку данных\n",
    "2. Рассмотреть метрику GMV по каждой из компаний\n",
    "3. Рассмотреть подробнее пользователей\n",
    "4. Рассмотреть платформы\n",
    "5. Проверить гипотзу о жителях Москвы"
   ]
  },
  {
   "cell_type": "markdown",
   "id": "d56404b5",
   "metadata": {},
   "source": [
    "## Предобработка данных <a id='predobrabotka'></a>"
   ]
  },
  {
   "cell_type": "markdown",
   "id": "aaf3cff1",
   "metadata": {},
   "source": [
    "### Наименования столбцов <a id='naimenovanie'></a>"
   ]
  },
  {
   "cell_type": "markdown",
   "id": "8f2cda28",
   "metadata": {},
   "source": [
    "На основании данных, мы предполагаем, что перед нами данные о пользователях и их отношении к разным компаниям, сервисами которых они пользуются. "
   ]
  },
  {
   "cell_type": "markdown",
   "id": "1eaabfb4",
   "metadata": {},
   "source": [
    "В таблице есть ошибки в названиях столбцов, поэтому мы их подправим:"
   ]
  },
  {
   "cell_type": "code",
   "execution_count": 5,
   "id": "76be1859",
   "metadata": {},
   "outputs": [
    {
     "data": {
      "text/plain": [
       "Index(['Unnamed: 0', 'HID', 'active_Red', 'has_Green_id', 'has_Black_id',\n",
       "       'has_Blue_id', 'Blue_activity_count', 'Blue_gmv_total',\n",
       "       'Green_gvm_total', 'Green_gvm_order_count', 'Black_gvm_total',\n",
       "       'Black_gvm_order_count', 'Red_android', 'Green_android',\n",
       "       'Black_android', 'Blue_android', 'Red_apple', 'Green_apple',\n",
       "       'Black_apple', 'Blue_apple', 'is_msk', 'Red_web', 'Green_web',\n",
       "       'Black_web', 'Blue_web'],\n",
       "      dtype='object')"
      ]
     },
     "execution_count": 5,
     "metadata": {},
     "output_type": "execute_result"
    }
   ],
   "source": [
    "data.columns"
   ]
  },
  {
   "cell_type": "code",
   "execution_count": 6,
   "id": "e42dcb10",
   "metadata": {},
   "outputs": [],
   "source": [
    "data.columns = ['Unnamed: 0', 'hid', 'active_red', 'has_green_id', 'has_black_id',\n",
    "       'has_blue_id', 'blue_activity_count', 'blue_gmv_total',\n",
    "       'green_gmv_total', 'green_gmv_order_count', 'black_gmv_total',\n",
    "       'black_gmv_order_count', 'red_android', 'green_android',\n",
    "       'black_android', 'blue_android', 'red_apple', 'green_apple',\n",
    "       'black_apple', 'blue_apple', 'is_msk', 'red_web', 'green_web',\n",
    "       'black_web', 'blue_web']"
   ]
  },
  {
   "cell_type": "markdown",
   "id": "75d8d3b2",
   "metadata": {},
   "source": [
    "Так же удалим первый столбец, так как он просто указывает на номер строки:"
   ]
  },
  {
   "cell_type": "code",
   "execution_count": 7,
   "id": "952ac156",
   "metadata": {},
   "outputs": [
    {
     "data": {
      "text/html": [
       "<div>\n",
       "<style scoped>\n",
       "    .dataframe tbody tr th:only-of-type {\n",
       "        vertical-align: middle;\n",
       "    }\n",
       "\n",
       "    .dataframe tbody tr th {\n",
       "        vertical-align: top;\n",
       "    }\n",
       "\n",
       "    .dataframe thead th {\n",
       "        text-align: right;\n",
       "    }\n",
       "</style>\n",
       "<table border=\"1\" class=\"dataframe\">\n",
       "  <thead>\n",
       "    <tr style=\"text-align: right;\">\n",
       "      <th></th>\n",
       "      <th>hid</th>\n",
       "      <th>active_red</th>\n",
       "      <th>has_green_id</th>\n",
       "      <th>has_black_id</th>\n",
       "      <th>has_blue_id</th>\n",
       "      <th>blue_activity_count</th>\n",
       "      <th>blue_gmv_total</th>\n",
       "      <th>green_gmv_total</th>\n",
       "      <th>green_gmv_order_count</th>\n",
       "      <th>black_gmv_total</th>\n",
       "      <th>...</th>\n",
       "      <th>blue_android</th>\n",
       "      <th>red_apple</th>\n",
       "      <th>green_apple</th>\n",
       "      <th>black_apple</th>\n",
       "      <th>blue_apple</th>\n",
       "      <th>is_msk</th>\n",
       "      <th>red_web</th>\n",
       "      <th>green_web</th>\n",
       "      <th>black_web</th>\n",
       "      <th>blue_web</th>\n",
       "    </tr>\n",
       "  </thead>\n",
       "  <tbody>\n",
       "    <tr>\n",
       "      <th>0</th>\n",
       "      <td>00003c7fb5e57ce673f1801f3679f5c25</td>\n",
       "      <td>0.0</td>\n",
       "      <td>0.0</td>\n",
       "      <td>0.0</td>\n",
       "      <td>1.0</td>\n",
       "      <td>2.0</td>\n",
       "      <td>0.0</td>\n",
       "      <td>0.0</td>\n",
       "      <td>0.0</td>\n",
       "      <td>0.0</td>\n",
       "      <td>...</td>\n",
       "      <td>0.0</td>\n",
       "      <td>0.0</td>\n",
       "      <td>0.0</td>\n",
       "      <td>0.0</td>\n",
       "      <td>0.0</td>\n",
       "      <td>0.0</td>\n",
       "      <td>0.0</td>\n",
       "      <td>0.0</td>\n",
       "      <td>0.0</td>\n",
       "      <td>0.0</td>\n",
       "    </tr>\n",
       "    <tr>\n",
       "      <th>1</th>\n",
       "      <td>00006b602533083e3bebfcbff08613931</td>\n",
       "      <td>1.0</td>\n",
       "      <td>0.0</td>\n",
       "      <td>0.0</td>\n",
       "      <td>0.0</td>\n",
       "      <td>0.0</td>\n",
       "      <td>0.0</td>\n",
       "      <td>0.0</td>\n",
       "      <td>0.0</td>\n",
       "      <td>0.0</td>\n",
       "      <td>...</td>\n",
       "      <td>0.0</td>\n",
       "      <td>0.0</td>\n",
       "      <td>0.0</td>\n",
       "      <td>0.0</td>\n",
       "      <td>0.0</td>\n",
       "      <td>0.0</td>\n",
       "      <td>1.0</td>\n",
       "      <td>0.0</td>\n",
       "      <td>0.0</td>\n",
       "      <td>0.0</td>\n",
       "    </tr>\n",
       "    <tr>\n",
       "      <th>2</th>\n",
       "      <td>0000736c3f76339196cb1cc759b8363b</td>\n",
       "      <td>1.0</td>\n",
       "      <td>0.0</td>\n",
       "      <td>0.0</td>\n",
       "      <td>0.0</td>\n",
       "      <td>0.0</td>\n",
       "      <td>0.0</td>\n",
       "      <td>0.0</td>\n",
       "      <td>0.0</td>\n",
       "      <td>0.0</td>\n",
       "      <td>...</td>\n",
       "      <td>0.0</td>\n",
       "      <td>1.0</td>\n",
       "      <td>0.0</td>\n",
       "      <td>1.0</td>\n",
       "      <td>0.0</td>\n",
       "      <td>0.0</td>\n",
       "      <td>0.0</td>\n",
       "      <td>0.0</td>\n",
       "      <td>0.0</td>\n",
       "      <td>0.0</td>\n",
       "    </tr>\n",
       "    <tr>\n",
       "      <th>3</th>\n",
       "      <td>00009bdcc5307b38efde8690b8bd658e</td>\n",
       "      <td>0.0</td>\n",
       "      <td>0.0</td>\n",
       "      <td>0.0</td>\n",
       "      <td>0.0</td>\n",
       "      <td>0.0</td>\n",
       "      <td>0.0</td>\n",
       "      <td>0.0</td>\n",
       "      <td>0.0</td>\n",
       "      <td>0.0</td>\n",
       "      <td>...</td>\n",
       "      <td>0.0</td>\n",
       "      <td>0.0</td>\n",
       "      <td>0.0</td>\n",
       "      <td>0.0</td>\n",
       "      <td>0.0</td>\n",
       "      <td>0.0</td>\n",
       "      <td>1.0</td>\n",
       "      <td>0.0</td>\n",
       "      <td>0.0</td>\n",
       "      <td>0.0</td>\n",
       "    </tr>\n",
       "    <tr>\n",
       "      <th>4</th>\n",
       "      <td>0000bc3186b7b31d9b35d3fbbb250b9f8</td>\n",
       "      <td>1.0</td>\n",
       "      <td>0.0</td>\n",
       "      <td>0.0</td>\n",
       "      <td>0.0</td>\n",
       "      <td>0.0</td>\n",
       "      <td>0.0</td>\n",
       "      <td>0.0</td>\n",
       "      <td>0.0</td>\n",
       "      <td>0.0</td>\n",
       "      <td>...</td>\n",
       "      <td>0.0</td>\n",
       "      <td>1.0</td>\n",
       "      <td>0.0</td>\n",
       "      <td>0.0</td>\n",
       "      <td>0.0</td>\n",
       "      <td>0.0</td>\n",
       "      <td>0.0</td>\n",
       "      <td>0.0</td>\n",
       "      <td>0.0</td>\n",
       "      <td>0.0</td>\n",
       "    </tr>\n",
       "  </tbody>\n",
       "</table>\n",
       "<p>5 rows × 24 columns</p>\n",
       "</div>"
      ],
      "text/plain": [
       "                                 hid  active_red  has_green_id  has_black_id  \\\n",
       "0  00003c7fb5e57ce673f1801f3679f5c25         0.0           0.0           0.0   \n",
       "1  00006b602533083e3bebfcbff08613931         1.0           0.0           0.0   \n",
       "2   0000736c3f76339196cb1cc759b8363b         1.0           0.0           0.0   \n",
       "3   00009bdcc5307b38efde8690b8bd658e         0.0           0.0           0.0   \n",
       "4  0000bc3186b7b31d9b35d3fbbb250b9f8         1.0           0.0           0.0   \n",
       "\n",
       "   has_blue_id blue_activity_count  blue_gmv_total  green_gmv_total  \\\n",
       "0          1.0                 2.0             0.0              0.0   \n",
       "1          0.0                 0.0             0.0              0.0   \n",
       "2          0.0                 0.0             0.0              0.0   \n",
       "3          0.0                 0.0             0.0              0.0   \n",
       "4          0.0                 0.0             0.0              0.0   \n",
       "\n",
       "  green_gmv_order_count  black_gmv_total  ... blue_android  red_apple  \\\n",
       "0                   0.0              0.0  ...          0.0        0.0   \n",
       "1                   0.0              0.0  ...          0.0        0.0   \n",
       "2                   0.0              0.0  ...          0.0        1.0   \n",
       "3                   0.0              0.0  ...          0.0        0.0   \n",
       "4                   0.0              0.0  ...          0.0        1.0   \n",
       "\n",
       "   green_apple  black_apple  blue_apple  is_msk  red_web  green_web  \\\n",
       "0          0.0          0.0         0.0     0.0      0.0        0.0   \n",
       "1          0.0          0.0         0.0     0.0      1.0        0.0   \n",
       "2          0.0          1.0         0.0     0.0      0.0        0.0   \n",
       "3          0.0          0.0         0.0     0.0      1.0        0.0   \n",
       "4          0.0          0.0         0.0     0.0      0.0        0.0   \n",
       "\n",
       "   black_web  blue_web  \n",
       "0        0.0       0.0  \n",
       "1        0.0       0.0  \n",
       "2        0.0       0.0  \n",
       "3        0.0       0.0  \n",
       "4        0.0       0.0  \n",
       "\n",
       "[5 rows x 24 columns]"
      ]
     },
     "execution_count": 7,
     "metadata": {},
     "output_type": "execute_result"
    }
   ],
   "source": [
    "data = data.drop('Unnamed: 0', axis=1)\n",
    "data.head()"
   ]
  },
  {
   "cell_type": "markdown",
   "id": "f926b003",
   "metadata": {},
   "source": [
    "### Тип столбцов и пропуски <a id='tipstolbcov'></a>"
   ]
  },
  {
   "cell_type": "markdown",
   "id": "a9785e73",
   "metadata": {},
   "source": [
    "На этапе знакомства с данными, методом `info()`, мы обнаружили, что некоторые столбцы имеют строковый тип данных. Изменим их на целочисленный."
   ]
  },
  {
   "cell_type": "code",
   "execution_count": 8,
   "id": "7e4f488a",
   "metadata": {},
   "outputs": [],
   "source": [
    "# for column in ['blue_activity_count', 'green_gmv_order_count', 'black_gmv_order_count']:\n",
    "#     data[column] = pd.to_numeric(data[column], downcast='integer')\n",
    "\n",
    "# # data.info()"
   ]
  },
  {
   "cell_type": "markdown",
   "id": "1cc9a5ce",
   "metadata": {},
   "source": [
    "Код выше вывел ошибку, потому что в столбцах содержатся значения, которые не переводятся в целочисленный тип, посмотрим на уникальные значения этих столбцов и исправим вручную."
   ]
  },
  {
   "cell_type": "code",
   "execution_count": 9,
   "id": "f8e684a3",
   "metadata": {},
   "outputs": [
    {
     "name": "stdout",
     "output_type": "stream",
     "text": [
      "BLUE_ACTIVITY_COUNT\n",
      " ['2.0' '0.0' '1.0' '17.0' '13.0' '5.0' '6.0' '26.0' '8.0' '4.0' '27.0'\n",
      " '19.0' '12.0' '9.0' '3.0' '20.0' '10.0' '23.0' '7.0' '16.0' '14.0' '15.0'\n",
      " '53.0' datetime.datetime(2019, 5, 4, 0, 0) '32.0' '11.0' '18.0' '24.0'\n",
      " '119.0' '49.0' '39.0' '21.0' datetime.datetime(2019, 5, 7, 0, 0) '35.0'\n",
      " '72.0' '30.0' '71.0' '28.0' '42.0' '34.0' '41.0' '22.0' '29.0' '36.0'\n",
      " '90.0' '40.0' '43.0' datetime.datetime(2019, 5, 1, 0, 0) '51.0' '44.0'\n",
      " '25.0' '31.0' '45.0' '67.0' '33.0' '101.0' '74.0' '46.0' '111.0' '66.0'\n",
      " '38.0' '63.0' '100.0' '237.0' '59.0' datetime.datetime(2019, 5, 3, 0, 0)\n",
      " datetime.datetime(2019, 5, 6, 0, 0) '37.0' '47.0'] \n",
      "\n",
      "GREEN_GMV_ORDER_COUNT\n",
      " ['0.0' '2.0' '26.0' '5.0' '37.0' '3.0' '12.0' '7.0' '1.0' '6.0' '8.0'\n",
      " datetime.datetime(2019, 5, 4, 0, 0) '4.0' '40.0' '9.0' '22.0' '14.0'\n",
      " '15.0' '85.0' '25.0' '10.0' '20.0' '18.0' '11.0' '31.0' '23.0' '39.0'\n",
      " '13.0' '42.0' '127.0' '28.0' '101.0' '32.0' '30.0' '27.0' '51.0' '83.0'\n",
      " '36.0' '16.0' '64.0' '19.0' '29.0' '24.0' '52.0' '82.0' '45.0' '50.0'\n",
      " '62.0' '49.0' '21.0' '56.0' '65.0' '100.0' '76.0' '88.0' '17.0' '69.0'\n",
      " '114.0' '35.0' '125.0' '38.0' '108.0' '168.0' '84.0' '63.0' '75.0' '34.0'\n",
      " '78.0' '43.0' '60.0' datetime.datetime(2019, 5, 2, 0, 0)] \n",
      "\n",
      "BLACK_GMV_ORDER_COUNT\n",
      " ['0.0' '1.0' '4.0' '2.0' '3.0' '5.0' '8.0' '25.0' '7.0' '27.0' '6.0'\n",
      " '15.0' '9.0' '10.0' '50.0' '22.0' '13.0' '12.0' '14.0' '16.0' '20.0'\n",
      " '26.0' '11.0' '18.0' '21.0' datetime.datetime(2019, 5, 2, 0, 0) '19.0'\n",
      " '37.0' '33.0' '17.0' '35.0' '29.0' '51.0' '23.0' '42.0' '60.0' '34.0'\n",
      " '36.0' datetime.datetime(2019, 5, 6, 0, 0)] \n",
      "\n"
     ]
    }
   ],
   "source": [
    "for column in ['blue_activity_count', 'green_gmv_order_count', 'black_gmv_order_count']:\n",
    "    print(f'{column.upper()}\\n', data[column].unique(), '\\n')\n"
   ]
  },
  {
   "cell_type": "markdown",
   "id": "228c1858",
   "metadata": {},
   "source": [
    "В численных столбцах почему-то содержатся даты. Эти значения необходимо удалить, для этого мы сперва заменим их на *NaN*, а затем удалим."
   ]
  },
  {
   "cell_type": "code",
   "execution_count": 10,
   "id": "e01a477a",
   "metadata": {},
   "outputs": [],
   "source": [
    "for column in ['blue_activity_count', 'green_gmv_order_count', 'black_gmv_order_count']:\n",
    "    data[column] = pd.to_numeric(data[column], downcast='integer', errors='coerce')"
   ]
  },
  {
   "cell_type": "markdown",
   "id": "c580bb89",
   "metadata": {},
   "source": [
    "Удалим строки, в которых есть пропуски, и обновим индексы строк."
   ]
  },
  {
   "cell_type": "code",
   "execution_count": 11,
   "id": "46a0a2c3",
   "metadata": {},
   "outputs": [
    {
     "name": "stdout",
     "output_type": "stream",
     "text": [
      "<class 'pandas.core.frame.DataFrame'>\n",
      "RangeIndex: 99986 entries, 0 to 99985\n",
      "Data columns (total 24 columns):\n",
      " #   Column                 Non-Null Count  Dtype  \n",
      "---  ------                 --------------  -----  \n",
      " 0   hid                    99986 non-null  object \n",
      " 1   active_red             99986 non-null  float64\n",
      " 2   has_green_id           99986 non-null  float64\n",
      " 3   has_black_id           99986 non-null  float64\n",
      " 4   has_blue_id            99986 non-null  float64\n",
      " 5   blue_activity_count    99986 non-null  float64\n",
      " 6   blue_gmv_total         99986 non-null  float64\n",
      " 7   green_gmv_total        99986 non-null  float64\n",
      " 8   green_gmv_order_count  99986 non-null  float64\n",
      " 9   black_gmv_total        99986 non-null  float64\n",
      " 10  black_gmv_order_count  99986 non-null  float64\n",
      " 11  red_android            99986 non-null  float64\n",
      " 12  green_android          99986 non-null  float64\n",
      " 13  black_android          99986 non-null  float64\n",
      " 14  blue_android           99986 non-null  float64\n",
      " 15  red_apple              99986 non-null  float64\n",
      " 16  green_apple            99986 non-null  float64\n",
      " 17  black_apple            99986 non-null  float64\n",
      " 18  blue_apple             99986 non-null  float64\n",
      " 19  is_msk                 99986 non-null  float64\n",
      " 20  red_web                99986 non-null  float64\n",
      " 21  green_web              99986 non-null  float64\n",
      " 22  black_web              99986 non-null  float64\n",
      " 23  blue_web               99986 non-null  float64\n",
      "dtypes: float64(23), object(1)\n",
      "memory usage: 18.3+ MB\n"
     ]
    }
   ],
   "source": [
    "data.dropna(inplace=True)\n",
    "data.reset_index(drop=True, inplace=True)\n",
    "data.info()"
   ]
  },
  {
   "cell_type": "markdown",
   "id": "cf5f57bd",
   "metadata": {},
   "source": [
    "### Столбец active_red <a id='stolbecactive'></a>"
   ]
  },
  {
   "cell_type": "markdown",
   "id": "ef47472a",
   "metadata": {},
   "source": [
    "Этот столбец может принадлежать к одному из 4 типов столбцов, для начала посмотрим на значения, которые он хранит:"
   ]
  },
  {
   "cell_type": "code",
   "execution_count": 12,
   "id": "d00714f2",
   "metadata": {},
   "outputs": [
    {
     "data": {
      "text/plain": [
       "1.0    55864\n",
       "0.0    44122\n",
       "Name: active_red, dtype: int64"
      ]
     },
     "execution_count": 12,
     "metadata": {},
     "output_type": "execute_result"
    }
   ],
   "source": [
    "data['active_red'].value_counts()"
   ]
  },
  {
   "cell_type": "markdown",
   "id": "51a12546",
   "metadata": {},
   "source": [
    "Вероятно, он принадлежит булевому типу, но сравним с некоторыми остальными столбцами, которые по идее, должны хранить в себе куда более разные значения. Определим этот столбец к тому, который будет больше похож на него."
   ]
  },
  {
   "cell_type": "code",
   "execution_count": 13,
   "id": "3d8d41a2",
   "metadata": {},
   "outputs": [],
   "source": [
    "def print_value_counts(*column_names):\n",
    "    for name in column_names:\n",
    "        print(name.upper(), '\\n', data[name].sort_values().value_counts(), '\\n')"
   ]
  },
  {
   "cell_type": "code",
   "execution_count": 14,
   "id": "854943e9",
   "metadata": {},
   "outputs": [
    {
     "name": "stdout",
     "output_type": "stream",
     "text": [
      "HAS_GREEN_ID \n",
      " 0.0    99104\n",
      "1.0      881\n",
      "2.0        1\n",
      "Name: has_green_id, dtype: int64 \n",
      "\n",
      "BLUE_ACTIVITY_COUNT \n",
      " 0.0      96108\n",
      "1.0       1368\n",
      "2.0        625\n",
      "3.0        425\n",
      "4.0        288\n",
      "         ...  \n",
      "67.0         1\n",
      "66.0         1\n",
      "59.0         1\n",
      "38.0         1\n",
      "237.0        1\n",
      "Name: blue_activity_count, Length: 64, dtype: int64 \n",
      "\n",
      "BLACK_GMV_TOTAL \n",
      " 0.0         98910\n",
      "1700.0          8\n",
      "1598.0          7\n",
      "1200.0          5\n",
      "2460.0          5\n",
      "            ...  \n",
      "3812.0          1\n",
      "3816.0          1\n",
      "3834.0          1\n",
      "3840.0          1\n",
      "188252.0        1\n",
      "Name: black_gmv_total, Length: 910, dtype: int64 \n",
      "\n",
      "GREEN_GMV_ORDER_COUNT \n",
      " 0.0      99104\n",
      "1.0        237\n",
      "2.0        124\n",
      "4.0         81\n",
      "3.0         70\n",
      "         ...  \n",
      "52.0         1\n",
      "56.0         1\n",
      "60.0         1\n",
      "62.0         1\n",
      "168.0        1\n",
      "Name: green_gmv_order_count, Length: 69, dtype: int64 \n",
      "\n"
     ]
    }
   ],
   "source": [
    "print_value_counts('has_green_id', 'blue_activity_count', 'black_gmv_total', 'green_gmv_order_count')"
   ]
  },
  {
   "cell_type": "markdown",
   "id": "6ac9246f",
   "metadata": {},
   "source": [
    "Вероятно, столбец *active_red* - это наш отсутствующий столбец *has_red_id*. Однако мы нашли еще одно несоответствие: столбец *has_green_id* имеет в себе значение 2. С этим мы разберемся на следующем шаге, а сейчас определим *active_red* как *has_red_id*."
   ]
  },
  {
   "cell_type": "code",
   "execution_count": 15,
   "id": "b1dd8057",
   "metadata": {},
   "outputs": [],
   "source": [
    "data = data.rename(columns={'active_red': 'has_red_id'})"
   ]
  },
  {
   "cell_type": "markdown",
   "id": "19234461",
   "metadata": {},
   "source": [
    "### Уникальные значения и соответствие столбцов <a id='unikalnie'></a>"
   ]
  },
  {
   "cell_type": "markdown",
   "id": "855dcb9e",
   "metadata": {},
   "source": [
    "Как мы уже выяснили, в данных очень много ошибок, которые предстоит убрать. На этом шаге мы разделим все столбцы на группы, выведем их уникальные значения. Мы должны убедиться в том, что названия столбцов соответствуют их содержанию, а также содержание соответствует реальности (в булевом столбце не может быть 3 разных значения)."
   ]
  },
  {
   "cell_type": "markdown",
   "id": "c578f178",
   "metadata": {},
   "source": [
    "#### has_company_id"
   ]
  },
  {
   "cell_type": "markdown",
   "id": "daf0356b",
   "metadata": {},
   "source": [
    "Столбец должен иметь в себе значения 0 и 1."
   ]
  },
  {
   "cell_type": "code",
   "execution_count": 16,
   "id": "63487cd3",
   "metadata": {},
   "outputs": [
    {
     "name": "stdout",
     "output_type": "stream",
     "text": [
      "HAS_RED_ID \n",
      " 1.0    55864\n",
      "0.0    44122\n",
      "Name: has_red_id, dtype: int64 \n",
      "\n",
      "HAS_GREEN_ID \n",
      " 0.0    99104\n",
      "1.0      881\n",
      "2.0        1\n",
      "Name: has_green_id, dtype: int64 \n",
      "\n",
      "HAS_BLUE_ID \n",
      " 0.0    86732\n",
      "1.0    12746\n",
      "2.0      495\n",
      "3.0       12\n",
      "4.0        1\n",
      "Name: has_blue_id, dtype: int64 \n",
      "\n",
      "HAS_BLACK_ID \n",
      " 0.0    98910\n",
      "1.0     1074\n",
      "2.0        2\n",
      "Name: has_black_id, dtype: int64 \n",
      "\n"
     ]
    }
   ],
   "source": [
    "print_value_counts('has_red_id', 'has_green_id', 'has_blue_id', 'has_black_id')"
   ]
  },
  {
   "cell_type": "markdown",
   "id": "5cd16abf",
   "metadata": {},
   "source": [
    "* has_green_id имеет выброс в значении 2\n",
    "* has_black_id имеет выбросы в значении 2\n",
    "* has_blue_id имеет множество выбросов"
   ]
  },
  {
   "cell_type": "code",
   "execution_count": 17,
   "id": "1d755c41",
   "metadata": {},
   "outputs": [],
   "source": [
    "data = data[(data['has_green_id'] < 2) &\n",
    "           (data['has_blue_id'] < 2) &\n",
    "           (data['has_black_id'] < 2)]"
   ]
  },
  {
   "cell_type": "markdown",
   "id": "c7dba3f8",
   "metadata": {},
   "source": [
    "#### company_gmv_total"
   ]
  },
  {
   "cell_type": "code",
   "execution_count": 18,
   "id": "aa1e579a",
   "metadata": {},
   "outputs": [
    {
     "name": "stdout",
     "output_type": "stream",
     "text": [
      "GREEN_GMV_TOTAL \n",
      " 0.0        98601\n",
      "500.0         29\n",
      "400.0         28\n",
      "900.0         14\n",
      "1000.0        13\n",
      "           ...  \n",
      "2908.0         1\n",
      "2914.0         1\n",
      "2924.0         1\n",
      "2936.0         1\n",
      "94106.0        1\n",
      "Name: green_gmv_total, Length: 672, dtype: int64 \n",
      "\n",
      "BLUE_GMV_TOTAL \n",
      " 0.0        99070\n",
      "2.0           34\n",
      "4.0           18\n",
      "12.0          15\n",
      "18.0           7\n",
      "           ...  \n",
      "392.0          1\n",
      "402.0          1\n",
      "406.0          1\n",
      "408.0          1\n",
      "32302.0        1\n",
      "Name: blue_gmv_total, Length: 224, dtype: int64 \n",
      "\n",
      "BLACK_GMV_TOTAL \n",
      " 0.0         98410\n",
      "1598.0          7\n",
      "1700.0          7\n",
      "1200.0          5\n",
      "1300.0          5\n",
      "            ...  \n",
      "3800.0          1\n",
      "3810.0          1\n",
      "3812.0          1\n",
      "3816.0          1\n",
      "188252.0        1\n",
      "Name: black_gmv_total, Length: 901, dtype: int64 \n",
      "\n"
     ]
    }
   ],
   "source": [
    "print_value_counts('green_gmv_total', 'blue_gmv_total', 'black_gmv_total')"
   ]
  },
  {
   "cell_type": "markdown",
   "id": "351e3df6",
   "metadata": {},
   "source": [
    "Эти столбцы соответствуют своим своим названиям ✅. Можно отметить что присутствуют выбросы, к этому мы вернемся на дальнейших этапах."
   ]
  },
  {
   "cell_type": "markdown",
   "id": "66b3a3ab",
   "metadata": {},
   "source": [
    "#### company_gmv_order_count"
   ]
  },
  {
   "cell_type": "markdown",
   "id": "6d30251e",
   "metadata": {},
   "source": [
    "В этом столбце мы не ожидаем увидеть тысячные значения."
   ]
  },
  {
   "cell_type": "code",
   "execution_count": 19,
   "id": "115d8c9a",
   "metadata": {},
   "outputs": [
    {
     "name": "stdout",
     "output_type": "stream",
     "text": [
      "GREEN_GMV_ORDER_COUNT \n",
      " 0.0      98601\n",
      "1.0        235\n",
      "2.0        123\n",
      "4.0         81\n",
      "3.0         68\n",
      "         ...  \n",
      "52.0         1\n",
      "56.0         1\n",
      "60.0         1\n",
      "62.0         1\n",
      "168.0        1\n",
      "Name: green_gmv_order_count, Length: 69, dtype: int64 \n",
      "\n",
      "BLACK_GMV_ORDER_COUNT \n",
      " 0.0     98410\n",
      "1.0       441\n",
      "2.0       184\n",
      "3.0       116\n",
      "4.0        79\n",
      "5.0        43\n",
      "6.0        32\n",
      "8.0        28\n",
      "7.0        21\n",
      "10.0       19\n",
      "9.0        16\n",
      "12.0       13\n",
      "11.0        8\n",
      "15.0        8\n",
      "14.0        6\n",
      "26.0        5\n",
      "18.0        5\n",
      "20.0        4\n",
      "25.0        4\n",
      "13.0        4\n",
      "17.0        3\n",
      "19.0        3\n",
      "22.0        3\n",
      "16.0        3\n",
      "21.0        2\n",
      "23.0        2\n",
      "51.0        2\n",
      "35.0        2\n",
      "37.0        1\n",
      "50.0        1\n",
      "42.0        1\n",
      "29.0        1\n",
      "36.0        1\n",
      "34.0        1\n",
      "33.0        1\n",
      "27.0        1\n",
      "60.0        1\n",
      "Name: black_gmv_order_count, dtype: int64 \n",
      "\n"
     ]
    }
   ],
   "source": [
    "print_value_counts('green_gmv_order_count', 'black_gmv_order_count')"
   ]
  },
  {
   "cell_type": "markdown",
   "id": "00b3cfd6",
   "metadata": {},
   "source": [
    "С этими столбцами все в порядке. ✅"
   ]
  },
  {
   "cell_type": "markdown",
   "id": "0d2a454a",
   "metadata": {},
   "source": [
    "#### company_activity_count"
   ]
  },
  {
   "cell_type": "code",
   "execution_count": 20,
   "id": "e97985f1",
   "metadata": {},
   "outputs": [
    {
     "name": "stdout",
     "output_type": "stream",
     "text": [
      "BLUE_ACTIVITY_COUNT \n",
      " 0.0      95922\n",
      "1.0       1280\n",
      "2.0        572\n",
      "3.0        385\n",
      "4.0        260\n",
      "         ...  \n",
      "66.0         1\n",
      "59.0         1\n",
      "53.0         1\n",
      "38.0         1\n",
      "237.0        1\n",
      "Name: blue_activity_count, Length: 64, dtype: int64 \n",
      "\n"
     ]
    }
   ],
   "source": [
    "print_value_counts('blue_activity_count')"
   ]
  },
  {
   "cell_type": "markdown",
   "id": "8c690b9e",
   "metadata": {},
   "source": [
    "С этим столбцом все в порядке. ✅"
   ]
  },
  {
   "cell_type": "markdown",
   "id": "b997c6f6",
   "metadata": {},
   "source": [
    "#### company_android"
   ]
  },
  {
   "cell_type": "code",
   "execution_count": 21,
   "id": "abd19d79",
   "metadata": {},
   "outputs": [
    {
     "name": "stdout",
     "output_type": "stream",
     "text": [
      "RED_ANDROID \n",
      " 0.0    67642\n",
      "1.0    31833\n",
      "Name: red_android, dtype: int64 \n",
      "\n",
      "BLUE_ANDROID \n",
      " 0.0    91658\n",
      "1.0     7817\n",
      "Name: blue_android, dtype: int64 \n",
      "\n",
      "GREEN_ANDROID \n",
      " 0.0    98937\n",
      "1.0      538\n",
      "Name: green_android, dtype: int64 \n",
      "\n",
      "BLACK_ANDROID \n",
      " 0.0    98413\n",
      "1.0     1062\n",
      "Name: black_android, dtype: int64 \n",
      "\n"
     ]
    }
   ],
   "source": [
    "print_value_counts('red_android', 'blue_android', 'green_android', 'black_android')"
   ]
  },
  {
   "cell_type": "markdown",
   "id": "dca63fb4",
   "metadata": {},
   "source": [
    "С этими столбцами все в порядке. ✅"
   ]
  },
  {
   "cell_type": "markdown",
   "id": "250df5d2",
   "metadata": {},
   "source": [
    "#### company_apple"
   ]
  },
  {
   "cell_type": "code",
   "execution_count": 22,
   "id": "e9830a92",
   "metadata": {},
   "outputs": [
    {
     "name": "stdout",
     "output_type": "stream",
     "text": [
      "RED_APPLE \n",
      " 0.0    88707\n",
      "1.0    10768\n",
      "Name: red_apple, dtype: int64 \n",
      "\n",
      "BLUE_APPLE \n",
      " 0.0    94926\n",
      "1.0     4549\n",
      "Name: blue_apple, dtype: int64 \n",
      "\n",
      "GREEN_APPLE \n",
      " 0.0    98865\n",
      "1.0      610\n",
      "Name: green_apple, dtype: int64 \n",
      "\n",
      "BLACK_APPLE \n",
      " 0.0    97718\n",
      "1.0     1757\n",
      "Name: black_apple, dtype: int64 \n",
      "\n"
     ]
    }
   ],
   "source": [
    "print_value_counts('red_apple', 'blue_apple', 'green_apple', 'black_apple')"
   ]
  },
  {
   "cell_type": "markdown",
   "id": "1f1e439c",
   "metadata": {},
   "source": [
    "С этими столбцами все в порядке. ✅"
   ]
  },
  {
   "cell_type": "markdown",
   "id": "d8feaa5d",
   "metadata": {},
   "source": [
    "#### company_web"
   ]
  },
  {
   "cell_type": "code",
   "execution_count": 23,
   "id": "0e2d5c0b",
   "metadata": {},
   "outputs": [
    {
     "name": "stdout",
     "output_type": "stream",
     "text": [
      "RED_WEB \n",
      " 1.0    66680\n",
      "0.0    32795\n",
      "Name: red_web, dtype: int64 \n",
      "\n",
      "BLUE_WEB \n",
      " 0.0    89012\n",
      "1.0    10463\n",
      "Name: blue_web, dtype: int64 \n",
      "\n",
      "GREEN_WEB \n",
      " 0.0    99279\n",
      "1.0      196\n",
      "Name: green_web, dtype: int64 \n",
      "\n",
      "BLACK_WEB \n",
      " 0.0    98022\n",
      "1.0     1453\n",
      "Name: black_web, dtype: int64 \n",
      "\n"
     ]
    }
   ],
   "source": [
    "print_value_counts('red_web', 'blue_web', 'green_web', 'black_web')"
   ]
  },
  {
   "cell_type": "markdown",
   "id": "94142386",
   "metadata": {},
   "source": [
    "С этими столбцами все в порядке. ✅"
   ]
  },
  {
   "cell_type": "markdown",
   "id": "f642c983",
   "metadata": {},
   "source": [
    "### Дубликаты <a id='dublikati'></a>"
   ]
  },
  {
   "cell_type": "markdown",
   "id": "59c69ab7",
   "metadata": {},
   "source": [
    "Раз мы нашли столько ошибок в данных, стоит проверить их на наличие дубликатов. Дубликаты мы будем проверять по столбцу *hid*, так как идентификатор пользователя должен быть всего один."
   ]
  },
  {
   "cell_type": "code",
   "execution_count": 24,
   "id": "6a473e18",
   "metadata": {},
   "outputs": [
    {
     "data": {
      "text/plain": [
       "0"
      ]
     },
     "execution_count": 24,
     "metadata": {},
     "output_type": "execute_result"
    }
   ],
   "source": [
    "data['hid'].duplicated().sum()"
   ]
  },
  {
   "cell_type": "markdown",
   "id": "95375182",
   "metadata": {},
   "source": [
    "Дубликаты отсутствуют. ✅"
   ]
  },
  {
   "cell_type": "markdown",
   "id": "097472f7",
   "metadata": {},
   "source": [
    "Наш итоговый датасет выглядит следующим образом:"
   ]
  },
  {
   "cell_type": "code",
   "execution_count": 25,
   "id": "bfe76c32",
   "metadata": {},
   "outputs": [
    {
     "data": {
      "text/html": [
       "<div>\n",
       "<style scoped>\n",
       "    .dataframe tbody tr th:only-of-type {\n",
       "        vertical-align: middle;\n",
       "    }\n",
       "\n",
       "    .dataframe tbody tr th {\n",
       "        vertical-align: top;\n",
       "    }\n",
       "\n",
       "    .dataframe thead th {\n",
       "        text-align: right;\n",
       "    }\n",
       "</style>\n",
       "<table border=\"1\" class=\"dataframe\">\n",
       "  <thead>\n",
       "    <tr style=\"text-align: right;\">\n",
       "      <th></th>\n",
       "      <th>hid</th>\n",
       "      <th>has_red_id</th>\n",
       "      <th>has_green_id</th>\n",
       "      <th>has_black_id</th>\n",
       "      <th>has_blue_id</th>\n",
       "      <th>blue_activity_count</th>\n",
       "      <th>blue_gmv_total</th>\n",
       "      <th>green_gmv_total</th>\n",
       "      <th>green_gmv_order_count</th>\n",
       "      <th>black_gmv_total</th>\n",
       "      <th>...</th>\n",
       "      <th>blue_android</th>\n",
       "      <th>red_apple</th>\n",
       "      <th>green_apple</th>\n",
       "      <th>black_apple</th>\n",
       "      <th>blue_apple</th>\n",
       "      <th>is_msk</th>\n",
       "      <th>red_web</th>\n",
       "      <th>green_web</th>\n",
       "      <th>black_web</th>\n",
       "      <th>blue_web</th>\n",
       "    </tr>\n",
       "  </thead>\n",
       "  <tbody>\n",
       "    <tr>\n",
       "      <th>0</th>\n",
       "      <td>00003c7fb5e57ce673f1801f3679f5c25</td>\n",
       "      <td>0.0</td>\n",
       "      <td>0.0</td>\n",
       "      <td>0.0</td>\n",
       "      <td>1.0</td>\n",
       "      <td>2.0</td>\n",
       "      <td>0.0</td>\n",
       "      <td>0.0</td>\n",
       "      <td>0.0</td>\n",
       "      <td>0.0</td>\n",
       "      <td>...</td>\n",
       "      <td>0.0</td>\n",
       "      <td>0.0</td>\n",
       "      <td>0.0</td>\n",
       "      <td>0.0</td>\n",
       "      <td>0.0</td>\n",
       "      <td>0.0</td>\n",
       "      <td>0.0</td>\n",
       "      <td>0.0</td>\n",
       "      <td>0.0</td>\n",
       "      <td>0.0</td>\n",
       "    </tr>\n",
       "    <tr>\n",
       "      <th>1</th>\n",
       "      <td>00006b602533083e3bebfcbff08613931</td>\n",
       "      <td>1.0</td>\n",
       "      <td>0.0</td>\n",
       "      <td>0.0</td>\n",
       "      <td>0.0</td>\n",
       "      <td>0.0</td>\n",
       "      <td>0.0</td>\n",
       "      <td>0.0</td>\n",
       "      <td>0.0</td>\n",
       "      <td>0.0</td>\n",
       "      <td>...</td>\n",
       "      <td>0.0</td>\n",
       "      <td>0.0</td>\n",
       "      <td>0.0</td>\n",
       "      <td>0.0</td>\n",
       "      <td>0.0</td>\n",
       "      <td>0.0</td>\n",
       "      <td>1.0</td>\n",
       "      <td>0.0</td>\n",
       "      <td>0.0</td>\n",
       "      <td>0.0</td>\n",
       "    </tr>\n",
       "    <tr>\n",
       "      <th>2</th>\n",
       "      <td>0000736c3f76339196cb1cc759b8363b</td>\n",
       "      <td>1.0</td>\n",
       "      <td>0.0</td>\n",
       "      <td>0.0</td>\n",
       "      <td>0.0</td>\n",
       "      <td>0.0</td>\n",
       "      <td>0.0</td>\n",
       "      <td>0.0</td>\n",
       "      <td>0.0</td>\n",
       "      <td>0.0</td>\n",
       "      <td>...</td>\n",
       "      <td>0.0</td>\n",
       "      <td>1.0</td>\n",
       "      <td>0.0</td>\n",
       "      <td>1.0</td>\n",
       "      <td>0.0</td>\n",
       "      <td>0.0</td>\n",
       "      <td>0.0</td>\n",
       "      <td>0.0</td>\n",
       "      <td>0.0</td>\n",
       "      <td>0.0</td>\n",
       "    </tr>\n",
       "    <tr>\n",
       "      <th>3</th>\n",
       "      <td>00009bdcc5307b38efde8690b8bd658e</td>\n",
       "      <td>0.0</td>\n",
       "      <td>0.0</td>\n",
       "      <td>0.0</td>\n",
       "      <td>0.0</td>\n",
       "      <td>0.0</td>\n",
       "      <td>0.0</td>\n",
       "      <td>0.0</td>\n",
       "      <td>0.0</td>\n",
       "      <td>0.0</td>\n",
       "      <td>...</td>\n",
       "      <td>0.0</td>\n",
       "      <td>0.0</td>\n",
       "      <td>0.0</td>\n",
       "      <td>0.0</td>\n",
       "      <td>0.0</td>\n",
       "      <td>0.0</td>\n",
       "      <td>1.0</td>\n",
       "      <td>0.0</td>\n",
       "      <td>0.0</td>\n",
       "      <td>0.0</td>\n",
       "    </tr>\n",
       "    <tr>\n",
       "      <th>4</th>\n",
       "      <td>0000bc3186b7b31d9b35d3fbbb250b9f8</td>\n",
       "      <td>1.0</td>\n",
       "      <td>0.0</td>\n",
       "      <td>0.0</td>\n",
       "      <td>0.0</td>\n",
       "      <td>0.0</td>\n",
       "      <td>0.0</td>\n",
       "      <td>0.0</td>\n",
       "      <td>0.0</td>\n",
       "      <td>0.0</td>\n",
       "      <td>...</td>\n",
       "      <td>0.0</td>\n",
       "      <td>1.0</td>\n",
       "      <td>0.0</td>\n",
       "      <td>0.0</td>\n",
       "      <td>0.0</td>\n",
       "      <td>0.0</td>\n",
       "      <td>0.0</td>\n",
       "      <td>0.0</td>\n",
       "      <td>0.0</td>\n",
       "      <td>0.0</td>\n",
       "    </tr>\n",
       "  </tbody>\n",
       "</table>\n",
       "<p>5 rows × 24 columns</p>\n",
       "</div>"
      ],
      "text/plain": [
       "                                 hid  has_red_id  has_green_id  has_black_id  \\\n",
       "0  00003c7fb5e57ce673f1801f3679f5c25         0.0           0.0           0.0   \n",
       "1  00006b602533083e3bebfcbff08613931         1.0           0.0           0.0   \n",
       "2   0000736c3f76339196cb1cc759b8363b         1.0           0.0           0.0   \n",
       "3   00009bdcc5307b38efde8690b8bd658e         0.0           0.0           0.0   \n",
       "4  0000bc3186b7b31d9b35d3fbbb250b9f8         1.0           0.0           0.0   \n",
       "\n",
       "   has_blue_id  blue_activity_count  blue_gmv_total  green_gmv_total  \\\n",
       "0          1.0                  2.0             0.0              0.0   \n",
       "1          0.0                  0.0             0.0              0.0   \n",
       "2          0.0                  0.0             0.0              0.0   \n",
       "3          0.0                  0.0             0.0              0.0   \n",
       "4          0.0                  0.0             0.0              0.0   \n",
       "\n",
       "   green_gmv_order_count  black_gmv_total  ...  blue_android  red_apple  \\\n",
       "0                    0.0              0.0  ...           0.0        0.0   \n",
       "1                    0.0              0.0  ...           0.0        0.0   \n",
       "2                    0.0              0.0  ...           0.0        1.0   \n",
       "3                    0.0              0.0  ...           0.0        0.0   \n",
       "4                    0.0              0.0  ...           0.0        1.0   \n",
       "\n",
       "   green_apple  black_apple  blue_apple  is_msk  red_web  green_web  \\\n",
       "0          0.0          0.0         0.0     0.0      0.0        0.0   \n",
       "1          0.0          0.0         0.0     0.0      1.0        0.0   \n",
       "2          0.0          1.0         0.0     0.0      0.0        0.0   \n",
       "3          0.0          0.0         0.0     0.0      1.0        0.0   \n",
       "4          0.0          0.0         0.0     0.0      0.0        0.0   \n",
       "\n",
       "   black_web  blue_web  \n",
       "0        0.0       0.0  \n",
       "1        0.0       0.0  \n",
       "2        0.0       0.0  \n",
       "3        0.0       0.0  \n",
       "4        0.0       0.0  \n",
       "\n",
       "[5 rows x 24 columns]"
      ]
     },
     "execution_count": 25,
     "metadata": {},
     "output_type": "execute_result"
    }
   ],
   "source": [
    "data.head()"
   ]
  },
  {
   "cell_type": "markdown",
   "id": "bb17c661",
   "metadata": {},
   "source": [
    "## Исследование <a id='issledovanie'></a>"
   ]
  },
  {
   "cell_type": "markdown",
   "id": "a0ae2103",
   "metadata": {},
   "source": [
    "### Суммы продаж <a id='summiprodaj'></a>"
   ]
  },
  {
   "cell_type": "markdown",
   "id": "c54b884d",
   "metadata": {},
   "source": [
    "В таблице есть информация о метрике *GMV (Gross Merchandise Volume)*. Эта метрика показывает общий объем продаж. С ее помощью можно определить *AOV (Average Order Value или средняя сумма транзакции)*, а также *концентрацию GMV*, что покажет активность пользователей в компании."
   ]
  },
  {
   "cell_type": "code",
   "execution_count": 26,
   "id": "ca1dfb16",
   "metadata": {},
   "outputs": [
    {
     "data": {
      "image/png": "[encoded data removed]",
      "text/plain": [
       "<Figure size 1000x1200 with 3 Axes>"
      ]
     },
     "metadata": {},
     "output_type": "display_data"
    }
   ],
   "source": [
    "fig, (ax1, ax2, ax3) = plt.subplots(nrows=3, figsize=(10,12))\n",
    "\n",
    "plt.xticks(range(0,2001, 200))\n",
    "sns.histplot(data.query('0 < blue_gmv_total < 2000')['blue_gmv_total'], color='#5996fc', edgecolor='#5996fc', bins=100, ax=ax1)\n",
    "\n",
    "plt.xticks(range(0,20001, 2000))\n",
    "sns.histplot(data.query('0 < green_gmv_total < 20000')['green_gmv_total'], color='#77DD77', edgecolor='#77DD77', bins=100, ax=ax2)\n",
    "\n",
    "plt.xticks(range(0,30001, 3000))\n",
    "sns.histplot(data.query('0 < black_gmv_total < 30000')['black_gmv_total'], color='#4E4E5A', edgecolor='#4E4E5A', bins=100, ax=ax3)\n",
    "\n",
    "ax1.set_title('Blue GMV Histogram')\n",
    "ax2.set_title('Green GMV Histogram')\n",
    "ax3.set_title('Black GMV Histogram')\n",
    "ax1.grid(linestyle='--')\n",
    "ax2.grid(linestyle='--')\n",
    "ax3.grid(linestyle='--')\n",
    "\n",
    "plt.tight_layout()\n",
    "plt.show()"
   ]
  },
  {
   "cell_type": "markdown",
   "id": "2baa1b63",
   "metadata": {},
   "source": [
    "Во всех трех компаниях есть аномально большие значения сумм транзакций, поэтому мы ограничили графики справа.\n",
    "\n",
    "Как мы видим, в компании Blue суммы *GMV* на порядок меньше чем в компаниях Green и Black. A Black в свою очередь имеет самые дорогие продажи. Приведем некоторую статистику ниже:"
   ]
  },
  {
   "cell_type": "code",
   "execution_count": 27,
   "id": "29f92d7a",
   "metadata": {},
   "outputs": [
    {
     "name": "stdout",
     "output_type": "stream",
     "text": [
      "BLUE_GMV_TOTAL\n",
      " count     377.000000\n",
      "mean      274.095491\n",
      "std       391.981344\n",
      "min         2.000000\n",
      "25%        24.000000\n",
      "50%        96.000000\n",
      "75%       356.000000\n",
      "max      1976.000000\n",
      "Name: blue_gmv_total, dtype: float64 \n",
      "------------\n",
      "GREEN_GMV_TOTAL\n",
      " count      803.000000\n",
      "mean      4126.064757\n",
      "std       4210.308789\n",
      "min        362.000000\n",
      "25%       1106.000000\n",
      "50%       2480.000000\n",
      "75%       5572.000000\n",
      "max      19990.000000\n",
      "Name: green_gmv_total, dtype: float64 \n",
      "------------\n",
      "BLACK_GMV_TOTAL\n",
      " count     1008.000000\n",
      "mean      6234.994048\n",
      "std       6179.920820\n",
      "min        440.000000\n",
      "25%       1993.000000\n",
      "50%       3799.000000\n",
      "75%       8104.000000\n",
      "max      29776.000000\n",
      "Name: black_gmv_total, dtype: float64\n"
     ]
    }
   ],
   "source": [
    "print('BLUE_GMV_TOTAL\\n', data.query('0 < blue_gmv_total < 2000')['blue_gmv_total'].describe(), \n",
    "      '\\n------------')\n",
    "print('GREEN_GMV_TOTAL\\n', data.query('0 < green_gmv_total < 20000')['green_gmv_total'].describe(), \n",
    "      '\\n------------')\n",
    "print('BLACK_GMV_TOTAL\\n', data.query('0 < black_gmv_total < 30000')['black_gmv_total'].describe())"
   ]
  },
  {
   "cell_type": "markdown",
   "id": "3e40ab21",
   "metadata": {},
   "source": [
    "Мы получили информацию, какой оборот компания имеет с человека в среднем. И в какой области лежит это среднее значение.\n",
    "\n",
    "Следующие цифры:\n",
    "- Blue - 274 на человека, основной диапазон [24, 356]\n",
    "- Green - 4126 на человека, основной диапазон [1106, 5572]\n",
    "- Black - 6234 на человека, основной диапазон [1993, 8104]\n",
    "\n",
    "Эта цифра рассчитывалась путем суммы всего GMV и разделения этой суммы на количество пользователей. Сразу можно получить информацию о то, какая в среднем сумма заказа в этой компании. Для этого мы весь GMV поделим на количество транзакций и получим метрику **AOV (Average Order Value)**."
   ]
  },
  {
   "cell_type": "code",
   "execution_count": 32,
   "id": "8c7f22cc",
   "metadata": {},
   "outputs": [
    {
     "name": "stdout",
     "output_type": "stream",
     "text": [
      "Green AOV - 780.1342123852131\n",
      "Black AOV - 2079.0188554416145\n"
     ]
    }
   ],
   "source": [
    "green_aov = (data.query('0 < green_gmv_total < 20000')['green_gmv_total'].sum() / \n",
    "           data.query('0 < green_gmv_total < 20000')['green_gmv_order_count'].sum())\n",
    "black_aov = (data.query('0 < black_gmv_total < 30000')['black_gmv_total'].sum() / \n",
    "           data.query('0 < black_gmv_total < 30000')['black_gmv_order_count'].sum())\n",
    "\n",
    "print('Green AOV -', green_aov)\n",
    "print('Black AOV -', black_aov)"
   ]
  },
  {
   "cell_type": "markdown",
   "id": "4771128b",
   "metadata": {},
   "source": [
    "Необходимых данных за компанию Blue мы не имеем."
   ]
  },
  {
   "cell_type": "markdown",
   "id": "731caef6",
   "metadata": {},
   "source": [
    "Сравнивая отношение среднего GMV за человека к показателю AOV, мы можем сделать вывод, что в компании Green человек покупает чаще, чем в Black. В компании Green человек в среднем совершает 5.29 заказов (4126 / 780), когда в компании Black всего 3."
   ]
  },
  {
   "cell_type": "markdown",
   "id": "944c6db1",
   "metadata": {},
   "source": [
    "**Выводы.** \n",
    "1. Аудитория компании Blue **в 2 раза меньше** чем у компании Green и Black.\n",
    "2. Средняя сумма продаж с пользователя в Blue **в 10 раз меньше** чем у компании Green и Black.\n",
    "3. В компании Black объем продаж на человека **больше всего - 6234.**\n",
    "4. В компании Green человек в среднем совершает 5.29 заказов, когда в компании Black всего 3."
   ]
  },
  {
   "cell_type": "markdown",
   "id": "1c261e55",
   "metadata": {},
   "source": [
    "### Возвращаемость клиентов <a id='vozvrat'></a>"
   ]
  },
  {
   "cell_type": "markdown",
   "id": "d313bd3f",
   "metadata": {},
   "source": [
    "Графики выше ограничены слева, потому что подавляющее большинство пользователей в данных не совершило ни одного заказа. Сейчас мы посчитаем какая доля из зарегистрированных пользователей компании совершило заказ, а каких можно назвать активными клиентами."
   ]
  },
  {
   "cell_type": "markdown",
   "id": "26897e78",
   "metadata": {},
   "source": [
    "Мы будем искать метрику **RPR (Repeat Purchase Ratio)**, она показывает какая доля пользователей совершивших заказ совершает повторный заказ."
   ]
  },
  {
   "cell_type": "markdown",
   "id": "a1ce2bf0",
   "metadata": {},
   "source": [
    "Функция ниже:\n",
    "1. Считает зарегистрированных пользователей. \n",
    "2. Находит тех кто совершил указанное количество заказов и больше (параметр threshold).\n",
    "3. Считает метрику RPR."
   ]
  },
  {
   "cell_type": "code",
   "execution_count": 33,
   "id": "4d23319e",
   "metadata": {},
   "outputs": [],
   "source": [
    "def get_conversion(has_company_id, gmv_order_count, threshold):\n",
    "    all_clients = data[data[has_company_id] == 1.]\n",
    "    \n",
    "    best_clients = all_clients[all_clients[gmv_order_count] >= threshold]\n",
    "    \n",
    "    total = all_clients[has_company_id].sum()\n",
    "    useful = best_clients[gmv_order_count].count()\n",
    "    conversion = round(useful / total, 3)\n",
    "    \n",
    "    return conversion"
   ]
  },
  {
   "cell_type": "markdown",
   "id": "8c43e541",
   "metadata": {},
   "source": [
    "Можно увидеть, как много пользователей возвращается после соверешения заказа. Для green и black компаний мы посчитаем эти значения, с помощью последовательного вызова функции выше с увеличением threshold."
   ]
  },
  {
   "cell_type": "code",
   "execution_count": 34,
   "id": "1f5bcf74",
   "metadata": {},
   "outputs": [],
   "source": [
    "green_rpr = [get_conversion('has_green_id', 'green_gmv_order_count', i) for i in range(1, 11)]\n",
    "black_rpr = [get_conversion('has_black_id', 'black_gmv_order_count', i) for i in range(1, 11)]\n",
    "x = range(1, 11)"
   ]
  },
  {
   "cell_type": "markdown",
   "id": "2e7b7598",
   "metadata": {},
   "source": [
    "Время построить графики:"
   ]
  },
  {
   "cell_type": "code",
   "execution_count": 35,
   "id": "81249b8d",
   "metadata": {},
   "outputs": [
    {
     "data": {
      "image/png": "[encoded data removed]",
      "text/plain": [
       "<Figure size 1000x800 with 2 Axes>"
      ]
     },
     "metadata": {},
     "output_type": "display_data"
    }
   ],
   "source": [
    "fig, (ax1, ax2) = plt.subplots(ncols=2, figsize=(10,8))\n",
    "\n",
    "#функция barplot требует на входе датафрейм, и чтобы не создавать много одноразовых переменных, \n",
    "#я решил вызывать датафреймы прямо в функции, хоть это и делает код менее красивым\n",
    "sns.barplot(data = pd.DataFrame({'RPR': green_rpr, 'num_of_orders': x}), \n",
    "            y='RPR', x='num_of_orders', color='#77DD77', ax=ax1)\n",
    "\n",
    "sns.barplot(data=pd.DataFrame({'RPR': black_rpr, 'num_of_orders': x}), \n",
    "            y='RPR', x='num_of_orders', color='#4E4E5A', ax=ax2)\n",
    "\n",
    "ax1.set_title('Green RPR (Repeat Purchase Ratio)')\n",
    "ax2.set_title('Black RPR (Repeat Purchase Ratio)')\n",
    "ax1.grid(linestyle='--', axis='y')\n",
    "ax2.grid(linestyle='--', axis='y')\n",
    "ax1.set_yticks(np.arange(0, 1.1, .1))\n",
    "ax2.set_yticks(np.arange(0, 1.1, .1))\n",
    "\n",
    "plt.tight_layout()\n",
    "plt.show()"
   ]
  },
  {
   "cell_type": "markdown",
   "id": "6c3831bf",
   "metadata": {},
   "source": [
    "Можно заметить что 1 заказ совершило 100% пользователей, так как мы избирали людей зарегистрированных в компании, выходит, что каждый зарегистрированный должен обязательно совершить заказ."
   ]
  },
  {
   "cell_type": "markdown",
   "id": "85d3236d",
   "metadata": {},
   "source": [
    "Это уже не новость, но пользователь в компании Green заказывает гораздо чаще чем в Black, несмотря на то, что в Black оборот за человека больше. В компании Green, половина пользователей сделавших 1 заказ делает и 5-й. В то время как в компании Black до 5-го заказа доходит около четверти."
   ]
  },
  {
   "cell_type": "markdown",
   "id": "da0cf389",
   "metadata": {},
   "source": [
    "### Концентрация GMV и самые активные клиенты <a id='concentracia'></a>"
   ]
  },
  {
   "cell_type": "markdown",
   "id": "96209be0",
   "metadata": {},
   "source": [
    "Концентрация GMV покажет, какую долю всего оборота составляют самые активные клиенты. Самыми активными клиентами, мы назовем тех, кто совершает больше всего заказов и выделяется из скопления."
   ]
  },
  {
   "cell_type": "markdown",
   "id": "c52ec142",
   "metadata": {},
   "source": [
    "Считается, что 20% пользователей составляет 80% активности. Таким образом мы выберем первые 20% людей с самым большим количеством заказов и найдем, какую часть от общего GMV они составляют."
   ]
  },
  {
   "cell_type": "code",
   "execution_count": 68,
   "id": "605e1936",
   "metadata": {},
   "outputs": [],
   "source": [
    "def get_gmv_conc(order_count, gmv_total, threshold, outliers_border):\n",
    "    data_filtered = data.query(f'{order_count} > 0')\n",
    "    data_filtered = data_filtered.query(f'{gmv_total} < {outliers_border}')\n",
    "    num_of_bests = int(len(data_filtered) * threshold)\n",
    "    index_of_best = data_filtered[order_count].sort_values(ascending=False)[:num_of_bests].index\n",
    "    \n",
    "    gmv_conc = data_filtered.loc[index_of_best][gmv_total].sum() / data_filtered[gmv_total].sum()\n",
    "    return round(gmv_conc, 2)"
   ]
  },
  {
   "cell_type": "markdown",
   "id": "22cb0be5",
   "metadata": {},
   "source": [
    "Как и на прошлом шаге, подготовим данные для графиков:"
   ]
  },
  {
   "cell_type": "code",
   "execution_count": 78,
   "id": "62a2b6a6",
   "metadata": {},
   "outputs": [],
   "source": [
    "green_gmv_conc = [get_gmv_conc('green_gmv_order_count', 'green_gmv_total', i, 20000) for i in np.arange(1, 0, -0.1)]\n",
    "black_gmv_conc = [get_gmv_conc('black_gmv_order_count', 'black_gmv_total', i, 30000) for i in np.arange(1, 0, -0.1)]\n",
    "#без функции round на графике выводятся слишком длинные значения с плавающей точкой\n",
    "x = np.round(np.arange(1, 0, -0.1), 1)"
   ]
  },
  {
   "cell_type": "code",
   "execution_count": 100,
   "id": "931b81ea",
   "metadata": {},
   "outputs": [
    {
     "data": {
      "image/png": "[encoded data removed]",
      "text/plain": [
       "<Figure size 1000x800 with 2 Axes>"
      ]
     },
     "metadata": {},
     "output_type": "display_data"
    }
   ],
   "source": [
    "fig, (ax1, ax2) = plt.subplots(ncols=2, figsize=(10,8))\n",
    "\n",
    "#чтобы закрасить одну колонку, необходимо прописать условие в параметре palette. Задумывалось, что если x!=0.2,\n",
    "#то закрашиваем обычным цветов, но matplotlib зачем-то зеркалит ось x, из за чего 0.2 - на самом деле является 0.9\n",
    "#invert_xaxis() не устраняет эту особенность\n",
    "sns.barplot(data = pd.DataFrame({'GMV_conc': green_gmv_conc, 'part_of_best_clients': x}), \n",
    "            y='GMV_conc', x='part_of_best_clients', ax=ax1,\n",
    "            palette=['#77DD77' if x!=0.9 else '#3A9C3A' for x in x])\n",
    "\n",
    "sns.barplot(data=pd.DataFrame({'GMV_conc': black_gmv_conc, 'part_of_best_clients': x}), \n",
    "            y='GMV_conc', x='part_of_best_clients', ax=ax2,\n",
    "            palette=['#4E4E5A' if x!=0.9 else '#101014' for x in x])\n",
    "\n",
    "ax1.set_title('Green GMV Concentrations')\n",
    "ax2.set_title('Black GMV Concentrations')\n",
    "ax1.grid(linestyle='--', axis='y')\n",
    "ax2.grid(linestyle='--', axis='y')\n",
    "ax1.set_yticks(np.arange(0, 1.1, .1))\n",
    "ax2.set_yticks(np.arange(0, 1.1, .1))\n",
    "ax1.invert_xaxis()\n",
    "ax2.invert_xaxis()\n",
    "\n",
    "\n",
    "plt.tight_layout()\n",
    "plt.show()"
   ]
  },
  {
   "cell_type": "markdown",
   "id": "7dbc3b63",
   "metadata": {},
   "source": [
    "Как мы видим в обеих компаниях, 20% самых активных людей содержат в себе целую половину от всего оборота. А 10% - содержит целую треть."
   ]
  },
  {
   "cell_type": "markdown",
   "id": "9b716d54",
   "metadata": {},
   "source": [
    "### Распространенность среди платформ <a id='rasprostr'></a>"
   ]
  },
  {
   "cell_type": "markdown",
   "id": "efd0d12f",
   "metadata": {},
   "source": [
    "Первым делом мы рассчитаем долю пользователей по каждой компании, которые пользуются той или иной платформой. Мы ожидаем увидеть какое-то различие в предпочтениях."
   ]
  },
  {
   "cell_type": "code",
   "execution_count": 143,
   "id": "4d8ee26a",
   "metadata": {},
   "outputs": [],
   "source": [
    "def preferences_in_platforms(company):\n",
    "    users = data[data[f'has_{company}_id'] == 1]\n",
    "    androids = users[users[f'{company}_android'] == 1]\n",
    "    apples = users[users[f'{company}_apple'] == 1]\n",
    "    webbed = users[users[f'{company}_web'] == 1]\n",
    "    \n",
    "    print(company.upper())\n",
    "    print('Пользователей на Android -', round(len(androids) / len(users) * 100, 2), '%')\n",
    "    print('Пользователей на Apple -', round(len(apples) / len(users) * 100, 2), '%')\n",
    "    print('Пользователей на ПК -', round(len(webbed) / len(users) * 100, 2), '%')"
   ]
  },
  {
   "cell_type": "code",
   "execution_count": 145,
   "id": "95d326af",
   "metadata": {},
   "outputs": [
    {
     "name": "stdout",
     "output_type": "stream",
     "text": [
      "RED\n",
      "Пользователей на Android - 44.82 %\n",
      "Пользователей на Apple - 16.25 %\n",
      "Пользователей на ПК - 81.49 %\n",
      "\n",
      "BLUE\n",
      "Пользователей на Android - 22.49 %\n",
      "Пользователей на Apple - 13.13 %\n",
      "Пользователей на ПК - 22.01 %\n",
      "\n",
      "GREEN\n",
      "Пользователей на Android - 20.48 %\n",
      "Пользователей на Apple - 25.86 %\n",
      "Пользователей на ПК - 2.97 %\n",
      "\n",
      "BLACK\n",
      "Пользователей на Android - 21.5 %\n",
      "Пользователей на Apple - 30.52 %\n",
      "Пользователей на ПК - 16.06 %\n",
      "\n"
     ]
    }
   ],
   "source": [
    "for company in ['red', 'blue', 'green', 'black']:\n",
    "    preferences_in_platforms(company)\n",
    "    print()"
   ]
  },
  {
   "cell_type": "markdown",
   "id": "8c1510e9",
   "metadata": {},
   "source": [
    "Результаты вышли такими, по которым, к сожалению нельзя построить красивый график. Можно обратить внимание, что в компаниях Blue, Green и Black сумма процентов меньше 100. Выходит, существуют пользователи этих компаний, которые пользуются неизвестными нам платформами?"
   ]
  },
  {
   "cell_type": "code",
   "execution_count": 158,
   "id": "f61b711f",
   "metadata": {},
   "outputs": [],
   "source": [
    "def invisible_users(company):\n",
    "    all_users = data[data[f'has_{company}_id'] == 1]\n",
    "    invisible_users = all_users[(all_users[f'{company}_android'] == 0) & \n",
    "                                (all_users[f'{company}_apple'] == 0) & \n",
    "                                (all_users[f'{company}_web'] == 0)]\n",
    "    print(f'Процент пользователей с неизвестными платформами в {company} -', \n",
    "          round(len(invisible_users) / len(all_users) * 100, 2), '%')"
   ]
  },
  {
   "cell_type": "code",
   "execution_count": 159,
   "id": "54727d0f",
   "metadata": {},
   "outputs": [
    {
     "name": "stdout",
     "output_type": "stream",
     "text": [
      "Процент пользователей с неизвестными платформами в red - 6.67 %\n",
      "\n",
      "Процент пользователей с неизвестными платформами в blue - 50.45 %\n",
      "\n",
      "Процент пользователей с неизвестными платформами в green - 53.78 %\n",
      "\n",
      "Процент пользователей с неизвестными платформами в black - 42.72 %\n",
      "\n"
     ]
    }
   ],
   "source": [
    "for company in ['red', 'blue', 'green', 'black']:\n",
    "    invisible_users(company)\n",
    "    print()"
   ]
  },
  {
   "cell_type": "markdown",
   "id": "dc17e247",
   "metadata": {},
   "source": [
    "**Выводы**\n",
    "1. Пользователи компании Red больше всего предпочитают ПК, но также часто пользуются Android\n",
    "2. Пользователи компании Green не используют ПК\n",
    "3. Пользователи Blue и Black примерно одинаково пользуются всеми платформами\n",
    "4. Почти половина пользователей компаний Blue, Green и Black не пользуются ни одной из трех платформ"
   ]
  },
  {
   "cell_type": "markdown",
   "id": "55ace310",
   "metadata": {},
   "source": [
    "### Проверка гипотезы <a id='proverka'></a>"
   ]
  },
  {
   "cell_type": "markdown",
   "id": "f45b1b7f",
   "metadata": {},
   "source": [
    "Гипотеза звучит так: \"Отличается ли GMV с пользователя из Москвы от пользователя из другого региона?\""
   ]
  },
  {
   "cell_type": "markdown",
   "id": "6a1d86e9",
   "metadata": {},
   "source": [
    "Гипотезу мы проверим по пользователям по каждой из компаний Т-тестом. Если значение p будет меньше определенного порога, то отвергать гипотезу мы не будем."
   ]
  },
  {
   "cell_type": "code",
   "execution_count": 113,
   "id": "d41db78e",
   "metadata": {},
   "outputs": [],
   "source": [
    "def get_samples(has_company_id, company_gmv_total):\n",
    "    sample1 = data[(data[has_company_id]==1) & (data['is_msk']==1)][company_gmv_total]\n",
    "    sample2 = data[(data[has_company_id]==1) & (data['is_msk']==0)][company_gmv_total]\n",
    "    \n",
    "    return sample1, sample2"
   ]
  },
  {
   "cell_type": "code",
   "execution_count": 126,
   "id": "d0ae9958",
   "metadata": {},
   "outputs": [],
   "source": [
    "def take_ttest(sample1, sample2, alpha, equal_var):\n",
    "    sample_1 = sample1\n",
    "    sample_2 = sample2\n",
    "    alpha = alpha\n",
    "\n",
    "    results = stats.ttest_ind(sample_1, sample_2, equal_var=equal_var)\n",
    "\n",
    "    print('р-значение -', results.pvalue)\n",
    "\n",
    "    if results.pvalue < alpha:\n",
    "        print('Отвергаем нулевую гипотезу')\n",
    "        print('Есть основания полагать, что выборки отличаются')\n",
    "    else:\n",
    "        print('Не получилось отвергнуть нулевую гипотезу')\n",
    "        print('Скорее всего выборки не отличаются')"
   ]
  },
  {
   "cell_type": "markdown",
   "id": "6483c2ee",
   "metadata": {},
   "source": [
    "#### Компания Blue"
   ]
  },
  {
   "cell_type": "code",
   "execution_count": 133,
   "id": "0210e84b",
   "metadata": {},
   "outputs": [
    {
     "name": "stdout",
     "output_type": "stream",
     "text": [
      "Дисперсия первой выборки - 88938.90869454248\n",
      "Общая статистика:\n",
      " count    2031.000000\n",
      "mean       28.635155\n",
      "std       298.226271\n",
      "min         0.000000\n",
      "25%         0.000000\n",
      "50%         0.000000\n",
      "75%         0.000000\n",
      "max      7286.000000\n",
      "Name: blue_gmv_total, dtype: float64 \n",
      "\n",
      "Дисперсия второй выборки - 131415.86695686882\n",
      "Общая статистика:\n",
      " count    10715.000000\n",
      "mean        16.383201\n",
      "std        362.513265\n",
      "min          0.000000\n",
      "25%          0.000000\n",
      "50%          0.000000\n",
      "75%          0.000000\n",
      "max      32302.000000\n",
      "Name: blue_gmv_total, dtype: float64 \n",
      "\n"
     ]
    }
   ],
   "source": [
    "sample1, sample2 = get_samples('has_blue_id', 'blue_gmv_total')\n",
    "\n",
    "print('Дисперсия первой выборки -', np.var(sample1, ddof=1))\n",
    "print('Общая статистика:\\n', sample1.describe(), '\\n')\n",
    "\n",
    "print('Дисперсия второй выборки -', np.var(sample2, ddof=1))\n",
    "print('Общая статистика:\\n', sample2.describe(), '\\n')"
   ]
  },
  {
   "cell_type": "markdown",
   "id": "1acb4401",
   "metadata": {},
   "source": [
    "Очень много значений равно 0. Как мы помним, в компаниях Green и Black, зарегистрированный пользовать - это пользователь совершивший заказ. А здесь иначе."
   ]
  },
  {
   "cell_type": "markdown",
   "id": "e24371f2",
   "metadata": {},
   "source": [
    "Так же мы видим большое отличие в размерах выборок и дисперсиях. Параметр `equal_var=False` <br>\n",
    "Обозначим значимость в *0.05*"
   ]
  },
  {
   "cell_type": "code",
   "execution_count": 134,
   "id": "727b2c32",
   "metadata": {},
   "outputs": [
    {
     "name": "stdout",
     "output_type": "stream",
     "text": [
      "р-значение - 0.1018461492874892\n",
      "Не получилось отвергнуть нулевую гипотезу\n",
      "Скорее всего выборки не отличаются\n"
     ]
    }
   ],
   "source": [
    "take_ttest(sample1, sample2, 0.05, False)"
   ]
  },
  {
   "cell_type": "markdown",
   "id": "90144e1f",
   "metadata": {},
   "source": [
    "#### Компания Green"
   ]
  },
  {
   "cell_type": "code",
   "execution_count": 135,
   "id": "68c12369",
   "metadata": {},
   "outputs": [
    {
     "name": "stdout",
     "output_type": "stream",
     "text": [
      "Дисперсия первой выборки - 137351497.91600645\n",
      "Общая статистика:\n",
      " count      669.000000\n",
      "mean      7164.134529\n",
      "std      11719.705539\n",
      "min        400.000000\n",
      "25%       1324.000000\n",
      "50%       3030.000000\n",
      "75%       7154.000000\n",
      "max      94106.000000\n",
      "Name: green_gmv_total, dtype: float64 \n",
      "\n",
      "Дисперсия второй выборки - 92189449.88330945\n",
      "Общая статистика:\n",
      " count      205.000000\n",
      "mean      5576.195122\n",
      "std       9601.533726\n",
      "min        362.000000\n",
      "25%       1000.000000\n",
      "50%       2400.000000\n",
      "75%       5912.000000\n",
      "max      94078.000000\n",
      "Name: green_gmv_total, dtype: float64 \n",
      "\n"
     ]
    }
   ],
   "source": [
    "sample1, sample2 = get_samples('has_green_id', 'green_gmv_total')\n",
    "\n",
    "print('Дисперсия первой выборки -', np.var(sample1, ddof=1))\n",
    "print('Общая статистика:\\n', sample1.describe(), '\\n')\n",
    "\n",
    "print('Дисперсия второй выборки -', np.var(sample2, ddof=1))\n",
    "print('Общая статистика:\\n', sample2.describe(), '\\n')"
   ]
  },
  {
   "cell_type": "markdown",
   "id": "60c1f0d2",
   "metadata": {},
   "source": [
    "Мы видим большое отличие в размерах выборок и дисперсиях. Параметр `equal_var=False` <br>\n",
    "Обозначим значимость в *0.05*"
   ]
  },
  {
   "cell_type": "code",
   "execution_count": 136,
   "id": "05e0b7cb",
   "metadata": {},
   "outputs": [
    {
     "name": "stdout",
     "output_type": "stream",
     "text": [
      "р-значение - 0.05043853028239727\n",
      "Не получилось отвергнуть нулевую гипотезу\n",
      "Скорее всего выборки не отличаются\n"
     ]
    }
   ],
   "source": [
    "take_ttest(sample1, sample2, 0.05, False)"
   ]
  },
  {
   "cell_type": "markdown",
   "id": "47fd0096",
   "metadata": {},
   "source": [
    "Спорный результат, p-значение едва-ли переходит границу, однако мы решили, что в этом случае мы будем отвергать гипотезу."
   ]
  },
  {
   "cell_type": "markdown",
   "id": "7d57630a",
   "metadata": {},
   "source": [
    "#### Компания Black"
   ]
  },
  {
   "cell_type": "code",
   "execution_count": 138,
   "id": "7d667dc3",
   "metadata": {},
   "outputs": [
    {
     "name": "stdout",
     "output_type": "stream",
     "text": [
      "Дисперсия первой выборки - 218751217.08593056\n",
      "Общая статистика:\n",
      " count       385.000000\n",
      "mean      11560.711688\n",
      "std       14790.240603\n",
      "min         610.000000\n",
      "25%        2600.000000\n",
      "50%        5880.000000\n",
      "75%       13750.000000\n",
      "max      111754.000000\n",
      "Name: black_gmv_total, dtype: float64 \n",
      "\n",
      "Дисперсия второй выборки - 171439977.7113055\n",
      "Общая статистика:\n",
      " count       680.000000\n",
      "mean       7211.505882\n",
      "std       13093.508992\n",
      "min         440.000000\n",
      "25%        1812.000000\n",
      "50%        3360.000000\n",
      "75%        7197.000000\n",
      "max      188252.000000\n",
      "Name: black_gmv_total, dtype: float64 \n",
      "\n"
     ]
    }
   ],
   "source": [
    "sample1, sample2 = get_samples('has_black_id', 'black_gmv_total')\n",
    "\n",
    "print('Дисперсия первой выборки -', np.var(sample1, ddof=1))\n",
    "print('Общая статистика:\\n', sample1.describe(), '\\n')\n",
    "\n",
    "print('Дисперсия второй выборки -', np.var(sample2, ddof=1))\n",
    "print('Общая статистика:\\n', sample2.describe(), '\\n')"
   ]
  },
  {
   "cell_type": "markdown",
   "id": "9d022826",
   "metadata": {},
   "source": [
    "Параметр `equal_var=False` <br>\n",
    "Обозначим значимость в *0.05*"
   ]
  },
  {
   "cell_type": "code",
   "execution_count": 132,
   "id": "2719befa",
   "metadata": {},
   "outputs": [
    {
     "name": "stdout",
     "output_type": "stream",
     "text": [
      "р-значение - 1.911391055225935e-06\n",
      "Отвергаем нулевую гипотезу\n",
      "Есть основания полагать, что выборки отличаются\n"
     ]
    }
   ],
   "source": [
    "take_ttest(sample1, sample2, 0.05, False)"
   ]
  },
  {
   "cell_type": "markdown",
   "id": "97373664",
   "metadata": {},
   "source": [
    "p-значение в 10000 раз меньше 1%, скорее всего оборот с жителя Москвы будет отличаться от жителя другого региона."
   ]
  },
  {
   "cell_type": "markdown",
   "id": "3460a48b",
   "metadata": {},
   "source": [
    "## Итоговые выводы <a id='itog'></a>"
   ]
  },
  {
   "cell_type": "markdown",
   "id": "cbfd428d",
   "metadata": {},
   "source": [
    "Мы обработали данные о пользователях в различных компаниях. Обработали наименования столбцов, их типы, обработали ошибки в данных. Выяснилось, что данных о компании Red совсем не хватает для анализа, так же присутствует не много информации о компании Blue."
   ]
  },
  {
   "cell_type": "markdown",
   "id": "393f643a",
   "metadata": {},
   "source": [
    "#### Суммы продаж"
   ]
  },
  {
   "cell_type": "markdown",
   "id": "9719fe3b",
   "metadata": {},
   "source": [
    "Была проведена исследовательская работа по **обороту продаж** среди пользователей в компаниях Blue, Green, Black. Мы выяснили:\n",
    "* Оборот продаж на одного человека в компании Blue более чем в 10 раз меньше чем в остальных рассматриваемых компаниях - 274\n",
    "* Самый большой GMV на человека имеет компания Black - 6234, компания Green отстает но не намного - 4126\n",
    "* В каждой из трех компаний присутствует 1 пользователь с колоссальным значением оборота, возможно это выброс или ошибка\n",
    "* Аудитория компании Blue в 2 раза меньше чем в Green и Black"
   ]
  },
  {
   "cell_type": "markdown",
   "id": "299274d3",
   "metadata": {},
   "source": [
    "Для компаний Green и Black мы смогли рассчитать **AOV**, показывающий среднюю цену за один заказ:\n",
    "* Green AOV = 780.13\n",
    "* Black AOV = 2079.02\n",
    "\n",
    "Это в свою очередь говорит о том, что в компании Green человек покупает чаще, чем в Black. В компании Green человек в среднем совершает 5.29 заказов, когда в компании Black всего 3."
   ]
  },
  {
   "cell_type": "markdown",
   "id": "75112201",
   "metadata": {},
   "source": [
    "#### Возвращаемость клиентов"
   ]
  },
  {
   "cell_type": "markdown",
   "id": "b4a4cb2d",
   "metadata": {},
   "source": [
    "Далее мы рассматривали возвращаемость клиентов через оценку метрики **RPR**, мы вывели графики и выяснили какая доля пользователей делает определенную по счету покупку после первой покупки. Другими словами:\n",
    "- В компании Green, ~73% пользователей, совершивших первую покупку, совершают и вторую. Так же ~50% этих же пользователей совершают и 4 покупку, а ~23% доходят и до 10 покупки.\n",
    "- В компании Black результаты несколько хуже, ~58% - вторая покупка, ~31% - 4 покупка, 10% - 10 покупка"
   ]
  },
  {
   "cell_type": "markdown",
   "id": "7e91e2ce",
   "metadata": {},
   "source": [
    "Так же чуть позже, на этапе проверки гипотез, было выяснено, что каждый зарегистрированный пользователь в компании Green и Black обязательно совершил хотя бы 1 покупку. В компании Blue можно зарегистрироваться не совершая ее."
   ]
  },
  {
   "cell_type": "markdown",
   "id": "24409803",
   "metadata": {},
   "source": [
    "Еще раз убедились, что несмотря на то, что в Black самый большой GMV на клиентов, в Green покупают гораздо больше."
   ]
  },
  {
   "cell_type": "markdown",
   "id": "4b67d14f",
   "metadata": {},
   "source": [
    "#### Концентрация GMV и самые активные клиенты"
   ]
  },
  {
   "cell_type": "markdown",
   "id": "1b5887cb",
   "metadata": {},
   "source": [
    "Считается, что 20% пользователей составляет 80% активности. Для компаний Green и Black, мы отобрали 20% их самых активных пользователей, построили графики и выяснили, что в обеих компаниях, половина оборота продаж (GMV) держится на 20% самых активных пользователях. Графики по обеим компаниям почти идентичны."
   ]
  },
  {
   "cell_type": "markdown",
   "id": "2aff5e01",
   "metadata": {},
   "source": [
    "#### Распространенность среди платформ"
   ]
  },
  {
   "cell_type": "markdown",
   "id": "8096ed7c",
   "metadata": {},
   "source": [
    "Мы рассмотрели предпочтения пользователей различных компаний в отношении использования платформ android, apple и ПК. И пришли в следующим результатам:\n",
    "1. Пользователи компании Red больше всего предпочитают ПК, но также часто пользуются Android\n",
    "2. Пользователи компании Green не используют ПК\n",
    "3. Пользователи Blue и Black примерно одинаково пользуются всеми платформами\n",
    "4. Почти половина пользователей компаний Blue, Green и Black не пользуются ни одной из трех платформ"
   ]
  },
  {
   "cell_type": "markdown",
   "id": "de25171f",
   "metadata": {},
   "source": [
    "#### Проверка гипотезы"
   ]
  },
  {
   "cell_type": "markdown",
   "id": "94987685",
   "metadata": {},
   "source": [
    "Пользователи изначально поделены на тех кто проживает на территории Москвы и на всех остальных. Это значит, что можно проверить, различиается ли оборот продаж с этих двух групп пользователей? \n",
    "\n",
    "Для каждой из трех компаний (Blue, Green, Black) мы проверили эту гипотезу и выяснили следующиее:\n",
    "1. В компании Blue, разницы между GMV пользователей Москвы и остальных регионов скорее всего нет.\n",
    "2. В компании Green, разницы между GMV пользователей Москвы и остальных регионов скорее всего нет. Но стоит упомянуть, что значение p не перешло статистическую значимость всего лишь на 4 сотых доли.\n",
    "3. В компании Black скорее всего существует разница между пользователями."
   ]
  },
  {
   "cell_type": "markdown",
   "id": "1aa3beef",
   "metadata": {},
   "source": [
    "# Спасибо VK за проект :)"
   ]
  }
 ],
 "metadata": {
  "kernelspec": {
   "display_name": "Python 3 (ipykernel)",
   "language": "python",
   "name": "python3"
  },
  "language_info": {
   "codemirror_mode": {
    "name": "ipython",
    "version": 3
   },
   "file_extension": ".py",
   "mimetype": "text/x-python",
   "name": "python",
   "nbconvert_exporter": "python",
   "pygments_lexer": "ipython3",
   "version": "3.9.13"
  }
 },
 "nbformat": 4,
 "nbformat_minor": 5
}
