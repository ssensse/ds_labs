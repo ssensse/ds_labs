{
 "cells": [
  {
   "cell_type": "markdown",
   "id": "a62b755e",
   "metadata": {},
   "source": [
    "# Аналитик данных. Тестовое задание."
   ]
  },
  {
   "cell_type": "markdown",
   "id": "9a0f7b63",
   "metadata": {},
   "source": [
    "## Общая информация"
   ]
  },
  {
   "cell_type": "code",
   "execution_count": 1,
   "id": "89362c5f",
   "metadata": {},
   "outputs": [],
   "source": [
    "import pandas as pd\n",
    "import seaborn as sns\n",
    "import matplotlib.pyplot as plt"
   ]
  },
  {
   "cell_type": "code",
   "execution_count": 2,
   "id": "154637d6",
   "metadata": {},
   "outputs": [
    {
     "data": {
      "text/html": [
       "<div>\n",
       "<style scoped>\n",
       "    .dataframe tbody tr th:only-of-type {\n",
       "        vertical-align: middle;\n",
       "    }\n",
       "\n",
       "    .dataframe tbody tr th {\n",
       "        vertical-align: top;\n",
       "    }\n",
       "\n",
       "    .dataframe thead th {\n",
       "        text-align: right;\n",
       "    }\n",
       "</style>\n",
       "<table border=\"1\" class=\"dataframe\">\n",
       "  <thead>\n",
       "    <tr style=\"text-align: right;\">\n",
       "      <th></th>\n",
       "      <th>Unnamed: 0</th>\n",
       "      <th>HID</th>\n",
       "      <th>active_Red</th>\n",
       "      <th>has_Green_id</th>\n",
       "      <th>has_Black_id</th>\n",
       "      <th>has_Blue_id</th>\n",
       "      <th>Blue_activity_count</th>\n",
       "      <th>Blue_gmv_total</th>\n",
       "      <th>Green_gvm_total</th>\n",
       "      <th>Green_gvm_order_count</th>\n",
       "      <th>...</th>\n",
       "      <th>Blue_android</th>\n",
       "      <th>Red_apple</th>\n",
       "      <th>Green_apple</th>\n",
       "      <th>Black_apple</th>\n",
       "      <th>Blue_apple</th>\n",
       "      <th>is_msk</th>\n",
       "      <th>Red_web</th>\n",
       "      <th>Green_web</th>\n",
       "      <th>Black_web</th>\n",
       "      <th>Blue_web</th>\n",
       "    </tr>\n",
       "  </thead>\n",
       "  <tbody>\n",
       "    <tr>\n",
       "      <th>0</th>\n",
       "      <td>0</td>\n",
       "      <td>00003c7fb5e57ce673f1801f3679f5c25</td>\n",
       "      <td>0.0</td>\n",
       "      <td>0.0</td>\n",
       "      <td>0.0</td>\n",
       "      <td>1.0</td>\n",
       "      <td>2.0</td>\n",
       "      <td>0.0</td>\n",
       "      <td>0.0</td>\n",
       "      <td>0.0</td>\n",
       "      <td>...</td>\n",
       "      <td>0.0</td>\n",
       "      <td>0.0</td>\n",
       "      <td>0.0</td>\n",
       "      <td>0.0</td>\n",
       "      <td>0.0</td>\n",
       "      <td>0.0</td>\n",
       "      <td>0.0</td>\n",
       "      <td>0.0</td>\n",
       "      <td>0.0</td>\n",
       "      <td>0.0</td>\n",
       "    </tr>\n",
       "    <tr>\n",
       "      <th>1</th>\n",
       "      <td>1</td>\n",
       "      <td>00006b602533083e3bebfcbff08613931</td>\n",
       "      <td>1.0</td>\n",
       "      <td>0.0</td>\n",
       "      <td>0.0</td>\n",
       "      <td>0.0</td>\n",
       "      <td>0.0</td>\n",
       "      <td>0.0</td>\n",
       "      <td>0.0</td>\n",
       "      <td>0.0</td>\n",
       "      <td>...</td>\n",
       "      <td>0.0</td>\n",
       "      <td>0.0</td>\n",
       "      <td>0.0</td>\n",
       "      <td>0.0</td>\n",
       "      <td>0.0</td>\n",
       "      <td>0.0</td>\n",
       "      <td>1.0</td>\n",
       "      <td>0.0</td>\n",
       "      <td>0.0</td>\n",
       "      <td>0.0</td>\n",
       "    </tr>\n",
       "    <tr>\n",
       "      <th>2</th>\n",
       "      <td>2</td>\n",
       "      <td>0000736c3f76339196cb1cc759b8363b</td>\n",
       "      <td>1.0</td>\n",
       "      <td>0.0</td>\n",
       "      <td>0.0</td>\n",
       "      <td>0.0</td>\n",
       "      <td>0.0</td>\n",
       "      <td>0.0</td>\n",
       "      <td>0.0</td>\n",
       "      <td>0.0</td>\n",
       "      <td>...</td>\n",
       "      <td>0.0</td>\n",
       "      <td>1.0</td>\n",
       "      <td>0.0</td>\n",
       "      <td>1.0</td>\n",
       "      <td>0.0</td>\n",
       "      <td>0.0</td>\n",
       "      <td>0.0</td>\n",
       "      <td>0.0</td>\n",
       "      <td>0.0</td>\n",
       "      <td>0.0</td>\n",
       "    </tr>\n",
       "    <tr>\n",
       "      <th>3</th>\n",
       "      <td>3</td>\n",
       "      <td>00009bdcc5307b38efde8690b8bd658e</td>\n",
       "      <td>0.0</td>\n",
       "      <td>0.0</td>\n",
       "      <td>0.0</td>\n",
       "      <td>0.0</td>\n",
       "      <td>0.0</td>\n",
       "      <td>0.0</td>\n",
       "      <td>0.0</td>\n",
       "      <td>0.0</td>\n",
       "      <td>...</td>\n",
       "      <td>0.0</td>\n",
       "      <td>0.0</td>\n",
       "      <td>0.0</td>\n",
       "      <td>0.0</td>\n",
       "      <td>0.0</td>\n",
       "      <td>0.0</td>\n",
       "      <td>1.0</td>\n",
       "      <td>0.0</td>\n",
       "      <td>0.0</td>\n",
       "      <td>0.0</td>\n",
       "    </tr>\n",
       "    <tr>\n",
       "      <th>4</th>\n",
       "      <td>4</td>\n",
       "      <td>0000bc3186b7b31d9b35d3fbbb250b9f8</td>\n",
       "      <td>1.0</td>\n",
       "      <td>0.0</td>\n",
       "      <td>0.0</td>\n",
       "      <td>0.0</td>\n",
       "      <td>0.0</td>\n",
       "      <td>0.0</td>\n",
       "      <td>0.0</td>\n",
       "      <td>0.0</td>\n",
       "      <td>...</td>\n",
       "      <td>0.0</td>\n",
       "      <td>1.0</td>\n",
       "      <td>0.0</td>\n",
       "      <td>0.0</td>\n",
       "      <td>0.0</td>\n",
       "      <td>0.0</td>\n",
       "      <td>0.0</td>\n",
       "      <td>0.0</td>\n",
       "      <td>0.0</td>\n",
       "      <td>0.0</td>\n",
       "    </tr>\n",
       "  </tbody>\n",
       "</table>\n",
       "<p>5 rows × 25 columns</p>\n",
       "</div>"
      ],
      "text/plain": [
       "   Unnamed: 0                                HID  active_Red  has_Green_id  \\\n",
       "0           0  00003c7fb5e57ce673f1801f3679f5c25         0.0           0.0   \n",
       "1           1  00006b602533083e3bebfcbff08613931         1.0           0.0   \n",
       "2           2   0000736c3f76339196cb1cc759b8363b         1.0           0.0   \n",
       "3           3   00009bdcc5307b38efde8690b8bd658e         0.0           0.0   \n",
       "4           4  0000bc3186b7b31d9b35d3fbbb250b9f8         1.0           0.0   \n",
       "\n",
       "   has_Black_id  has_Blue_id Blue_activity_count  Blue_gmv_total  \\\n",
       "0           0.0          1.0                 2.0             0.0   \n",
       "1           0.0          0.0                 0.0             0.0   \n",
       "2           0.0          0.0                 0.0             0.0   \n",
       "3           0.0          0.0                 0.0             0.0   \n",
       "4           0.0          0.0                 0.0             0.0   \n",
       "\n",
       "   Green_gvm_total Green_gvm_order_count  ...  Blue_android Red_apple  \\\n",
       "0              0.0                   0.0  ...           0.0       0.0   \n",
       "1              0.0                   0.0  ...           0.0       0.0   \n",
       "2              0.0                   0.0  ...           0.0       1.0   \n",
       "3              0.0                   0.0  ...           0.0       0.0   \n",
       "4              0.0                   0.0  ...           0.0       1.0   \n",
       "\n",
       "   Green_apple  Black_apple  Blue_apple  is_msk  Red_web  Green_web  \\\n",
       "0          0.0          0.0         0.0     0.0      0.0        0.0   \n",
       "1          0.0          0.0         0.0     0.0      1.0        0.0   \n",
       "2          0.0          1.0         0.0     0.0      0.0        0.0   \n",
       "3          0.0          0.0         0.0     0.0      1.0        0.0   \n",
       "4          0.0          0.0         0.0     0.0      0.0        0.0   \n",
       "\n",
       "   Black_web  Blue_web  \n",
       "0        0.0       0.0  \n",
       "1        0.0       0.0  \n",
       "2        0.0       0.0  \n",
       "3        0.0       0.0  \n",
       "4        0.0       0.0  \n",
       "\n",
       "[5 rows x 25 columns]"
      ]
     },
     "execution_count": 2,
     "metadata": {},
     "output_type": "execute_result"
    }
   ],
   "source": [
    "data = pd.read_excel('C:/Users/79283/Desktop/Analytic_test.xlsx', header=1)\n",
    "data.head()"
   ]
  },
  {
   "cell_type": "markdown",
   "id": "059386c4",
   "metadata": {},
   "source": [
    "В файле содержатся данные, в упорядоченном формате, о 4 компаниях: Red, Green, Blue, Black.<br>\n",
    "По компаниям представлены следующие данные:\n",
    "* HID - human_id, зашифрованный персональный идентификатор пользователя компаний\n",
    "* has_company_id - наличие зарегистрированного аккаунта в компании\n",
    "* company_gmv_total - суммарный gmv пользователя в сервисе\n",
    "* company_gmv_order_count - количество успешных заказов пользователя в сервисе\n",
    "* company_activity_count - количество активных действий пользователя в сервисе\n",
    "* company_android - установленное у пользователя приложение компании на платформе android\n",
    "* company_apple - установленное у пользователя приложение компании на платформе apple\n",
    "* company_web - установленное у пользователя приложение компании на ПК\n",
    "* is_msk - территориальное расположение в Москве"
   ]
  },
  {
   "cell_type": "code",
   "execution_count": 3,
   "id": "ca515bc8",
   "metadata": {},
   "outputs": [
    {
     "name": "stdout",
     "output_type": "stream",
     "text": [
      "<class 'pandas.core.frame.DataFrame'>\n",
      "RangeIndex: 100000 entries, 0 to 99999\n",
      "Data columns (total 25 columns):\n",
      " #   Column                 Non-Null Count   Dtype  \n",
      "---  ------                 --------------   -----  \n",
      " 0   Unnamed: 0             100000 non-null  int64  \n",
      " 1   HID                    100000 non-null  object \n",
      " 2   active_Red             100000 non-null  float64\n",
      " 3   has_Green_id           100000 non-null  float64\n",
      " 4   has_Black_id           100000 non-null  float64\n",
      " 5   has_Blue_id            100000 non-null  float64\n",
      " 6   Blue_activity_count    100000 non-null  object \n",
      " 7   Blue_gmv_total         99999 non-null   float64\n",
      " 8   Green_gvm_total        100000 non-null  float64\n",
      " 9   Green_gvm_order_count  100000 non-null  object \n",
      " 10  Black_gvm_total        100000 non-null  float64\n",
      " 11  Black_gvm_order_count  100000 non-null  object \n",
      " 12  Red_android            100000 non-null  float64\n",
      " 13  Green_android          100000 non-null  float64\n",
      " 14  Black_android          100000 non-null  float64\n",
      " 15  Blue_android           100000 non-null  float64\n",
      " 16  Red_apple              100000 non-null  float64\n",
      " 17  Green_apple            100000 non-null  float64\n",
      " 18  Black_apple            100000 non-null  float64\n",
      " 19  Blue_apple             100000 non-null  float64\n",
      " 20  is_msk                 100000 non-null  float64\n",
      " 21  Red_web                100000 non-null  float64\n",
      " 22  Green_web              100000 non-null  float64\n",
      " 23  Black_web              100000 non-null  float64\n",
      " 24  Blue_web               100000 non-null  float64\n",
      "dtypes: float64(20), int64(1), object(4)\n",
      "memory usage: 19.1+ MB\n"
     ]
    }
   ],
   "source": [
    "data.info()"
   ]
  },
  {
   "cell_type": "markdown",
   "id": "ae9f57eb",
   "metadata": {},
   "source": [
    "В данных присутствуют не все данные, отсутствуют следующие столбцы:\n",
    "* has_red_id\n",
    "* red_gmv_total\n",
    "* red_gmv_order_count\n",
    "* blue_gmv_order_count\n",
    "* red_activity_count\n",
    "* green_activity_count\n",
    "* black_activity_count\n",
    "\n",
    "В идеале должно было быть 30 столбцов. Более того у нас есть неизвестный столбец *active_red*. Предстоит разобраться, что он означает."
   ]
  },
  {
   "cell_type": "markdown",
   "id": "1302cff4",
   "metadata": {},
   "source": [
    "**Задача.** Провести анализ и сформулировать выводы на основании данных."
   ]
  },
  {
   "cell_type": "markdown",
   "id": "c1ade09c",
   "metadata": {},
   "source": [
    "## Предобработка данных"
   ]
  },
  {
   "cell_type": "markdown",
   "id": "133932ef",
   "metadata": {},
   "source": [
    "### Наименования столбцов"
   ]
  },
  {
   "cell_type": "markdown",
   "id": "559552ca",
   "metadata": {},
   "source": [
    "На основании данных, мы предполагаем, что перед нами данные о пользователях и их отношении к разным компаниям, сервисами которых они пользуются. "
   ]
  },
  {
   "cell_type": "markdown",
   "id": "248a894a",
   "metadata": {},
   "source": [
    "В таблице есть ошибки в названиях столбцов, поэтому мы их подправим:"
   ]
  },
  {
   "cell_type": "code",
   "execution_count": 4,
   "id": "dd878b6f",
   "metadata": {},
   "outputs": [
    {
     "data": {
      "text/plain": [
       "Index(['Unnamed: 0', 'HID', 'active_Red', 'has_Green_id', 'has_Black_id',\n",
       "       'has_Blue_id', 'Blue_activity_count', 'Blue_gmv_total',\n",
       "       'Green_gvm_total', 'Green_gvm_order_count', 'Black_gvm_total',\n",
       "       'Black_gvm_order_count', 'Red_android', 'Green_android',\n",
       "       'Black_android', 'Blue_android', 'Red_apple', 'Green_apple',\n",
       "       'Black_apple', 'Blue_apple', 'is_msk', 'Red_web', 'Green_web',\n",
       "       'Black_web', 'Blue_web'],\n",
       "      dtype='object')"
      ]
     },
     "execution_count": 4,
     "metadata": {},
     "output_type": "execute_result"
    }
   ],
   "source": [
    "data.columns"
   ]
  },
  {
   "cell_type": "code",
   "execution_count": 5,
   "id": "5387ca43",
   "metadata": {},
   "outputs": [],
   "source": [
    "data.columns = ['Unnamed: 0', 'hid', 'active_red', 'has_green_id', 'has_black_id',\n",
    "       'has_blue_id', 'blue_activity_count', 'blue_gmv_total',\n",
    "       'green_gmv_total', 'green_gmv_order_count', 'black_gmv_total',\n",
    "       'black_gmv_order_count', 'red_android', 'green_android',\n",
    "       'black_android', 'blue_android', 'red_apple', 'green_apple',\n",
    "       'black_apple', 'blue_apple', 'is_msk', 'red_web', 'green_web',\n",
    "       'black_web', 'blue_web']"
   ]
  },
  {
   "cell_type": "markdown",
   "id": "5435fa7d",
   "metadata": {},
   "source": [
    "Так же удалим первый столбец, так как он просто указывает на номер строки:"
   ]
  },
  {
   "cell_type": "code",
   "execution_count": 6,
   "id": "84e2e0e1",
   "metadata": {},
   "outputs": [
    {
     "data": {
      "text/html": [
       "<div>\n",
       "<style scoped>\n",
       "    .dataframe tbody tr th:only-of-type {\n",
       "        vertical-align: middle;\n",
       "    }\n",
       "\n",
       "    .dataframe tbody tr th {\n",
       "        vertical-align: top;\n",
       "    }\n",
       "\n",
       "    .dataframe thead th {\n",
       "        text-align: right;\n",
       "    }\n",
       "</style>\n",
       "<table border=\"1\" class=\"dataframe\">\n",
       "  <thead>\n",
       "    <tr style=\"text-align: right;\">\n",
       "      <th></th>\n",
       "      <th>hid</th>\n",
       "      <th>active_red</th>\n",
       "      <th>has_green_id</th>\n",
       "      <th>has_black_id</th>\n",
       "      <th>has_blue_id</th>\n",
       "      <th>blue_activity_count</th>\n",
       "      <th>blue_gmv_total</th>\n",
       "      <th>green_gmv_total</th>\n",
       "      <th>green_gmv_order_count</th>\n",
       "      <th>black_gmv_total</th>\n",
       "      <th>...</th>\n",
       "      <th>blue_android</th>\n",
       "      <th>red_apple</th>\n",
       "      <th>green_apple</th>\n",
       "      <th>black_apple</th>\n",
       "      <th>blue_apple</th>\n",
       "      <th>is_msk</th>\n",
       "      <th>red_web</th>\n",
       "      <th>green_web</th>\n",
       "      <th>black_web</th>\n",
       "      <th>blue_web</th>\n",
       "    </tr>\n",
       "  </thead>\n",
       "  <tbody>\n",
       "    <tr>\n",
       "      <th>0</th>\n",
       "      <td>00003c7fb5e57ce673f1801f3679f5c25</td>\n",
       "      <td>0.0</td>\n",
       "      <td>0.0</td>\n",
       "      <td>0.0</td>\n",
       "      <td>1.0</td>\n",
       "      <td>2.0</td>\n",
       "      <td>0.0</td>\n",
       "      <td>0.0</td>\n",
       "      <td>0.0</td>\n",
       "      <td>0.0</td>\n",
       "      <td>...</td>\n",
       "      <td>0.0</td>\n",
       "      <td>0.0</td>\n",
       "      <td>0.0</td>\n",
       "      <td>0.0</td>\n",
       "      <td>0.0</td>\n",
       "      <td>0.0</td>\n",
       "      <td>0.0</td>\n",
       "      <td>0.0</td>\n",
       "      <td>0.0</td>\n",
       "      <td>0.0</td>\n",
       "    </tr>\n",
       "    <tr>\n",
       "      <th>1</th>\n",
       "      <td>00006b602533083e3bebfcbff08613931</td>\n",
       "      <td>1.0</td>\n",
       "      <td>0.0</td>\n",
       "      <td>0.0</td>\n",
       "      <td>0.0</td>\n",
       "      <td>0.0</td>\n",
       "      <td>0.0</td>\n",
       "      <td>0.0</td>\n",
       "      <td>0.0</td>\n",
       "      <td>0.0</td>\n",
       "      <td>...</td>\n",
       "      <td>0.0</td>\n",
       "      <td>0.0</td>\n",
       "      <td>0.0</td>\n",
       "      <td>0.0</td>\n",
       "      <td>0.0</td>\n",
       "      <td>0.0</td>\n",
       "      <td>1.0</td>\n",
       "      <td>0.0</td>\n",
       "      <td>0.0</td>\n",
       "      <td>0.0</td>\n",
       "    </tr>\n",
       "    <tr>\n",
       "      <th>2</th>\n",
       "      <td>0000736c3f76339196cb1cc759b8363b</td>\n",
       "      <td>1.0</td>\n",
       "      <td>0.0</td>\n",
       "      <td>0.0</td>\n",
       "      <td>0.0</td>\n",
       "      <td>0.0</td>\n",
       "      <td>0.0</td>\n",
       "      <td>0.0</td>\n",
       "      <td>0.0</td>\n",
       "      <td>0.0</td>\n",
       "      <td>...</td>\n",
       "      <td>0.0</td>\n",
       "      <td>1.0</td>\n",
       "      <td>0.0</td>\n",
       "      <td>1.0</td>\n",
       "      <td>0.0</td>\n",
       "      <td>0.0</td>\n",
       "      <td>0.0</td>\n",
       "      <td>0.0</td>\n",
       "      <td>0.0</td>\n",
       "      <td>0.0</td>\n",
       "    </tr>\n",
       "    <tr>\n",
       "      <th>3</th>\n",
       "      <td>00009bdcc5307b38efde8690b8bd658e</td>\n",
       "      <td>0.0</td>\n",
       "      <td>0.0</td>\n",
       "      <td>0.0</td>\n",
       "      <td>0.0</td>\n",
       "      <td>0.0</td>\n",
       "      <td>0.0</td>\n",
       "      <td>0.0</td>\n",
       "      <td>0.0</td>\n",
       "      <td>0.0</td>\n",
       "      <td>...</td>\n",
       "      <td>0.0</td>\n",
       "      <td>0.0</td>\n",
       "      <td>0.0</td>\n",
       "      <td>0.0</td>\n",
       "      <td>0.0</td>\n",
       "      <td>0.0</td>\n",
       "      <td>1.0</td>\n",
       "      <td>0.0</td>\n",
       "      <td>0.0</td>\n",
       "      <td>0.0</td>\n",
       "    </tr>\n",
       "    <tr>\n",
       "      <th>4</th>\n",
       "      <td>0000bc3186b7b31d9b35d3fbbb250b9f8</td>\n",
       "      <td>1.0</td>\n",
       "      <td>0.0</td>\n",
       "      <td>0.0</td>\n",
       "      <td>0.0</td>\n",
       "      <td>0.0</td>\n",
       "      <td>0.0</td>\n",
       "      <td>0.0</td>\n",
       "      <td>0.0</td>\n",
       "      <td>0.0</td>\n",
       "      <td>...</td>\n",
       "      <td>0.0</td>\n",
       "      <td>1.0</td>\n",
       "      <td>0.0</td>\n",
       "      <td>0.0</td>\n",
       "      <td>0.0</td>\n",
       "      <td>0.0</td>\n",
       "      <td>0.0</td>\n",
       "      <td>0.0</td>\n",
       "      <td>0.0</td>\n",
       "      <td>0.0</td>\n",
       "    </tr>\n",
       "  </tbody>\n",
       "</table>\n",
       "<p>5 rows × 24 columns</p>\n",
       "</div>"
      ],
      "text/plain": [
       "                                 hid  active_red  has_green_id  has_black_id  \\\n",
       "0  00003c7fb5e57ce673f1801f3679f5c25         0.0           0.0           0.0   \n",
       "1  00006b602533083e3bebfcbff08613931         1.0           0.0           0.0   \n",
       "2   0000736c3f76339196cb1cc759b8363b         1.0           0.0           0.0   \n",
       "3   00009bdcc5307b38efde8690b8bd658e         0.0           0.0           0.0   \n",
       "4  0000bc3186b7b31d9b35d3fbbb250b9f8         1.0           0.0           0.0   \n",
       "\n",
       "   has_blue_id blue_activity_count  blue_gmv_total  green_gmv_total  \\\n",
       "0          1.0                 2.0             0.0              0.0   \n",
       "1          0.0                 0.0             0.0              0.0   \n",
       "2          0.0                 0.0             0.0              0.0   \n",
       "3          0.0                 0.0             0.0              0.0   \n",
       "4          0.0                 0.0             0.0              0.0   \n",
       "\n",
       "  green_gmv_order_count  black_gmv_total  ... blue_android  red_apple  \\\n",
       "0                   0.0              0.0  ...          0.0        0.0   \n",
       "1                   0.0              0.0  ...          0.0        0.0   \n",
       "2                   0.0              0.0  ...          0.0        1.0   \n",
       "3                   0.0              0.0  ...          0.0        0.0   \n",
       "4                   0.0              0.0  ...          0.0        1.0   \n",
       "\n",
       "   green_apple  black_apple  blue_apple  is_msk  red_web  green_web  \\\n",
       "0          0.0          0.0         0.0     0.0      0.0        0.0   \n",
       "1          0.0          0.0         0.0     0.0      1.0        0.0   \n",
       "2          0.0          1.0         0.0     0.0      0.0        0.0   \n",
       "3          0.0          0.0         0.0     0.0      1.0        0.0   \n",
       "4          0.0          0.0         0.0     0.0      0.0        0.0   \n",
       "\n",
       "   black_web  blue_web  \n",
       "0        0.0       0.0  \n",
       "1        0.0       0.0  \n",
       "2        0.0       0.0  \n",
       "3        0.0       0.0  \n",
       "4        0.0       0.0  \n",
       "\n",
       "[5 rows x 24 columns]"
      ]
     },
     "execution_count": 6,
     "metadata": {},
     "output_type": "execute_result"
    }
   ],
   "source": [
    "data = data.drop('Unnamed: 0', axis=1)\n",
    "data.head()"
   ]
  },
  {
   "cell_type": "markdown",
   "id": "1147a493",
   "metadata": {},
   "source": [
    "### Тип столбцов и пропуски"
   ]
  },
  {
   "cell_type": "markdown",
   "id": "c23bb4a9",
   "metadata": {},
   "source": [
    "На этапе знакомства с данными, методом `info()`, мы обнаружили, что некоторые столбцы имеют строковый тип данных. Изменим их на целочисленный."
   ]
  },
  {
   "cell_type": "code",
   "execution_count": 7,
   "id": "0d344cdf",
   "metadata": {},
   "outputs": [],
   "source": [
    "# data['blue_activity_count'] = pd.to_numeric(data['blue_activity_count'],\n",
    "#                                             downcast='integer')\n",
    "\n",
    "# data['green_gmv_order_count'] = pd.to_numeric(data['green_gmv_order_count'],\n",
    "#                                               downcast='integer')\n",
    "\n",
    "# data['black_gmv_order_count'] =pd.to_numeric(data['black_gmv_order_count'],\n",
    "#                                              downcast='integer')\n",
    "\n",
    "# data.info()"
   ]
  },
  {
   "cell_type": "markdown",
   "id": "391d2ab5",
   "metadata": {},
   "source": [
    "Код выше вывел ошибку. В столбцах содержатся значения, которые не переводятся в int32, посмотрим на уникальные значения этих столбцов и исправим вручную."
   ]
  },
  {
   "cell_type": "code",
   "execution_count": 8,
   "id": "0e819bc9",
   "metadata": {},
   "outputs": [
    {
     "name": "stdout",
     "output_type": "stream",
     "text": [
      "BLUE_ACTIVITY_COUNT\n",
      " ['2.0' '0.0' '1.0' '17.0' '13.0' '5.0' '6.0' '26.0' '8.0' '4.0' '27.0'\n",
      " '19.0' '12.0' '9.0' '3.0' '20.0' '10.0' '23.0' '7.0' '16.0' '14.0' '15.0'\n",
      " '53.0' datetime.datetime(2019, 5, 4, 0, 0) '32.0' '11.0' '18.0' '24.0'\n",
      " '119.0' '49.0' '39.0' '21.0' datetime.datetime(2019, 5, 7, 0, 0) '35.0'\n",
      " '72.0' '30.0' '71.0' '28.0' '42.0' '34.0' '41.0' '22.0' '29.0' '36.0'\n",
      " '90.0' '40.0' '43.0' datetime.datetime(2019, 5, 1, 0, 0) '51.0' '44.0'\n",
      " '25.0' '31.0' '45.0' '67.0' '33.0' '101.0' '74.0' '46.0' '111.0' '66.0'\n",
      " '38.0' '63.0' '100.0' '237.0' '59.0' datetime.datetime(2019, 5, 3, 0, 0)\n",
      " datetime.datetime(2019, 5, 6, 0, 0) '37.0' '47.0'] \n",
      "\n",
      "GREEN_GMV_ORDER_COUNT\n",
      " ['0.0' '2.0' '26.0' '5.0' '37.0' '3.0' '12.0' '7.0' '1.0' '6.0' '8.0'\n",
      " datetime.datetime(2019, 5, 4, 0, 0) '4.0' '40.0' '9.0' '22.0' '14.0'\n",
      " '15.0' '85.0' '25.0' '10.0' '20.0' '18.0' '11.0' '31.0' '23.0' '39.0'\n",
      " '13.0' '42.0' '127.0' '28.0' '101.0' '32.0' '30.0' '27.0' '51.0' '83.0'\n",
      " '36.0' '16.0' '64.0' '19.0' '29.0' '24.0' '52.0' '82.0' '45.0' '50.0'\n",
      " '62.0' '49.0' '21.0' '56.0' '65.0' '100.0' '76.0' '88.0' '17.0' '69.0'\n",
      " '114.0' '35.0' '125.0' '38.0' '108.0' '168.0' '84.0' '63.0' '75.0' '34.0'\n",
      " '78.0' '43.0' '60.0' datetime.datetime(2019, 5, 2, 0, 0)] \n",
      "\n",
      "BLACK_GMV_ORDER_COUNT\n",
      " ['0.0' '1.0' '4.0' '2.0' '3.0' '5.0' '8.0' '25.0' '7.0' '27.0' '6.0'\n",
      " '15.0' '9.0' '10.0' '50.0' '22.0' '13.0' '12.0' '14.0' '16.0' '20.0'\n",
      " '26.0' '11.0' '18.0' '21.0' datetime.datetime(2019, 5, 2, 0, 0) '19.0'\n",
      " '37.0' '33.0' '17.0' '35.0' '29.0' '51.0' '23.0' '42.0' '60.0' '34.0'\n",
      " '36.0' datetime.datetime(2019, 5, 6, 0, 0)] \n",
      "\n"
     ]
    }
   ],
   "source": [
    "print('BLUE_ACTIVITY_COUNT\\n', data['blue_activity_count'].unique(), '\\n')\n",
    "print('GREEN_GMV_ORDER_COUNT\\n', data['green_gmv_order_count'].unique(), '\\n')\n",
    "print('BLACK_GMV_ORDER_COUNT\\n', data['black_gmv_order_count'].unique(), '\\n')"
   ]
  },
  {
   "cell_type": "markdown",
   "id": "c8e3c798",
   "metadata": {},
   "source": [
    "В численных столбцах почему-то содержатся даты. Эти значения необходимо удалить, для этого мы сперва заменим их на *NaN*, а затем удалим."
   ]
  },
  {
   "cell_type": "code",
   "execution_count": 9,
   "id": "1cc3bae6",
   "metadata": {},
   "outputs": [],
   "source": [
    "data['blue_activity_count'] = pd.to_numeric(data['blue_activity_count'],\n",
    "                                            downcast='integer', errors='coerce')\n",
    "\n",
    "data['green_gmv_order_count'] = pd.to_numeric(data['green_gmv_order_count'],\n",
    "                                              downcast='integer', errors='coerce')\n",
    "\n",
    "data['black_gmv_order_count'] =pd.to_numeric(data['black_gmv_order_count'],\n",
    "                                             downcast='integer', errors='coerce')"
   ]
  },
  {
   "cell_type": "markdown",
   "id": "8c88a3ad",
   "metadata": {},
   "source": [
    "Удалим строки, в которых есть пропуски, и обновим индексы строк."
   ]
  },
  {
   "cell_type": "code",
   "execution_count": 10,
   "id": "dcf182d9",
   "metadata": {},
   "outputs": [
    {
     "name": "stdout",
     "output_type": "stream",
     "text": [
      "<class 'pandas.core.frame.DataFrame'>\n",
      "RangeIndex: 99986 entries, 0 to 99985\n",
      "Data columns (total 24 columns):\n",
      " #   Column                 Non-Null Count  Dtype  \n",
      "---  ------                 --------------  -----  \n",
      " 0   hid                    99986 non-null  object \n",
      " 1   active_red             99986 non-null  float64\n",
      " 2   has_green_id           99986 non-null  float64\n",
      " 3   has_black_id           99986 non-null  float64\n",
      " 4   has_blue_id            99986 non-null  float64\n",
      " 5   blue_activity_count    99986 non-null  float64\n",
      " 6   blue_gmv_total         99986 non-null  float64\n",
      " 7   green_gmv_total        99986 non-null  float64\n",
      " 8   green_gmv_order_count  99986 non-null  float64\n",
      " 9   black_gmv_total        99986 non-null  float64\n",
      " 10  black_gmv_order_count  99986 non-null  float64\n",
      " 11  red_android            99986 non-null  float64\n",
      " 12  green_android          99986 non-null  float64\n",
      " 13  black_android          99986 non-null  float64\n",
      " 14  blue_android           99986 non-null  float64\n",
      " 15  red_apple              99986 non-null  float64\n",
      " 16  green_apple            99986 non-null  float64\n",
      " 17  black_apple            99986 non-null  float64\n",
      " 18  blue_apple             99986 non-null  float64\n",
      " 19  is_msk                 99986 non-null  float64\n",
      " 20  red_web                99986 non-null  float64\n",
      " 21  green_web              99986 non-null  float64\n",
      " 22  black_web              99986 non-null  float64\n",
      " 23  blue_web               99986 non-null  float64\n",
      "dtypes: float64(23), object(1)\n",
      "memory usage: 18.3+ MB\n"
     ]
    }
   ],
   "source": [
    "data.dropna(inplace=True)\n",
    "data.reset_index(drop=True, inplace=True)\n",
    "data.info()"
   ]
  },
  {
   "cell_type": "markdown",
   "id": "22f2ee0d",
   "metadata": {},
   "source": [
    "### Столбец active_red"
   ]
  },
  {
   "cell_type": "markdown",
   "id": "fd45cca4",
   "metadata": {},
   "source": [
    "Этот столбец может принадлежать к одному из 4 типов столбцов, для начала посмотрим на значения, которые он хранит:"
   ]
  },
  {
   "cell_type": "code",
   "execution_count": 11,
   "id": "fb81e823",
   "metadata": {},
   "outputs": [
    {
     "data": {
      "text/plain": [
       "1.0    55864\n",
       "0.0    44122\n",
       "Name: active_red, dtype: int64"
      ]
     },
     "execution_count": 11,
     "metadata": {},
     "output_type": "execute_result"
    }
   ],
   "source": [
    "data['active_red'].value_counts()"
   ]
  },
  {
   "cell_type": "markdown",
   "id": "a10fe399",
   "metadata": {},
   "source": [
    "Вероятно, он принадлежит булевому типу, но сравним с некоторыми остальными столбцами, которые по идее, должны хранить в себе куда более разные значения. Определим этот столбец к тому, который будет больше похож на него."
   ]
  },
  {
   "cell_type": "code",
   "execution_count": 12,
   "id": "e3ff27f2",
   "metadata": {},
   "outputs": [],
   "source": [
    "def print_value_counts(*column_names):\n",
    "    for name in column_names:\n",
    "        print(name.upper(), '\\n', data[name].sort_values().value_counts(), '\\n')"
   ]
  },
  {
   "cell_type": "code",
   "execution_count": 13,
   "id": "bb90f19a",
   "metadata": {},
   "outputs": [
    {
     "name": "stdout",
     "output_type": "stream",
     "text": [
      "HAS_GREEN_ID \n",
      " 0.0    99104\n",
      "1.0      881\n",
      "2.0        1\n",
      "Name: has_green_id, dtype: int64 \n",
      "\n",
      "BLUE_ACTIVITY_COUNT \n",
      " 0.0      96108\n",
      "1.0       1368\n",
      "2.0        625\n",
      "3.0        425\n",
      "4.0        288\n",
      "         ...  \n",
      "67.0         1\n",
      "66.0         1\n",
      "59.0         1\n",
      "38.0         1\n",
      "237.0        1\n",
      "Name: blue_activity_count, Length: 64, dtype: int64 \n",
      "\n",
      "BLACK_GMV_TOTAL \n",
      " 0.0         98910\n",
      "1700.0          8\n",
      "1598.0          7\n",
      "1200.0          5\n",
      "2460.0          5\n",
      "            ...  \n",
      "3812.0          1\n",
      "3816.0          1\n",
      "3834.0          1\n",
      "3840.0          1\n",
      "188252.0        1\n",
      "Name: black_gmv_total, Length: 910, dtype: int64 \n",
      "\n",
      "GREEN_GMV_ORDER_COUNT \n",
      " 0.0      99104\n",
      "1.0        237\n",
      "2.0        124\n",
      "4.0         81\n",
      "3.0         70\n",
      "         ...  \n",
      "52.0         1\n",
      "56.0         1\n",
      "60.0         1\n",
      "62.0         1\n",
      "168.0        1\n",
      "Name: green_gmv_order_count, Length: 69, dtype: int64 \n",
      "\n"
     ]
    }
   ],
   "source": [
    "print_value_counts('has_green_id', 'blue_activity_count', 'black_gmv_total', 'green_gmv_order_count')"
   ]
  },
  {
   "cell_type": "markdown",
   "id": "e4d16ea5",
   "metadata": {},
   "source": [
    "Вероятно, столбец *active_red* - это наш отсутствующий столбец *has_red_id*. Однако мы нашли еще одно несоответствие: столбец *has_green_id* имеет в себе значение 2. С этим мы разберемся на следующем шаге, а сейчас определим *active_red* как *has_red_id*."
   ]
  },
  {
   "cell_type": "code",
   "execution_count": 14,
   "id": "e441512f",
   "metadata": {},
   "outputs": [],
   "source": [
    "data = data.rename(columns={'active_red': 'has_red_id'})"
   ]
  },
  {
   "cell_type": "markdown",
   "id": "d6e0f86e",
   "metadata": {},
   "source": [
    "### Уникальные значения и соответствие столбцов"
   ]
  },
  {
   "cell_type": "markdown",
   "id": "4569b620",
   "metadata": {},
   "source": [
    "Как мы уже выяснили, в данных очень много ошибок, которые предстоит убрать. На этом шаге мы разделим все столбцы на группы, выведем их уникальные значения. Мы должны убедиться в том, что названия столбцов соответствуют их содержанию, а также содержание соответствует реальности (в булевом столбце не может быть 3 разных значения)."
   ]
  },
  {
   "cell_type": "markdown",
   "id": "f1da59b8",
   "metadata": {},
   "source": [
    "#### has_company_id"
   ]
  },
  {
   "cell_type": "markdown",
   "id": "f61b9f72",
   "metadata": {},
   "source": [
    "Столбец должен иметь в себе значения 0 и 1."
   ]
  },
  {
   "cell_type": "code",
   "execution_count": 15,
   "id": "7990f6fa",
   "metadata": {},
   "outputs": [
    {
     "name": "stdout",
     "output_type": "stream",
     "text": [
      "HAS_RED_ID \n",
      " 1.0    55864\n",
      "0.0    44122\n",
      "Name: has_red_id, dtype: int64 \n",
      "\n",
      "HAS_GREEN_ID \n",
      " 0.0    99104\n",
      "1.0      881\n",
      "2.0        1\n",
      "Name: has_green_id, dtype: int64 \n",
      "\n",
      "HAS_BLUE_ID \n",
      " 0.0    86732\n",
      "1.0    12746\n",
      "2.0      495\n",
      "3.0       12\n",
      "4.0        1\n",
      "Name: has_blue_id, dtype: int64 \n",
      "\n",
      "HAS_BLACK_ID \n",
      " 0.0    98910\n",
      "1.0     1074\n",
      "2.0        2\n",
      "Name: has_black_id, dtype: int64 \n",
      "\n"
     ]
    }
   ],
   "source": [
    "print_value_counts('has_red_id', 'has_green_id', 'has_blue_id', 'has_black_id')"
   ]
  },
  {
   "cell_type": "markdown",
   "id": "2aaa25e8",
   "metadata": {},
   "source": [
    "* has_green_id имеет выброс в значении 2\n",
    "* has_black_id имеет выбросы в значении 2\n",
    "* has_blue_id имеет множество выбросов"
   ]
  },
  {
   "cell_type": "code",
   "execution_count": 16,
   "id": "9208e9da",
   "metadata": {},
   "outputs": [],
   "source": [
    "data = data[(data['has_green_id'] < 2) &\n",
    "           (data['has_blue_id'] < 2) &\n",
    "           (data['has_black_id'] < 2)]"
   ]
  },
  {
   "cell_type": "markdown",
   "id": "efc411bd",
   "metadata": {},
   "source": [
    "#### company_gmv_total"
   ]
  },
  {
   "cell_type": "code",
   "execution_count": 17,
   "id": "c0c9c42a",
   "metadata": {},
   "outputs": [
    {
     "name": "stdout",
     "output_type": "stream",
     "text": [
      "GREEN_GMV_TOTAL \n",
      " 0.0        98601\n",
      "500.0         29\n",
      "400.0         28\n",
      "900.0         14\n",
      "1000.0        13\n",
      "           ...  \n",
      "2908.0         1\n",
      "2914.0         1\n",
      "2924.0         1\n",
      "2936.0         1\n",
      "94106.0        1\n",
      "Name: green_gmv_total, Length: 672, dtype: int64 \n",
      "\n",
      "BLUE_GMV_TOTAL \n",
      " 0.0        99070\n",
      "2.0           34\n",
      "4.0           18\n",
      "12.0          15\n",
      "18.0           7\n",
      "           ...  \n",
      "392.0          1\n",
      "402.0          1\n",
      "406.0          1\n",
      "408.0          1\n",
      "32302.0        1\n",
      "Name: blue_gmv_total, Length: 224, dtype: int64 \n",
      "\n",
      "BLACK_GMV_TOTAL \n",
      " 0.0         98410\n",
      "1598.0          7\n",
      "1700.0          7\n",
      "1200.0          5\n",
      "1300.0          5\n",
      "            ...  \n",
      "3800.0          1\n",
      "3810.0          1\n",
      "3812.0          1\n",
      "3816.0          1\n",
      "188252.0        1\n",
      "Name: black_gmv_total, Length: 901, dtype: int64 \n",
      "\n"
     ]
    }
   ],
   "source": [
    "print_value_counts('green_gmv_total', 'blue_gmv_total', 'black_gmv_total')"
   ]
  },
  {
   "cell_type": "markdown",
   "id": "6d0570a0",
   "metadata": {},
   "source": [
    "Эти столбцы соответствуют своим столбцам ✅. Можно отметить что присутствуют выбросы, к этому мы вернемся на дальнейших этапах."
   ]
  },
  {
   "cell_type": "markdown",
   "id": "500d2dd7",
   "metadata": {},
   "source": [
    "#### company_gmv_order_count"
   ]
  },
  {
   "cell_type": "markdown",
   "id": "49d2e1e3",
   "metadata": {},
   "source": [
    "В этом столбце мы не ожидаем увидеть тысячные значения."
   ]
  },
  {
   "cell_type": "code",
   "execution_count": 18,
   "id": "becd8671",
   "metadata": {},
   "outputs": [
    {
     "name": "stdout",
     "output_type": "stream",
     "text": [
      "GREEN_GMV_ORDER_COUNT \n",
      " 0.0      98601\n",
      "1.0        235\n",
      "2.0        123\n",
      "4.0         81\n",
      "3.0         68\n",
      "         ...  \n",
      "52.0         1\n",
      "56.0         1\n",
      "60.0         1\n",
      "62.0         1\n",
      "168.0        1\n",
      "Name: green_gmv_order_count, Length: 69, dtype: int64 \n",
      "\n",
      "BLACK_GMV_ORDER_COUNT \n",
      " 0.0     98410\n",
      "1.0       441\n",
      "2.0       184\n",
      "3.0       116\n",
      "4.0        79\n",
      "5.0        43\n",
      "6.0        32\n",
      "8.0        28\n",
      "7.0        21\n",
      "10.0       19\n",
      "9.0        16\n",
      "12.0       13\n",
      "11.0        8\n",
      "15.0        8\n",
      "14.0        6\n",
      "26.0        5\n",
      "18.0        5\n",
      "20.0        4\n",
      "25.0        4\n",
      "13.0        4\n",
      "17.0        3\n",
      "19.0        3\n",
      "22.0        3\n",
      "16.0        3\n",
      "21.0        2\n",
      "23.0        2\n",
      "51.0        2\n",
      "35.0        2\n",
      "37.0        1\n",
      "50.0        1\n",
      "42.0        1\n",
      "29.0        1\n",
      "36.0        1\n",
      "34.0        1\n",
      "33.0        1\n",
      "27.0        1\n",
      "60.0        1\n",
      "Name: black_gmv_order_count, dtype: int64 \n",
      "\n"
     ]
    }
   ],
   "source": [
    "print_value_counts('green_gmv_order_count', 'black_gmv_order_count')"
   ]
  },
  {
   "cell_type": "markdown",
   "id": "0debec86",
   "metadata": {},
   "source": [
    "С этими столбцами все в порядке. ✅"
   ]
  },
  {
   "cell_type": "markdown",
   "id": "127c781a",
   "metadata": {},
   "source": [
    "#### company_activity_count"
   ]
  },
  {
   "cell_type": "code",
   "execution_count": 19,
   "id": "a6faecfe",
   "metadata": {},
   "outputs": [
    {
     "name": "stdout",
     "output_type": "stream",
     "text": [
      "BLUE_ACTIVITY_COUNT \n",
      " 0.0      95922\n",
      "1.0       1280\n",
      "2.0        572\n",
      "3.0        385\n",
      "4.0        260\n",
      "         ...  \n",
      "66.0         1\n",
      "59.0         1\n",
      "53.0         1\n",
      "38.0         1\n",
      "237.0        1\n",
      "Name: blue_activity_count, Length: 64, dtype: int64 \n",
      "\n"
     ]
    }
   ],
   "source": [
    "print_value_counts('blue_activity_count')"
   ]
  },
  {
   "cell_type": "markdown",
   "id": "477f941a",
   "metadata": {},
   "source": [
    "С этим столбцом все в порядке. ✅"
   ]
  },
  {
   "cell_type": "markdown",
   "id": "7858a0a5",
   "metadata": {},
   "source": [
    "#### company_android"
   ]
  },
  {
   "cell_type": "code",
   "execution_count": 20,
   "id": "47621437",
   "metadata": {},
   "outputs": [
    {
     "name": "stdout",
     "output_type": "stream",
     "text": [
      "RED_ANDROID \n",
      " 0.0    67642\n",
      "1.0    31833\n",
      "Name: red_android, dtype: int64 \n",
      "\n",
      "BLUE_ANDROID \n",
      " 0.0    91658\n",
      "1.0     7817\n",
      "Name: blue_android, dtype: int64 \n",
      "\n",
      "GREEN_ANDROID \n",
      " 0.0    98937\n",
      "1.0      538\n",
      "Name: green_android, dtype: int64 \n",
      "\n",
      "BLACK_ANDROID \n",
      " 0.0    98413\n",
      "1.0     1062\n",
      "Name: black_android, dtype: int64 \n",
      "\n"
     ]
    }
   ],
   "source": [
    "print_value_counts('red_android', 'blue_android', 'green_android', 'black_android')"
   ]
  },
  {
   "cell_type": "markdown",
   "id": "bd8b2528",
   "metadata": {},
   "source": [
    "С этими столбцами все в порядке. ✅"
   ]
  },
  {
   "cell_type": "markdown",
   "id": "de59321e",
   "metadata": {},
   "source": [
    "#### company_apple"
   ]
  },
  {
   "cell_type": "code",
   "execution_count": 21,
   "id": "553376e7",
   "metadata": {},
   "outputs": [
    {
     "name": "stdout",
     "output_type": "stream",
     "text": [
      "RED_APPLE \n",
      " 0.0    88707\n",
      "1.0    10768\n",
      "Name: red_apple, dtype: int64 \n",
      "\n",
      "BLUE_APPLE \n",
      " 0.0    94926\n",
      "1.0     4549\n",
      "Name: blue_apple, dtype: int64 \n",
      "\n",
      "GREEN_APPLE \n",
      " 0.0    98865\n",
      "1.0      610\n",
      "Name: green_apple, dtype: int64 \n",
      "\n",
      "BLACK_APPLE \n",
      " 0.0    97718\n",
      "1.0     1757\n",
      "Name: black_apple, dtype: int64 \n",
      "\n"
     ]
    }
   ],
   "source": [
    "print_value_counts('red_apple', 'blue_apple', 'green_apple', 'black_apple')"
   ]
  },
  {
   "cell_type": "markdown",
   "id": "539376f5",
   "metadata": {},
   "source": [
    "С этими столбцами все в порядке. ✅"
   ]
  },
  {
   "cell_type": "markdown",
   "id": "082b0451",
   "metadata": {},
   "source": [
    "#### company_web"
   ]
  },
  {
   "cell_type": "code",
   "execution_count": 22,
   "id": "fa86843e",
   "metadata": {},
   "outputs": [
    {
     "name": "stdout",
     "output_type": "stream",
     "text": [
      "RED_WEB \n",
      " 1.0    66680\n",
      "0.0    32795\n",
      "Name: red_web, dtype: int64 \n",
      "\n",
      "BLUE_WEB \n",
      " 0.0    89012\n",
      "1.0    10463\n",
      "Name: blue_web, dtype: int64 \n",
      "\n",
      "GREEN_WEB \n",
      " 0.0    99279\n",
      "1.0      196\n",
      "Name: green_web, dtype: int64 \n",
      "\n",
      "BLACK_WEB \n",
      " 0.0    98022\n",
      "1.0     1453\n",
      "Name: black_web, dtype: int64 \n",
      "\n"
     ]
    }
   ],
   "source": [
    "print_value_counts('red_web', 'blue_web', 'green_web', 'black_web')"
   ]
  },
  {
   "cell_type": "markdown",
   "id": "bd2af76a",
   "metadata": {},
   "source": [
    "С этими столбцами все в порядке. ✅"
   ]
  },
  {
   "cell_type": "markdown",
   "id": "39983f8c",
   "metadata": {},
   "source": [
    "### Дубликаты"
   ]
  },
  {
   "cell_type": "markdown",
   "id": "a41e3f9e",
   "metadata": {},
   "source": [
    "Раз мы нашли столько ошибок в данных, стоит проверить их на наличие дубликатов. Дубликаты мы будем проверять по столбцу *hid*, так как идентификатор пользователя должен быть всего один."
   ]
  },
  {
   "cell_type": "code",
   "execution_count": 23,
   "id": "9e1f3845",
   "metadata": {},
   "outputs": [
    {
     "data": {
      "text/plain": [
       "0"
      ]
     },
     "execution_count": 23,
     "metadata": {},
     "output_type": "execute_result"
    }
   ],
   "source": [
    "data['hid'].duplicated().sum()"
   ]
  },
  {
   "cell_type": "markdown",
   "id": "ae9460e3",
   "metadata": {},
   "source": [
    "Дубликаты отсутствуют. ✅"
   ]
  },
  {
   "cell_type": "markdown",
   "id": "3206602b",
   "metadata": {},
   "source": [
    "## Исследование"
   ]
  },
  {
   "cell_type": "markdown",
   "id": "b6fc3b32",
   "metadata": {},
   "source": [
    "В таблице есть информация о метрике *GMV (Gross Merchandise Volume)*. Эта метрика показывает общий объем продаж. С ее помощью можно определить *AOV (Average Order Value или средняя сумма транзакции)*, а также *концентрацию GMV*, что покажет активность пользователей в компании."
   ]
  },
  {
   "cell_type": "code",
   "execution_count": 24,
   "id": "b1232125",
   "metadata": {},
   "outputs": [
    {
     "ename": "KeyError",
     "evalue": "'red_gmv_total'",
     "output_type": "error",
     "traceback": [
      "\u001b[1;31m---------------------------------------------------------------------------\u001b[0m",
      "\u001b[1;31mKeyError\u001b[0m                                  Traceback (most recent call last)",
      "\u001b[1;32m~\\anaconda3\\lib\\site-packages\\pandas\\core\\indexes\\base.py\u001b[0m in \u001b[0;36mget_loc\u001b[1;34m(self, key, method, tolerance)\u001b[0m\n\u001b[0;32m   3628\u001b[0m             \u001b[1;32mtry\u001b[0m\u001b[1;33m:\u001b[0m\u001b[1;33m\u001b[0m\u001b[1;33m\u001b[0m\u001b[0m\n\u001b[1;32m-> 3629\u001b[1;33m                 \u001b[1;32mreturn\u001b[0m \u001b[0mself\u001b[0m\u001b[1;33m.\u001b[0m\u001b[0m_engine\u001b[0m\u001b[1;33m.\u001b[0m\u001b[0mget_loc\u001b[0m\u001b[1;33m(\u001b[0m\u001b[0mcasted_key\u001b[0m\u001b[1;33m)\u001b[0m\u001b[1;33m\u001b[0m\u001b[1;33m\u001b[0m\u001b[0m\n\u001b[0m\u001b[0;32m   3630\u001b[0m             \u001b[1;32mexcept\u001b[0m \u001b[0mKeyError\u001b[0m \u001b[1;32mas\u001b[0m \u001b[0merr\u001b[0m\u001b[1;33m:\u001b[0m\u001b[1;33m\u001b[0m\u001b[1;33m\u001b[0m\u001b[0m\n",
      "\u001b[1;32m~\\anaconda3\\lib\\site-packages\\pandas\\_libs\\index.pyx\u001b[0m in \u001b[0;36mpandas._libs.index.IndexEngine.get_loc\u001b[1;34m()\u001b[0m\n",
      "\u001b[1;32m~\\anaconda3\\lib\\site-packages\\pandas\\_libs\\index.pyx\u001b[0m in \u001b[0;36mpandas._libs.index.IndexEngine.get_loc\u001b[1;34m()\u001b[0m\n",
      "\u001b[1;32mpandas\\_libs\\hashtable_class_helper.pxi\u001b[0m in \u001b[0;36mpandas._libs.hashtable.PyObjectHashTable.get_item\u001b[1;34m()\u001b[0m\n",
      "\u001b[1;32mpandas\\_libs\\hashtable_class_helper.pxi\u001b[0m in \u001b[0;36mpandas._libs.hashtable.PyObjectHashTable.get_item\u001b[1;34m()\u001b[0m\n",
      "\u001b[1;31mKeyError\u001b[0m: 'red_gmv_total'",
      "\nThe above exception was the direct cause of the following exception:\n",
      "\u001b[1;31mKeyError\u001b[0m                                  Traceback (most recent call last)",
      "\u001b[1;32m~\\AppData\\Local\\Temp\\ipykernel_11852\\2620801232.py\u001b[0m in \u001b[0;36m<module>\u001b[1;34m\u001b[0m\n\u001b[0;32m      4\u001b[0m \u001b[0mplt\u001b[0m\u001b[1;33m.\u001b[0m\u001b[0msubplot\u001b[0m\u001b[1;33m(\u001b[0m\u001b[1;36m1\u001b[0m\u001b[1;33m,\u001b[0m\u001b[1;36m1\u001b[0m\u001b[1;33m,\u001b[0m\u001b[1;36m1\u001b[0m\u001b[1;33m)\u001b[0m\u001b[1;33m\u001b[0m\u001b[1;33m\u001b[0m\u001b[0m\n\u001b[0;32m      5\u001b[0m \u001b[0mplt\u001b[0m\u001b[1;33m.\u001b[0m\u001b[0mtitle\u001b[0m\u001b[1;33m(\u001b[0m\u001b[1;34m'Red GMV histogram'\u001b[0m\u001b[1;33m)\u001b[0m\u001b[1;33m\u001b[0m\u001b[1;33m\u001b[0m\u001b[0m\n\u001b[1;32m----> 6\u001b[1;33m \u001b[0msns\u001b[0m\u001b[1;33m.\u001b[0m\u001b[0mhistplot\u001b[0m\u001b[1;33m(\u001b[0m\u001b[0mdata\u001b[0m\u001b[1;33m[\u001b[0m\u001b[1;34m'red_gmv_total'\u001b[0m\u001b[1;33m]\u001b[0m\u001b[1;33m,\u001b[0m \u001b[0mlabel\u001b[0m\u001b[1;33m=\u001b[0m\u001b[1;34m'red'\u001b[0m\u001b[1;33m,\u001b[0m \u001b[0mcolor\u001b[0m\u001b[1;33m=\u001b[0m\u001b[1;34m'red'\u001b[0m\u001b[1;33m)\u001b[0m\u001b[1;33m\u001b[0m\u001b[1;33m\u001b[0m\u001b[0m\n\u001b[0m",
      "\u001b[1;32m~\\anaconda3\\lib\\site-packages\\pandas\\core\\frame.py\u001b[0m in \u001b[0;36m__getitem__\u001b[1;34m(self, key)\u001b[0m\n\u001b[0;32m   3503\u001b[0m             \u001b[1;32mif\u001b[0m \u001b[0mself\u001b[0m\u001b[1;33m.\u001b[0m\u001b[0mcolumns\u001b[0m\u001b[1;33m.\u001b[0m\u001b[0mnlevels\u001b[0m \u001b[1;33m>\u001b[0m \u001b[1;36m1\u001b[0m\u001b[1;33m:\u001b[0m\u001b[1;33m\u001b[0m\u001b[1;33m\u001b[0m\u001b[0m\n\u001b[0;32m   3504\u001b[0m                 \u001b[1;32mreturn\u001b[0m \u001b[0mself\u001b[0m\u001b[1;33m.\u001b[0m\u001b[0m_getitem_multilevel\u001b[0m\u001b[1;33m(\u001b[0m\u001b[0mkey\u001b[0m\u001b[1;33m)\u001b[0m\u001b[1;33m\u001b[0m\u001b[1;33m\u001b[0m\u001b[0m\n\u001b[1;32m-> 3505\u001b[1;33m             \u001b[0mindexer\u001b[0m \u001b[1;33m=\u001b[0m \u001b[0mself\u001b[0m\u001b[1;33m.\u001b[0m\u001b[0mcolumns\u001b[0m\u001b[1;33m.\u001b[0m\u001b[0mget_loc\u001b[0m\u001b[1;33m(\u001b[0m\u001b[0mkey\u001b[0m\u001b[1;33m)\u001b[0m\u001b[1;33m\u001b[0m\u001b[1;33m\u001b[0m\u001b[0m\n\u001b[0m\u001b[0;32m   3506\u001b[0m             \u001b[1;32mif\u001b[0m \u001b[0mis_integer\u001b[0m\u001b[1;33m(\u001b[0m\u001b[0mindexer\u001b[0m\u001b[1;33m)\u001b[0m\u001b[1;33m:\u001b[0m\u001b[1;33m\u001b[0m\u001b[1;33m\u001b[0m\u001b[0m\n\u001b[0;32m   3507\u001b[0m                 \u001b[0mindexer\u001b[0m \u001b[1;33m=\u001b[0m \u001b[1;33m[\u001b[0m\u001b[0mindexer\u001b[0m\u001b[1;33m]\u001b[0m\u001b[1;33m\u001b[0m\u001b[1;33m\u001b[0m\u001b[0m\n",
      "\u001b[1;32m~\\anaconda3\\lib\\site-packages\\pandas\\core\\indexes\\base.py\u001b[0m in \u001b[0;36mget_loc\u001b[1;34m(self, key, method, tolerance)\u001b[0m\n\u001b[0;32m   3629\u001b[0m                 \u001b[1;32mreturn\u001b[0m \u001b[0mself\u001b[0m\u001b[1;33m.\u001b[0m\u001b[0m_engine\u001b[0m\u001b[1;33m.\u001b[0m\u001b[0mget_loc\u001b[0m\u001b[1;33m(\u001b[0m\u001b[0mcasted_key\u001b[0m\u001b[1;33m)\u001b[0m\u001b[1;33m\u001b[0m\u001b[1;33m\u001b[0m\u001b[0m\n\u001b[0;32m   3630\u001b[0m             \u001b[1;32mexcept\u001b[0m \u001b[0mKeyError\u001b[0m \u001b[1;32mas\u001b[0m \u001b[0merr\u001b[0m\u001b[1;33m:\u001b[0m\u001b[1;33m\u001b[0m\u001b[1;33m\u001b[0m\u001b[0m\n\u001b[1;32m-> 3631\u001b[1;33m                 \u001b[1;32mraise\u001b[0m \u001b[0mKeyError\u001b[0m\u001b[1;33m(\u001b[0m\u001b[0mkey\u001b[0m\u001b[1;33m)\u001b[0m \u001b[1;32mfrom\u001b[0m \u001b[0merr\u001b[0m\u001b[1;33m\u001b[0m\u001b[1;33m\u001b[0m\u001b[0m\n\u001b[0m\u001b[0;32m   3632\u001b[0m             \u001b[1;32mexcept\u001b[0m \u001b[0mTypeError\u001b[0m\u001b[1;33m:\u001b[0m\u001b[1;33m\u001b[0m\u001b[1;33m\u001b[0m\u001b[0m\n\u001b[0;32m   3633\u001b[0m                 \u001b[1;31m# If we have a listlike key, _check_indexing_error will raise\u001b[0m\u001b[1;33m\u001b[0m\u001b[1;33m\u001b[0m\u001b[0m\n",
      "\u001b[1;31mKeyError\u001b[0m: 'red_gmv_total'"
     ]
    },
    {
     "data": {
      "image/png": "[encoded data removed]",
      "text/plain": [
       "<Figure size 640x480 with 1 Axes>"
      ]
     },
     "metadata": {},
     "output_type": "display_data"
    }
   ],
   "source": [
    "plt.subplots(nrows=4)\n",
    "plt.grid()\n",
    "\n",
    "plt.subplot(1,1,1)\n",
    "plt.title('Red GMV histogram')\n",
    "sns.histplot(data['red_gmv_total'], label='red', color='red')"
   ]
  },
  {
   "cell_type": "code",
   "execution_count": null,
   "id": "a6a24701",
   "metadata": {},
   "outputs": [],
   "source": []
  },
  {
   "cell_type": "code",
   "execution_count": null,
   "id": "68f074a6",
   "metadata": {},
   "outputs": [],
   "source": []
  },
  {
   "cell_type": "code",
   "execution_count": null,
   "id": "2202e1d6",
   "metadata": {},
   "outputs": [],
   "source": []
  }
 ],
 "metadata": {
  "kernelspec": {
   "display_name": "Python 3 (ipykernel)",
   "language": "python",
   "name": "python3"
  },
  "language_info": {
   "codemirror_mode": {
    "name": "ipython",
    "version": 3
   },
   "file_extension": ".py",
   "mimetype": "text/x-python",
   "name": "python",
   "nbconvert_exporter": "python",
   "pygments_lexer": "ipython3",
   "version": "3.9.13"
  }
 },
 "nbformat": 4,
 "nbformat_minor": 5
}
